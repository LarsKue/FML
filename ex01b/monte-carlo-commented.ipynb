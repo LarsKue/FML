{
 "cells": [
  {
   "cell_type": "markdown",
   "metadata": {},
   "source": [
    "# Exercise 1a\n",
    "#### Lars Kühmichel, Ergin Kohen Sagner, Nicolas Wolf\n",
    "\n",
    "## 1 Monte-Carlo Simulation\n",
    "### 1.1 Data Creation and Visualization\n",
    "#### Inverse Transform Sampling\n",
    "For $Y = 1$, it holds that $P(X = x) = 2x$. The CDF for $P$ is given as\n",
    "$CDF(X \\leq x) = \\int_0^x 2x' \\,dx' = x^2$.\n",
    "With Inverse Transform Sampling, $X$ is then given by $CDF^{-1}(u) = \\sqrt{u}$ where $u$ is\n",
    "sampled from a uniform distribution in the interval $[0, 1]$.\n",
    "\n",
    "For $Y = 0$, it holds that $P(x = x) = 2 - 2x$. The CDF for $P$ is then\n",
    "$CDF(X \\leq x) = \\int_0^x 2 - 2x' \\, dx' = 2x - x^2$. Analogously, $X$ is then given by $1 - \\sqrt{1 - u}$."
   ]
  },
  {
   "cell_type": "code",
   "execution_count": 15,
   "metadata": {
    "pycharm": {
     "name": "#%%\n"
    }
   },
   "outputs": [],
   "source": [
    "import numpy as np\n",
    "from typing import Tuple\n",
    "from scipy.optimize import curve_fit\n",
    "from uncertainties import ufloat\n",
    "from matplotlib import pyplot as plt"
   ]
  },
  {
   "cell_type": "markdown",
   "source": [
    "<div style=\"color:green; font-weight: bold\">\n",
    "This solution is faster than the sample solution since it\n",
    "initializes the full array with numpy (which is written in C) rather\n",
    "than iterating over individual elements in python (which is slow).\n",
    "\n",
    "This is also true for other parts of the code, but I will not mention it anymore.\n",
    "</div>"
   ],
   "metadata": {
    "collapsed": false,
    "pycharm": {
     "name": "#%% md\n"
    }
   }
  },
  {
   "cell_type": "code",
   "execution_count": 16,
   "outputs": [],
   "source": [
    "def create_features(labels: np.ndarray) -> np.ndarray:\n",
    "    features = np.random.uniform(0, 1, size=labels.shape)\n",
    "    features = np.where(labels, np.sqrt(features), 1 - np.sqrt(1 - features))\n",
    "\n",
    "    return features\n",
    "\n",
    "\n",
    "def create_data(N: int) -> Tuple[np.ndarray, np.ndarray]:\n",
    "    # randint is high exclusive\n",
    "    labels = np.random.randint(0, 2, size=N).astype(bool)\n",
    "\n",
    "    features = create_features(labels)\n",
    "\n",
    "    return features, labels"
   ],
   "metadata": {
    "collapsed": false,
    "pycharm": {
     "name": "#%%\n"
    }
   }
  },
  {
   "cell_type": "markdown",
   "source": [
    "<div style=\"color:green; font-weight: bold\">\n",
    "This code is effectively equivalent to the sample solution.\n",
    "It is sufficient to only plot distribution histograms for X | Y = 0\n",
    "and X | Y = 1, since implementing the uniform distribution for Y is trivial\n",
    "and the cumulative distributions follow directly from the non-cumulative ones.\n",
    "</div>"
   ],
   "metadata": {
    "collapsed": false
   }
  },
  {
   "cell_type": "code",
   "execution_count": 17,
   "outputs": [
    {
     "data": {
      "text/plain": "<Figure size 864x216 with 2 Axes>",
      "image/png": "[encoded data removed]"
     },
     "metadata": {
      "needs_background": "light"
     },
     "output_type": "display_data"
    }
   ],
   "source": [
    "n = 10000\n",
    "\n",
    "x, y = create_data(n)\n",
    "\n",
    "# verify x and y are created correctly\n",
    "fig, axes = plt.subplots(1, 2, figsize=(12, 3))\n",
    "axes[0].hist(x[y], bins=100)\n",
    "axes[0].set_title(\"X | Y = 1\")\n",
    "axes[0].set_xlabel(\"X\")\n",
    "axes[1].hist(x[~y], bins=100)\n",
    "axes[1].set_title(\"X | Y = 0\")\n",
    "axes[1].set_xlabel(\"X\")\n",
    "plt.show()"
   ],
   "metadata": {
    "collapsed": false,
    "pycharm": {
     "name": "#%%\n"
    }
   }
  },
  {
   "cell_type": "markdown",
   "metadata": {},
   "source": [
    "### 1.2 Classification by Thresholding\n",
    "\n",
    "We have experimentally confirmed the error rates, including the minimum at $x_t = 0.5$.\n",
    "From the results, it can be presumed that the standard deviation in the error decreases with $\\frac{1}{\\sqrt{M}}$,\n",
    "since multiplying $M$ by $10$ roughly divides the standard deviation by $3$.\n",
    "This is further confirmed by the graphs we generated, including the fit and also coincides\n",
    "with theoretical expectations of such."
   ]
  },
  {
   "cell_type": "code",
   "execution_count": 17,
   "metadata": {
    "pycharm": {
     "name": "#%%\n"
    }
   },
   "outputs": [],
   "source": []
  },
  {
   "cell_type": "markdown",
   "source": [
    "<div style=\"color:green; font-weight: bold\">\n",
    "This code is equivalent to the sample solution.\n",
    "I opted to write it as a class instead of a function for expandability.\n",
    "</div>"
   ],
   "metadata": {
    "collapsed": false
   }
  },
  {
   "cell_type": "code",
   "execution_count": 18,
   "outputs": [],
   "source": [
    "class ClassifierTest:\n",
    "    def __init__(self, data_creator, classifier):\n",
    "        \"\"\"\n",
    "        Classifier Test Class\n",
    "        :param data_creator: Callable that returns features and labels\n",
    "        :param classifier: Callable that takes features and returns guesses for labels\n",
    "        \"\"\"\n",
    "        self.data_creator = data_creator\n",
    "        self.classifier = classifier\n",
    "\n",
    "    def run(self, iterations, creator_args=None, creator_kwargs=None, classifier_args=None, classifier_kwargs=None):\n",
    "        if creator_args is None:\n",
    "\t        creator_args = []\n",
    "        if creator_kwargs is None:\n",
    "\t        creator_kwargs = {}\n",
    "        if classifier_args is None:\n",
    "            classifier_args = []\n",
    "        if classifier_kwargs is None:\n",
    "            classifier_kwargs = {}\n",
    "\n",
    "        errors = []\n",
    "\n",
    "        for _ in range(iterations):\n",
    "            features, labels = self.data_creator(*creator_args, **creator_kwargs)\n",
    "\n",
    "            classified = self.classifier(features, *classifier_args, **classifier_kwargs)\n",
    "\n",
    "            incorrect = classified != labels\n",
    "\n",
    "            error = np.mean(incorrect.astype(float))\n",
    "\n",
    "            errors.append(error)\n",
    "\n",
    "        return np.array(errors), np.mean(errors), np.std(errors)"
   ],
   "metadata": {
    "collapsed": false,
    "pycharm": {
     "name": "#%%\n"
    }
   }
  },
  {
   "cell_type": "markdown",
   "source": [
    "<div style=\"color:green; font-weight: bold\">\n",
    "These classifier functions are slightly more elegant than the sample solution\n",
    "since they do not require an if-statement, but are otherwise\n",
    "nearly equivalent. The only difference is that these return\n",
    "booleans instead of integers, but type conversion is trivial.\n",
    "</div>"
   ],
   "metadata": {
    "collapsed": false
   }
  },
  {
   "cell_type": "code",
   "execution_count": 19,
   "outputs": [],
   "source": [
    "def tc(x, x_t):\n",
    "    return x >= x_t\n",
    "\n",
    "def tac(x, x_t):\n",
    "    return x < x_t\n",
    "\n",
    "def std_fit_func(M, a):\n",
    "    return a / np.sqrt(M)\n",
    "\n",
    "def r_sq(data, fit):\n",
    "    \"\"\"\n",
    "    R^2 Goodness of Fit Test\n",
    "    Good fits return values close to 1.\n",
    "    See also: https://en.wikipedia.org/wiki/Coefficient_of_determination\n",
    "    \"\"\"\n",
    "    ss_res = np.sum((data - fit) ** 2)\n",
    "    ss_tot = np.sum((data - np.mean(data)) ** 2)\n",
    "\n",
    "    return 1 - (ss_res / ss_tot)\n",
    "\n",
    "x_ts = [0.2, 0.5, 0.6]\n",
    "Ms = [10, 100, 1000, 10_000]"
   ],
   "metadata": {
    "collapsed": false,
    "pycharm": {
     "name": "#%%\n"
    }
   }
  },
  {
   "cell_type": "markdown",
   "source": [
    "<div style=\"color:green; font-weight: bold\">\n",
    "We print the data instead of using Pandas for a DataFrame,\n",
    "which makes it slightly harder to get a good overview of the data,\n",
    "but is otherwise equivalent.\n",
    "Our plots are equivalent to the sample solution's, except for some formatting.\n",
    "We did not plot the error rate mean, since we confirmed its minimal value numerically only.\n",
    "</div>"
   ],
   "metadata": {
    "collapsed": false
   }
  },
  {
   "cell_type": "code",
   "execution_count": 20,
   "outputs": [
    {
     "name": "stdout",
     "output_type": "stream",
     "text": [
      "=========================\n",
      "x_t = 0.2\n",
      "=========================\n",
      "M = 10\n",
      "Expected Error TC = 0.34\n",
      "Actual Error TC = 0.40+/-0.19\n",
      "Expected Error TAC = 0.66\n",
      "Actual Error TAC = 0.62+/-0.18\n",
      "\n",
      "M = 100\n",
      "Expected Error TC = 0.34\n",
      "Actual Error TC = 0.33+/-0.04\n",
      "Expected Error TAC = 0.66\n",
      "Actual Error TAC = 0.666+/-0.031\n",
      "\n",
      "M = 1000\n",
      "Expected Error TC = 0.34\n",
      "Actual Error TC = 0.340+/-0.011\n",
      "Expected Error TAC = 0.66\n",
      "Actual Error TAC = 0.665+/-0.012\n",
      "\n",
      "M = 10000\n",
      "Expected Error TC = 0.34\n",
      "Actual Error TC = 0.3408+/-0.0034\n",
      "Expected Error TAC = 0.66\n",
      "Actual Error TAC = 0.6612+/-0.0025\n",
      "\n",
      "=========================\n",
      "x_t = 0.5\n",
      "=========================\n",
      "M = 10\n",
      "Expected Error TC = 0.25\n",
      "Actual Error TC = 0.21+/-0.12\n",
      "Expected Error TAC = 0.75\n",
      "Actual Error TAC = 0.78+/-0.10\n",
      "\n",
      "M = 100\n",
      "Expected Error TC = 0.25\n",
      "Actual Error TC = 0.228+/-0.032\n",
      "Expected Error TAC = 0.75\n",
      "Actual Error TAC = 0.74+/-0.05\n",
      "\n",
      "M = 1000\n",
      "Expected Error TC = 0.25\n",
      "Actual Error TC = 0.242+/-0.013\n",
      "Expected Error TAC = 0.75\n",
      "Actual Error TAC = 0.754+/-0.011\n",
      "\n",
      "M = 10000\n",
      "Expected Error TC = 0.25\n",
      "Actual Error TC = 0.250+/-0.005\n",
      "Expected Error TAC = 0.75\n",
      "Actual Error TAC = 0.749+/-0.004\n",
      "\n",
      "=========================\n",
      "x_t = 0.6\n",
      "=========================\n",
      "M = 10\n",
      "Expected Error TC = 0.26\n",
      "Actual Error TC = 0.28+/-0.12\n",
      "Expected Error TAC = 0.74\n",
      "Actual Error TAC = 0.72+/-0.13\n",
      "\n",
      "M = 100\n",
      "Expected Error TC = 0.26\n",
      "Actual Error TC = 0.25+/-0.05\n",
      "Expected Error TAC = 0.74\n",
      "Actual Error TAC = 0.74+/-0.04\n",
      "\n",
      "M = 1000\n",
      "Expected Error TC = 0.26\n",
      "Actual Error TC = 0.260+/-0.015\n",
      "Expected Error TAC = 0.74\n",
      "Actual Error TAC = 0.735+/-0.014\n",
      "\n",
      "M = 10000\n",
      "Expected Error TC = 0.26\n",
      "Actual Error TC = 0.263+/-0.006\n",
      "Expected Error TAC = 0.74\n",
      "Actual Error TAC = 0.7386+/-0.0030\n",
      "\n"
     ]
    },
    {
     "data": {
      "text/plain": "<Figure size 864x216 with 2 Axes>",
      "image/png": "[encoded data removed]"
     },
     "metadata": {
      "needs_background": "light"
     },
     "output_type": "display_data"
    },
    {
     "data": {
      "text/plain": "<Figure size 864x216 with 2 Axes>",
      "image/png": "[encoded data removed]"
     },
     "metadata": {
      "needs_background": "light"
     },
     "output_type": "display_data"
    },
    {
     "data": {
      "text/plain": "<Figure size 864x216 with 2 Axes>",
      "image/png": "[encoded data removed]"
     },
     "metadata": {
      "needs_background": "light"
     },
     "output_type": "display_data"
    }
   ],
   "source": [
    "for x_t in x_ts:\n",
    "    print(\"=========================\")\n",
    "    print(f\"x_t = {x_t}\")\n",
    "    print(\"=========================\")\n",
    "\n",
    "    stds_tc = []\n",
    "    stds_tac = []\n",
    "    for M in Ms:\n",
    "        predicted_error_tc = 0.25 + (x_t - 0.5) ** 2\n",
    "        predicted_error_tac = 1 - predicted_error_tc\n",
    "\n",
    "        tc_test = ClassifierTest(create_data, tc)\n",
    "        tac_test = ClassifierTest(create_data, tac)\n",
    "\n",
    "        errors_tc, mean_tc, std_tc = tc_test.run(\n",
    "            iterations=10,\n",
    "            creator_args=[M],\n",
    "            creator_kwargs=None,\n",
    "            classifier_args=[x_t],\n",
    "            classifier_kwargs=None\n",
    "        )\n",
    "\n",
    "        errors_tac, mean_tac, std_tac = tac_test.run(\n",
    "            iterations=10,\n",
    "            creator_args=[M],\n",
    "            creator_kwargs=None,\n",
    "            classifier_args=[x_t],\n",
    "            classifier_kwargs=None\n",
    "        )\n",
    "\n",
    "        stds_tc.append(std_tc)\n",
    "        stds_tac.append(std_tac)\n",
    "\n",
    "        # pretty printing\n",
    "        print(f\"M = {M}\")\n",
    "        print(f\"Expected Error TC = {predicted_error_tc:.2f}\")\n",
    "        print(f\"Actual Error TC = {ufloat(mean_tc, std_tc)}\")\n",
    "        print(f\"Expected Error TAC = {predicted_error_tac}\")\n",
    "        print(f\"Actual Error TAC = {ufloat(mean_tac, std_tac)}\")\n",
    "        print()\n",
    "\n",
    "    popt_tc, pcov_tc = curve_fit(std_fit_func, Ms, stds_tc)\n",
    "    popt_tac, pcov_tac = curve_fit(std_fit_func, Ms, stds_tac)\n",
    "\n",
    "    fig, axes = plt.subplots(1, 2, figsize=(12, 3))\n",
    "\n",
    "    r2_tc = r_sq(stds_tc, std_fit_func(Ms, *popt_tc))\n",
    "    r2_tac = r_sq(stds_tac, std_fit_func(Ms, *popt_tac))\n",
    "\n",
    "    plot_x = np.linspace(min(Ms), max(Ms), 1000)\n",
    "    axes[0].plot(plot_x, std_fit_func(plot_x, *popt_tc), label=f\"Fit TC $(r^2 = {r2_tc:.3f})$\")\n",
    "    axes[1].plot(plot_x, std_fit_func(plot_x, *popt_tac), label=f\"Fit TAC $(r^2 = {r2_tac:.3f})$\")\n",
    "\n",
    "    del plot_x\n",
    "\n",
    "    axes[0].plot(Ms, stds_tc, lw=0, marker=\"o\", label=\"Threshold Classifier\")\n",
    "    axes[1].plot(Ms, stds_tac, lw=0, marker=\"o\", label=\"Threshold Anti-Classifier\")\n",
    "\n",
    "    fig.suptitle(f\"$x_t = {x_t}$\")\n",
    "    for ax in axes:\n",
    "        ax.set_xlabel(\"M\")\n",
    "        ax.set_ylabel(r\"$\\sigma$\")\n",
    "        ax.set_xscale(\"log\")\n",
    "        ax.legend()\n",
    "    plt.show()\n",
    "\n"
   ],
   "metadata": {
    "collapsed": false,
    "pycharm": {
     "name": "#%%\n"
    }
   }
  },
  {
   "cell_type": "markdown",
   "metadata": {},
   "source": [
    "### 1.3 Baseline Classifiers\n",
    "\n",
    "We can confirm the expected error rate of $50\\%$."
   ]
  },
  {
   "cell_type": "code",
   "execution_count": 20,
   "metadata": {
    "pycharm": {
     "name": "#%%\n"
    }
   },
   "outputs": [],
   "source": []
  },
  {
   "cell_type": "markdown",
   "source": [
    "<div style=\"color:green; font-weight: bold\">\n",
    "These classifiers are equivalent to the sample solution\n",
    "</div>"
   ],
   "metadata": {
    "collapsed": false
   }
  },
  {
   "cell_type": "code",
   "execution_count": 21,
   "outputs": [
    {
     "data": {
      "text/plain": "<Figure size 864x432 with 4 Axes>",
      "image/png": "[encoded data removed]"
     },
     "metadata": {
      "needs_background": "light"
     },
     "output_type": "display_data"
    }
   ],
   "source": [
    "def guessing(x):\n",
    "    return np.random.choice([True, False], size=x.shape)\n",
    "\n",
    "def constant(x):\n",
    "    return np.ones_like(x).astype(bool)\n",
    "\n",
    "Ms = np.logspace(1, 6, 30, dtype=int)\n",
    "means_g = []\n",
    "stds_g = []\n",
    "means_c = []\n",
    "stds_c = []\n",
    "\n",
    "for M in Ms:\n",
    "    guessing_test = ClassifierTest(create_data, guessing)\n",
    "    constant_test = ClassifierTest(create_data, constant)\n",
    "\n",
    "    errors_g, mean_g, std_g = guessing_test.run(\n",
    "        iterations=10,\n",
    "        creator_args=[M],\n",
    "        creator_kwargs=None,\n",
    "        classifier_args=None,\n",
    "        classifier_kwargs=None\n",
    "    )\n",
    "\n",
    "    errors_c, mean_c, std_c = constant_test.run(\n",
    "        iterations=10,\n",
    "        creator_args=[M],\n",
    "        creator_kwargs=None,\n",
    "        classifier_args=None,\n",
    "        classifier_kwargs=None\n",
    "    )\n",
    "\n",
    "    # print(f\"M = {M}\")\n",
    "    # print(f\"Error Guessing = {ufloat(mean_g, std_g)}\")\n",
    "    # print(f\"Error Constant = {ufloat(mean_c, std_c)}\")\n",
    "\n",
    "    means_g.append(mean_g)\n",
    "    stds_g.append(std_g)\n",
    "\n",
    "    means_c.append(mean_c)\n",
    "    stds_c.append(std_c)"
   ],
   "metadata": {
    "collapsed": false,
    "pycharm": {
     "name": "#%%\n"
    }
   }
  },
  {
   "cell_type": "markdown",
   "source": [
    "<div style=\"color:green; font-weight: bold\">\n",
    "Again, plots are equivalent to the sample solution. Sway in the mean error rate looks a\n",
    "little more exaggerated here since we do not plot error bars.\n",
    "</div>"
   ],
   "metadata": {
    "collapsed": false
   }
  },
  {
   "cell_type": "code",
   "execution_count": null,
   "outputs": [],
   "source": [
    "fig, axes = plt.subplots(2, 2, figsize=(12, 6))\n",
    "axes[0][0].plot(Ms, means_g)\n",
    "axes[0][0].set_title(\"Mean Error Rate Guessing\")\n",
    "axes[0][0].set_xscale(\"log\")\n",
    "axes[0][1].plot(Ms, stds_g)\n",
    "axes[0][1].set_title(\"Standard Deviation Guessing\")\n",
    "axes[0][1].set_xscale(\"log\")\n",
    "axes[1][0].plot(Ms, means_c)\n",
    "axes[1][0].set_title(\"Mean Error Rate Constant\")\n",
    "axes[1][0].set_xscale(\"log\")\n",
    "axes[1][1].plot(Ms, stds_c)\n",
    "axes[1][1].set_title(\"Standard Deviation Constant\")\n",
    "axes[1][1].set_xscale(\"log\")\n",
    "\n",
    "for row in axes:\n",
    "    for ax in row:\n",
    "        ax.set_xlabel(\"M\")\n",
    "\n",
    "plt.show()\n",
    "\n"
   ],
   "metadata": {
    "collapsed": false,
    "pycharm": {
     "name": "#%%\n"
    }
   }
  },
  {
   "cell_type": "markdown",
   "metadata": {},
   "source": [
    "### 1.4 Nearest Neighbor Classification"
   ]
  },
  {
   "cell_type": "code",
   "execution_count": 22,
   "metadata": {
    "pycharm": {
     "name": "#%%\n"
    }
   },
   "outputs": [
    {
     "name": "stdout",
     "output_type": "stream",
     "text": [
      "Error: 0.33+/-0.15\n",
      "Error: 0.333+/-0.028\n"
     ]
    }
   ],
   "source": []
  },
  {
   "cell_type": "markdown",
   "source": [
    "<div style=\"color:green; font-weight: bold\">\n",
    "Again, I opted for a class instead of a callable here for expandability.\n",
    "It is more elegant to use a custom distance function as seen in this solution,\n",
    "but the sample solution provides a more elegant way of finding the argmin using np.argmin.\n",
    "Otherwise, these solutions are both equivalent.\n",
    "</div>"
   ],
   "metadata": {
    "collapsed": false
   }
  },
  {
   "cell_type": "code",
   "execution_count": null,
   "outputs": [],
   "source": [
    "class NearestNeighborClassifier:\n",
    "    @staticmethod\n",
    "    def euclid(x1, x2):\n",
    "        return abs(x1 - x2)\n",
    "\n",
    "    _euclid = euclid.__func__\n",
    "\n",
    "    def __init__(self, training_set, distance_function=_euclid):\n",
    "        self.training_set = training_set\n",
    "        self.distance = distance_function\n",
    "\n",
    "    def assign(self, feature):\n",
    "        min_dist = None\n",
    "        label = None\n",
    "        for tfeature, tlabel in self.training_set.items():\n",
    "            dist = self.distance(tfeature, feature)\n",
    "            if min_dist is None or min_dist > dist:\n",
    "                min_dist = dist\n",
    "                label = tlabel\n",
    "\n",
    "        return label\n",
    "\n",
    "\n",
    "M = 100\n",
    "training_y = np.array([0, 1])\n",
    "\n",
    "errors = []"
   ],
   "metadata": {
    "collapsed": false,
    "pycharm": {
     "name": "#%%\n"
    }
   }
  },
  {
   "cell_type": "markdown",
   "source": [
    "<div style=\"color:green; font-weight: bold\">\n",
    "Using a function (as seen here) instead of assigning features manually\n",
    "(as seen in the sample solution) is better to avoid copied code.\n",
    "</div>"
   ],
   "metadata": {
    "collapsed": false
   }
  },
  {
   "cell_type": "code",
   "execution_count": null,
   "outputs": [],
   "source": [
    "for _ in range(M):\n",
    "    # create training set\n",
    "    training_x = create_features(training_y)\n",
    "    training_set = dict(zip(training_x, training_y))\n",
    "\n",
    "    # create classifier with that set\n",
    "    nnc = NearestNeighborClassifier(training_set)\n",
    "\n",
    "    # now test the classifier\n",
    "    test_size = 1000\n",
    "    test_features, test_labels = create_data(test_size)\n",
    "\n",
    "    classified = np.array([nnc.assign(tf) for tf in test_features])\n",
    "    incorrect = classified != test_labels\n",
    "\n",
    "    error = np.mean(incorrect.astype(float))\n",
    "\n",
    "    errors.append(error)\n",
    "\n",
    "mean_error, std_error = np.mean(errors), np.std(errors)\n",
    "\n",
    "print(f\"Error: {ufloat(mean_error, std_error)}\")\n",
    "\n",
    "N = 100\n",
    "errors = []"
   ],
   "metadata": {
    "collapsed": false,
    "pycharm": {
     "name": "#%%\n"
    }
   }
  },
  {
   "cell_type": "markdown",
   "source": [
    "<div style=\"color:green; font-weight: bold\">\n",
    "For sufficient training set size, this method is equivalent to the sample solution.\n",
    "However, the sample solution is more elegant\n",
    "since it will always generate a balanced training set,\n",
    "whereas this solution may yield slightly imbalanced training sets.\n",
    "</div>"
   ],
   "metadata": {
    "collapsed": false
   }
  },
  {
   "cell_type": "code",
   "execution_count": null,
   "outputs": [],
   "source": [
    "for _ in range(M):\n",
    "    # create training set\n",
    "    training_x, training_y = create_data(N)\n",
    "    training_set = dict(zip(training_x, training_y))\n",
    "\n",
    "    # create classifier with that set\n",
    "    nnc = NearestNeighborClassifier(training_set)\n",
    "\n",
    "    # now test the classifier\n",
    "    test_size = 1000\n",
    "    test_features, test_labels = create_data(test_size)\n",
    "\n",
    "    classified = np.array([nnc.assign(tf) for tf in test_features])\n",
    "    incorrect = classified != test_labels\n",
    "\n",
    "    error = np.mean(incorrect.astype(float))\n",
    "\n",
    "    errors.append(error)\n",
    "\n",
    "mean_error, std_error = np.mean(errors), np.std(errors)\n",
    "\n",
    "print(f\"Error: {ufloat(mean_error, std_error)}\")"
   ],
   "metadata": {
    "collapsed": false,
    "pycharm": {
     "name": "#%%\n"
    }
   }
  }
 ],
 "metadata": {
  "kernelspec": {
   "display_name": "Python 3",
   "language": "python",
   "name": "python3"
  },
  "language_info": {
   "codemirror_mode": {
    "name": "ipython",
    "version": 3
   },
   "file_extension": ".py",
   "mimetype": "text/x-python",
   "name": "python",
   "nbconvert_exporter": "python",
   "pygments_lexer": "ipython3",
   "version": "3.8.4rc1"
  }
 },
 "nbformat": 4,
 "nbformat_minor": 1
}