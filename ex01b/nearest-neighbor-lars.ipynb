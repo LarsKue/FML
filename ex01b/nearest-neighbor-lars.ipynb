{
 "cells": [
  {
   "cell_type": "code",
   "execution_count": 37,
   "metadata": {
    "collapsed": true
   },
   "outputs": [],
   "source": [
    "# Exercise 1b\n",
    "#### Lars Kühmichel, Ergin Kohen Sagner, Nicolas Wolf\n",
    "\n",
    "## 3 Nearest Neighbor Classification on Real Data\n",
    "### 3.1 Exploring the Data"
   ]
  },
  {
   "cell_type": "code",
   "execution_count": 38,
   "outputs": [
    {
     "name": "stdout",
     "output_type": "stream",
     "text": [
      "dict_keys(['data', 'target', 'frame', 'feature_names', 'target_names', 'images', 'DESCR'])\n",
      "<class 'numpy.ndarray'>\n",
      "float64\n",
      "The Images have size 8x8\n"
     ]
    }
   ],
   "source": [
    "from sklearn.datasets import load_digits\n",
    "\n",
    "digits = load_digits()\n",
    "\n",
    "print(digits.keys())\n",
    "\n",
    "data = digits[\"data\"]\n",
    "images = digits[\"images\"]\n",
    "target = digits[\"target\"]\n",
    "target_names = digits[\"target_names\"]\n",
    "\n",
    "print(type(data))\n",
    "print(data.dtype)\n",
    "\n",
    "print(f\"The Images have size {images.shape[1]}x{images.shape[2]}\")"
   ],
   "metadata": {
    "collapsed": false,
    "pycharm": {
     "name": "#%%\n"
    }
   }
  },
  {
   "cell_type": "code",
   "execution_count": 39,
   "outputs": [
    {
     "data": {
      "text/plain": "<Figure size 576x216 with 2 Axes>",
      "image/png": "[encoded data removed]"
     },
     "metadata": {
      "needs_background": "light"
     },
     "output_type": "display_data"
    }
   ],
   "source": [
    "import numpy as np\n",
    "from matplotlib import pyplot as plt\n",
    "\n",
    "img = images[1220]\n",
    "assert 2 == len(img.shape)\n",
    "\n",
    "fig, axes = plt.subplots(1, 2, figsize=(8, 3))\n",
    "axes[0].imshow(img, interpolation=\"nearest\", cmap=\"gray\")\n",
    "axes[0].set_title(\"Nearest\")\n",
    "axes[1].imshow(img, interpolation=\"bicubic\", cmap=\"gray\")\n",
    "axes[1].set_title(\"Bicubic\")\n",
    "plt.show()"
   ],
   "metadata": {
    "collapsed": false,
    "pycharm": {
     "name": "#%%\n"
    }
   }
  },
  {
   "cell_type": "code",
   "execution_count": 40,
   "outputs": [],
   "source": [
    "from sklearn import model_selection\n",
    "\n",
    "x_all = data\n",
    "y_all = target\n",
    "\n",
    "x_train, x_test, y_train, y_test = model_selection.train_test_split(\n",
    "    digits.data, digits.target, test_size=0.4, random_state=0\n",
    ")"
   ],
   "metadata": {
    "collapsed": false,
    "pycharm": {
     "name": "#%%\n"
    }
   }
  },
  {
   "cell_type": "markdown",
   "source": [
    "### 3.2 Distance function computation using loops"
   ],
   "metadata": {
    "collapsed": false
   }
  },
  {
   "cell_type": "code",
   "execution_count": 41,
   "outputs": [
    {
     "name": "stderr",
     "output_type": "stream",
     "text": [
      ".......\n",
      "----------------------------------------------------------------------\n",
      "Ran 7 tests in 0.021s\n",
      "\n",
      "OK\n"
     ]
    },
    {
     "data": {
      "text/plain": "<unittest.main.TestProgram at 0x1f65e43e700>"
     },
     "execution_count": 41,
     "metadata": {},
     "output_type": "execute_result"
    }
   ],
   "source": [
    "import unittest\n",
    "\n",
    "\n",
    "def distance(tr, te):\n",
    "    return np.linalg.norm(tr - te)\n",
    "\n",
    "def dist_loop(training, test):\n",
    "    # writing this hurt my soul\n",
    "    return np.array([\n",
    "        [distance(tr, te) for te in test] for tr in training\n",
    "    ])\n",
    "\n",
    "\n",
    "class DistanceTest:\n",
    "    def setUp(self):\n",
    "        self.N = 2\n",
    "        self.M = 3\n",
    "        self.D = 3\n",
    "        self.training = np.array([\n",
    "            [1, 2, 3],\n",
    "            [3, 4, 5]\n",
    "        ])\n",
    "        self.test = np.array([\n",
    "            [3, 4, 5],\n",
    "            [1, 2, 3],\n",
    "            [7, 1, 4],\n",
    "        ])\n",
    "\n",
    "        self.distances = None\n",
    "\n",
    "    def test_scipy(self):\n",
    "        from scipy.spatial import distance_matrix\n",
    "\n",
    "        distances_scipy = distance_matrix(self.training, self.test)\n",
    "        self.assertTrue(np.allclose(distances_scipy, self.distances))\n",
    "\n",
    "    def test_dimensions(self):\n",
    "        self.assertEqual(self.N, self.training.shape[0])\n",
    "        self.assertEqual(self.D, self.training.shape[1])\n",
    "        self.assertEqual(self.M, self.test.shape[0])\n",
    "        self.assertEqual(self.D, self.training.shape[1])\n",
    "        self.assertEqual(self.N, self.distances.shape[0])\n",
    "        self.assertEqual(self.M, self.distances.shape[1])\n",
    "\n",
    "    def test_distance(self):\n",
    "        self.assertTrue(np.allclose(np.array([\n",
    "            [2 * np.sqrt(3), 0.0, np.sqrt(38)],\n",
    "            [0.0, 2 * np.sqrt(3), np.sqrt(26)]\n",
    "        ]), self.distances))\n",
    "\n",
    "        distances = dist_loop(self.training, self.training)\n",
    "        # values on the diagonal should be zero\n",
    "        self.assertTrue(np.allclose(np.zeros_like(distances), np.diag(distances)))\n",
    "\n",
    "class DistanceLoopTest(DistanceTest, unittest.TestCase):\n",
    "    def setUp(self):\n",
    "        super().setUp()\n",
    "        self.distances = dist_loop(self.training, self.test)\n",
    "\n",
    "# need some extra args here to run tests in Jupyter Notebooks\n",
    "unittest.main(argv=[\"\"], exit=False)\n"
   ],
   "metadata": {
    "collapsed": false,
    "pycharm": {
     "name": "#%%\n"
    }
   }
  },
  {
   "cell_type": "markdown",
   "source": [
    "### 3.3 Distance Function using vectorization"
   ],
   "metadata": {
    "collapsed": false
   }
  },
  {
   "cell_type": "code",
   "execution_count": 42,
   "outputs": [
    {
     "name": "stderr",
     "output_type": "stream",
     "text": [
      ".......\n",
      "----------------------------------------------------------------------\n",
      "Ran 7 tests in 0.021s\n",
      "\n",
      "OK\n"
     ]
    },
    {
     "data": {
      "text/plain": "<unittest.main.TestProgram at 0x1f65e451b20>"
     },
     "execution_count": 42,
     "metadata": {},
     "output_type": "execute_result"
    }
   ],
   "source": [
    "def gen_data(n, m, d):\n",
    "    training = np.random.uniform(low=0.0, high=10.0, size=(n, d))\n",
    "    test = np.random.uniform(low=0.0, high=10.0, size=(m, d))\n",
    "\n",
    "    return training, test\n",
    "\n",
    "def dist_vec(training, test):\n",
    "    # reshape the arrays such that subtraction yields all possible combinations\n",
    "    diff = np.reshape(training, (training.shape[0], 1, -1)) - np.reshape(test, (1, test.shape[0], -1))\n",
    "    distances = np.linalg.norm(diff, axis=2)\n",
    "    return distances\n",
    "\n",
    "class DistanceVectorTest(DistanceTest, unittest.TestCase):\n",
    "    def setUp(self):\n",
    "        super().setUp()\n",
    "        self.distances = dist_vec(self.training, self.test)\n",
    "\n",
    "    def test_comparison(self):\n",
    "        training, test = gen_data(30, 45, 20)\n",
    "\n",
    "        distances_loop = dist_loop(training, test)\n",
    "        distances_vec = dist_vec(training, test)\n",
    "\n",
    "        self.assertTrue(np.allclose(distances_loop, distances_vec))\n",
    "\n",
    "\n",
    "unittest.main(argv=[\"\"], exit=False)\n",
    "\n",
    "\n"
   ],
   "metadata": {
    "collapsed": false,
    "pycharm": {
     "name": "#%%\n"
    }
   }
  },
  {
   "cell_type": "markdown",
   "source": [
    "#### Verify `dist_vec` is faster"
   ],
   "metadata": {
    "collapsed": false,
    "pycharm": {
     "name": "#%% md\n"
    }
   }
  },
  {
   "cell_type": "code",
   "execution_count": 43,
   "outputs": [],
   "source": [
    "tfeatures, test = gen_data(45, 65, 35)\n",
    "\n",
    "# %timeit dist_loop(training, test)\n",
    "# %timeit dist_vec(training, test)"
   ],
   "metadata": {
    "collapsed": false,
    "pycharm": {
     "name": "#%%\n"
    }
   }
  },
  {
   "cell_type": "markdown",
   "source": [
    "### 3.4 Implement the k-nearest neighbor classifier"
   ],
   "metadata": {
    "collapsed": false,
    "pycharm": {
     "name": "#%% md\n"
    }
   }
  },
  {
   "cell_type": "code",
   "execution_count": 44,
   "outputs": [],
   "source": [
    "class KNNClassifier:\n",
    "    def __init__(self, k, tfeatures, tlabels):\n",
    "        self.k = k\n",
    "        self.tfeatures = tfeatures\n",
    "        self.tlabels = tlabels\n",
    "\n",
    "    def __predict_label(self, labels):\n",
    "        # count occurrences of unique labels\n",
    "        unique, counts = np.unique(labels, return_counts=True)\n",
    "        # return the label with the most occurrences\n",
    "        return unique[counts.argmax()]\n",
    "\n",
    "    def predict(self, features):\n",
    "        distances = dist_vec(self.tfeatures, features)\n",
    "\n",
    "        # get index matrix of k nearest neighbors\n",
    "        knn_idx = np.argpartition(distances, self.k, axis=0)[:self.k]\n",
    "\n",
    "        knn = self.tlabels[knn_idx]\n",
    "\n",
    "        # features are colums, so transpose knn to give\n",
    "        # concurrent arrays to __predict_label\n",
    "        predicted_labels = np.array([self.__predict_label(col) for col in knn.T])\n",
    "\n",
    "        return predicted_labels"
   ],
   "metadata": {
    "collapsed": false,
    "pycharm": {
     "name": "#%%\n"
    }
   }
  },
  {
   "cell_type": "markdown",
   "source": [
    "#### Test the `KNNClassifier`\n",
    "\n",
    "The classifier typically guesses 0-1 digits incorrectly, on a test set size of 72."
   ],
   "metadata": {
    "collapsed": false
   }
  },
  {
   "cell_type": "code",
   "execution_count": 45,
   "outputs": [
    {
     "data": {
      "text/plain": "<Figure size 432x288 with 1 Axes>",
      "image/png": "[encoded data removed]"
     },
     "metadata": {
      "needs_background": "light"
     },
     "output_type": "display_data"
    }
   ],
   "source": [
    "# filter the dataset to only contain 3s and 9s\n",
    "tn = np.logical_or(target == 3, target == 9)\n",
    "\n",
    "# use this to use the whole dataset\n",
    "# tn = np.ones_like(target)\n",
    "\n",
    "tn_data = data[tn]\n",
    "tn_target = target[tn]\n",
    "\n",
    "# 80% training, 20% testing\n",
    "tn_x_train, tn_x_test, tn_y_train, tn_y_test = model_selection.train_test_split(\n",
    "    tn_data, tn_target, test_size=0.2, random_state=0\n",
    ")\n",
    "\n",
    "ks = np.arange(1, 35)\n",
    "errors = []\n",
    "\n",
    "for k in ks:\n",
    "    c = KNNClassifier(k, tn_x_train, tn_y_train)\n",
    "\n",
    "    tn_y_predicted = c.predict(tn_x_test)\n",
    "\n",
    "    incorrect = tn_y_predicted != tn_y_test\n",
    "\n",
    "    error = np.mean(incorrect)\n",
    "\n",
    "    errors.append(error)\n",
    "\n",
    "plt.scatter(ks, errors)\n",
    "plt.xlabel(\"k\")\n",
    "plt.ylabel(\"error\")\n",
    "plt.show()\n",
    "\n",
    "\n",
    "\n"
   ],
   "metadata": {
    "collapsed": false,
    "pycharm": {
     "name": "#%%\n"
    }
   }
  }
 ],
 "metadata": {
  "kernelspec": {
   "display_name": "Python 3",
   "language": "python",
   "name": "python3"
  },
  "language_info": {
   "codemirror_mode": {
    "name": "ipython",
    "version": 2
   },
   "file_extension": ".py",
   "mimetype": "text/x-python",
   "name": "python",
   "nbconvert_exporter": "python",
   "pygments_lexer": "ipython2",
   "version": "2.7.6"
  }
 },
 "nbformat": 4,
 "nbformat_minor": 0
}