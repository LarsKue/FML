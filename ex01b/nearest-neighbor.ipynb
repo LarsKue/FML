{
 "cells": [
  {
   "cell_type": "code",
   "execution_count": 1,
   "metadata": {},
   "outputs": [],
   "source": [
    "%matplotlib inline\n",
    "import numpy as np\n",
    "import matplotlib.pyplot as plt"
   ]
  },
  {
   "cell_type": "code",
   "execution_count": 2,
   "metadata": {},
   "outputs": [
    {
     "name": "stdout",
     "output_type": "stream",
     "text": [
      "dict_keys(['data', 'target', 'target_names', 'images', 'DESCR'])\n",
      "float64\n"
     ]
    }
   ],
   "source": [
    "from sklearn.datasets import load_digits\n",
    "\n",
    "digits = load_digits()\n",
    "\n",
    "print(digits.keys())\n",
    "\n",
    "data = digits[\"data\"]\n",
    "images = digits[\"images\"]\n",
    "target = digits[\"target\"]\n",
    "target_names = digits[\"target_names\"]\n",
    "\n",
    "print(data.dtype)"
   ]
  },
  {
   "cell_type": "code",
   "execution_count": 3,
   "metadata": {},
   "outputs": [
    {
     "name": "stdout",
     "output_type": "stream",
     "text": [
      "(8, 8)\n"
     ]
    },
    {
     "data": {
      "image/png": "[encoded data removed]",
      "text/plain": [
       "<matplotlib.figure.Figure at 0x1f4a72a5860>"
      ]
     },
     "metadata": {},
     "output_type": "display_data"
    }
   ],
   "source": [
    "img = images[3]\n",
    "\n",
    "print(img.shape)\n",
    "assert 2 == len(img.shape)\n",
    "\n",
    "plt.figure(1)\n",
    "plt.gray()\n",
    "plt.imshow(img, interpolation=\"nearest\")\n",
    "plt.show()"
   ]
  },
  {
   "cell_type": "code",
   "execution_count": 4,
   "metadata": {},
   "outputs": [
    {
     "name": "stdout",
     "output_type": "stream",
     "text": [
      "(1078, 64) (719, 64) (1078,) (719,)\n"
     ]
    }
   ],
   "source": [
    "from sklearn import model_selection\n",
    "\n",
    "X_all = data\n",
    "Y_all = target\n",
    "\n",
    "X_train, X_test, Y_train, Y_test = model_selection.train_test_split(X_all, Y_all, test_size=0.4, random_state=0)\n",
    "\n",
    "print(X_train.shape, X_test.shape, Y_train.shape, Y_test.shape)"
   ]
  },
  {
   "cell_type": "code",
   "execution_count": 5,
   "metadata": {},
   "outputs": [],
   "source": [
    "def dist_loop(training, test):\n",
    "    N = training.shape[0]\n",
    "    M = test.shape[0]\n",
    "    D = training.shape[1]\n",
    "    #print(N, M, D)\n",
    "    result = np.zeros((N, M))\n",
    "    \n",
    "    for n in range(N):\n",
    "        for m in range(M):\n",
    "            result[n, m] = np.linalg.norm(training[n] - test[m])\n",
    "            \n",
    "    return result\n",
    "    "
   ]
  },
  {
   "cell_type": "code",
   "execution_count": 6,
   "metadata": {},
   "outputs": [],
   "source": [
    "def dist_vec(training, test):\n",
    "    return np.sqrt(np.square(training[:,np.newaxis] - test).sum(axis=2))\n"
   ]
  },
  {
   "cell_type": "markdown",
   "metadata": {},
   "source": [
    "### alternative dist_vec\n",
    "$$\n",
    "\\begin{align*}\n",
    "    dist(A,B) &= \\sqrt{\\sum(A-B)^2}\\\\\n",
    "        &= \\sqrt{\\sum A^2 -2\\sum AB + \\sum B^2}\\qquad&&\\text{pointwise multiplication}\\\\\n",
    "        &= \\sqrt{\\sum A^2 - 2 A\\cdot B + \\sum B^2}\\qquad&&\\text{dot product}\n",
    "\\end{align*}\n",
    "$$"
   ]
  },
  {
   "cell_type": "code",
   "execution_count": 7,
   "metadata": {},
   "outputs": [],
   "source": [
    "def dist_vec_2(training, test):\n",
    "    sums = np.sum(np.square(training)[:,np.newaxis,:], axis=2) - 2*training.dot(test.T) + np.sum(np.square(test), axis=1)\n",
    "    return np.sqrt(sums)"
   ]
  },
  {
   "cell_type": "code",
   "execution_count": 47,
   "metadata": {},
   "outputs": [
    {
     "name": "stdout",
     "output_type": "stream",
     "text": [
      "7.07 s ± 246 ms per loop (mean ± std. dev. of 7 runs, 1 loop each)\n",
      "487 ms ± 15.2 ms per loop (mean ± std. dev. of 7 runs, 1 loop each)\n",
      "20.8 ms ± 1.11 ms per loop (mean ± std. dev. of 7 runs, 10 loops each)\n",
      "12.3 ms ± 65.6 µs per loop (mean ± std. dev. of 7 runs, 100 loops each)\n"
     ]
    }
   ],
   "source": [
    "from sklearn.metrics import pairwise_distances\n",
    "\n",
    "%timeit distances_loop = dist_loop(X_train, X_test)\n",
    "%timeit distances_vec = dist_vec(X_train, X_test)\n",
    "%timeit distances_vec_2 = dist_vec_2(X_train, X_test)\n",
    "%timeit distances_sklearn = pairwise_distances(X_train, X_test)"
   ]
  },
  {
   "cell_type": "code",
   "execution_count": 46,
   "metadata": {},
   "outputs": [
    {
     "name": "stdout",
     "output_type": "stream",
     "text": [
      "True\n",
      "True\n",
      "True\n"
     ]
    }
   ],
   "source": [
    "distances_loop = dist_loop(X_train, X_test)\n",
    "distances_vec = dist_vec(X_train, X_test)\n",
    "distances_vec_2 = dist_vec_2(X_train, X_test)\n",
    "distances_sklearn = pairwise_distances(X_train, X_test)\n",
    "print(np.array_equal(distances_loop, distances_vec))\n",
    "print(np.array_equal(distances_loop, distances_vec_2))\n",
    "print(np.array_equal(distances_loop, distances_sklearn))"
   ]
  },
  {
   "cell_type": "code",
   "execution_count": 12,
   "metadata": {},
   "outputs": [],
   "source": [
    "def knn(training, training_labels, test, k):\n",
    "    distance_matrix = dist_vec_2(training, test)\n",
    "    k_min = np.argpartition(distance_matrix, k, axis=0)\n",
    "    k_min = k_min[:k,:]\n",
    "    \n",
    "    classified = np.zeros(k_min.shape[1], dtype=np.uint8)\n",
    "    for i in range(k_min.shape[1]):\n",
    "        classified[i] = np.bincount(training_labels[k_min[:,i]]).argmax()\n",
    "    \n",
    "    return classified\n",
    "    \n"
   ]
  },
  {
   "cell_type": "code",
   "execution_count": 13,
   "metadata": {},
   "outputs": [
    {
     "name": "stdout",
     "output_type": "stream",
     "text": [
      "k = 1:\t1.39%\n",
      "k = 3:\t0.69%\n",
      "k = 5:\t0.69%\n",
      "k = 7:\t0.00%\n",
      "k = 9:\t0.69%\n",
      "k = 11:\t0.00%\n",
      "k = 13:\t0.00%\n",
      "k = 15:\t0.69%\n",
      "k = 17:\t0.69%\n",
      "k = 19:\t2.08%\n",
      "k = 21:\t2.08%\n",
      "k = 23:\t2.78%\n",
      "k = 25:\t2.08%\n",
      "k = 27:\t2.08%\n",
      "k = 29:\t2.08%\n",
      "k = 31:\t2.08%\n",
      "k = 33:\t2.08%\n"
     ]
    }
   ],
   "source": [
    "def test_knn(X_train, Y_train, X_test, Y_test, k):\n",
    "    classified = knn(X_train, Y_train, X_test, k)\n",
    "    error = 0\n",
    "    for index, label in enumerate(classified):\n",
    "        if label != Y_test[index]:\n",
    "            error += 1\n",
    "    return error / len(classified)\n",
    "    \n",
    "X_train_39 = X_train[(Y_train == 3) | (Y_train == 9)]\n",
    "Y_train_39 = Y_train[(Y_train == 3) | (Y_train == 9)]\n",
    "X_test_39 = X_test[(Y_test == 3) | (Y_test == 9)]\n",
    "Y_test_39 = Y_test[(Y_test == 3) | (Y_test == 9)]\n",
    "    \n",
    "#for k in [1,3,5,9,17,33]:\n",
    "for k in range(1,34,2):\n",
    "    #print(f\"k = {k}:\\t{test_knn(X_train,Y_train,X_test,Y_test,k)*100:0.2f}%\")\n",
    "    print(f\"k = {k}:\\t{test_knn(X_train_39,Y_train_39,X_test_39,Y_test_39,k)*100:0.2f}%\")"
   ]
  },
  {
   "cell_type": "code",
   "execution_count": 36,
   "metadata": {},
   "outputs": [
    {
     "name": "stderr",
     "output_type": "stream",
     "text": [
      "C:\\Users\\nwolf\\Anaconda3\\lib\\site-packages\\matplotlib\\figure.py:2022: UserWarning: This figure includes Axes that are not compatible with tight_layout, so results might be incorrect.\n",
      "  warnings.warn(\"This figure includes Axes that are not compatible \"\n"
     ]
    },
    {
     "data": {
      "image/png": "[encoded data removed]",
      "text/plain": [
       "<matplotlib.figure.Figure at 0x1f4ab128208>"
      ]
     },
     "metadata": {},
     "output_type": "display_data"
    }
   ],
   "source": [
    "from sklearn.neighbors import KNeighborsClassifier\n",
    "import time\n",
    "\n",
    "def split_folds(data, target, L):\n",
    "    permutation = np.random.permutation(len(data))\n",
    "    data_permuted = data[permutation]\n",
    "    target_permuted = target[permutation]\n",
    "    return np.array(np.array_split(data_permuted, L)), np.array(np.array_split(target_permuted, L))\n",
    "    \n",
    "def cross_validation(data, target, L, k):\n",
    "    X_folds, Y_folds = split_folds(data, target, L)\n",
    "    \n",
    "    \n",
    "    errors = np.zeros(L)\n",
    "    errors_skl = np.zeros(L)\n",
    "    \n",
    "    time_knn = time_skl = 0\n",
    "    \n",
    "    for l in range(L):\n",
    "        X_l = X_folds[l]\n",
    "        Y_l = Y_folds[l]\n",
    "        mask = np.arange(len(X_folds)) != l\n",
    "        X_rest = X_folds[np.arange(len(X_folds)) != l]\n",
    "        Y_rest = Y_folds[np.arange(len(Y_folds)) != l]\n",
    "        X_rest = np.concatenate(X_rest)\n",
    "        Y_rest = np.concatenate(Y_rest)\n",
    "        \n",
    "        start = time.time()\n",
    "        errors[l] = test_knn(X_rest, Y_rest, X_l, Y_l, k)\n",
    "        time_knn += time.time() - start\n",
    "        \n",
    "        start = time.time()\n",
    "        neigh = KNeighborsClassifier(n_neighbors=k)\n",
    "        neigh.fit(X_rest, Y_rest)\n",
    "        classified = neigh.predict(X_l)\n",
    "        error = 0\n",
    "        for index, label in enumerate(classified):\n",
    "            if label != Y_l[index]:\n",
    "                error += 1\n",
    "        errors_skl[l] = error / len(classified)\n",
    "        time_skl += time.time() - start\n",
    "    \n",
    "    return errors, errors_skl, time_knn, time_skl\n",
    "\n",
    "\"\"\"\n",
    "print(\"L = 2:\")\n",
    "cross_validation(data, target, 2)\n",
    "\n",
    "print(\"\\nL = 5:\")\n",
    "cross_validation(data, target, 5)\n",
    "\n",
    "print(\"\\nL = 10:\")\n",
    "cross_validation(data, target, 5)\n",
    "\"\"\"\n",
    "\n",
    "mean_knn = []\n",
    "std_knn = []\n",
    "mean_skl = []\n",
    "std_skl = []\n",
    "times_knn = []\n",
    "times_skl = []\n",
    "\n",
    "L_values = [i for i in range(2, 16)]\n",
    "k_values = [1, 7, 11, 33]\n",
    "for index, k in enumerate(k_values):\n",
    "    mean_knn.append([])\n",
    "    std_knn.append([])\n",
    "    mean_skl.append([])\n",
    "    std_skl.append([])\n",
    "    times_knn.append([])\n",
    "    times_skl.append([])\n",
    "    for L in L_values:\n",
    "        #print(L)\n",
    "        errors_knn, errors_skl, time_knn, time_skl = cross_validation(data, target, L, k)\n",
    "        mean_knn[index].append(np.mean(errors_knn))\n",
    "        std_knn[index].append(np.std(errors_knn))\n",
    "        mean_skl[index].append(np.mean(errors_skl))\n",
    "        std_skl[index].append(np.std(errors_skl))\n",
    "        times_knn[index].append(time_knn)\n",
    "        times_skl[index].append(time_skl)\n",
    "        #print(f\"knn: ({np.mean(errors_knn)*100:0.2f} +- {np.std(errors_knn)*100:0.2f})%\\ttime: {time_knn:3.2f}s\")\n",
    "        #print(f\"skl: ({np.mean(errors_skl)*100:0.2f} +- {np.std(errors_skl)*100:0.2f})%\\ttime: {time_skl:3.2f}s\")\n",
    "    \n",
    "    \n",
    "fig, axs = plt.subplots(2, 2, sharey='row', tight_layout=True, num=2, figsize=(10,10))\n",
    "axs[0,0].title.set_text(\"error for our knn\")\n",
    "axs[0,1].title.set_text(\"error for sklearn\")\n",
    "axs[1,0].title.set_text(\"time for our knn\")\n",
    "axs[1,1].title.set_text(\"time for sklearn\")\n",
    "\n",
    "for index, k in enumerate(k_values):\n",
    "\n",
    "    axs[0,0].errorbar(L_values, np.array(mean_knn[index]), yerr=np.array(std_knn[index]), label=f\"k = {k}\")\n",
    "    axs[0,1].errorbar(L_values, np.array(mean_skl[index]), yerr=np.array(std_skl[index]), label=f\"k = {k}\")\n",
    "\n",
    "    axs[1,0].scatter(L_values, np.array(times_knn[index]), label=f\"k = {k}\")\n",
    "    axs[1,1].scatter(L_values, np.array(times_skl[index]), label=f\"k = {k}\")\n",
    "    \n",
    "axs[0,0].legend()\n",
    "axs[0,1].legend()\n",
    "axs[1,0].legend()\n",
    "axs[1,1].legend()\n",
    "\n",
    "plt.show()"
   ]
  },
  {
   "cell_type": "code",
   "execution_count": null,
   "metadata": {},
   "outputs": [],
   "source": []
  }
 ],
 "metadata": {
  "kernelspec": {
   "display_name": "Python 3",
   "language": "python",
   "name": "python3"
  },
  "language_info": {
   "codemirror_mode": {
    "name": "ipython",
    "version": 3
   },
   "file_extension": ".py",
   "mimetype": "text/x-python",
   "name": "python",
   "nbconvert_exporter": "python",
   "pygments_lexer": "ipython3",
   "version": "3.6.4"
  }
 },
 "nbformat": 4,
 "nbformat_minor": 4
}
