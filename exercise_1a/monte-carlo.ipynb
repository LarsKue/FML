{
 "cells": [
  {
   "cell_type": "markdown",
   "source": [
    "# Exercise 1a\n",
    "#### Lars Kühmichel, Ergin Kohen Sagner, Nico Wolf\n",
    "\n",
    "## 1 Monte-Carlo Simulation\n",
    "### Inverse Transform Sampling\n",
    "For $Y = 1$, it holds that $P(X = x) = 2x$. The CDF for $P$ is given as\n",
    "$CDF(X \\leq x) = \\int_0^x 2x' \\,dx' = x^2$.\n",
    "With Inverse Transform Sampling, $X$ is then given by $CDF^{-1}(u) = \\sqrt{u}$ where $u$ is\n",
    "sampled from a uniform distribution in the interval $[0, 1]$.\n",
    "\n",
    "For $Y = 0$, it holds that $P(x = x) = 2 - 2x$. The CDF for $P$ is then\n",
    "$CDF(X \\leq x) = \\int_0^x 2 - 2x' \\, dx' = 2x - x^2$. Analogously, $X$ is then given by $1 - \\sqrt{1 - u}$."
   ],
   "metadata": {
    "collapsed": false
   }
  },
  {
   "cell_type": "code",
   "execution_count": 16,
   "outputs": [
    {
     "data": {
      "text/plain": "<Figure size 432x288 with 1 Axes>",
      "image/png": "[encoded data removed]"
     },
     "metadata": {
      "needs_background": "light"
     },
     "output_type": "display_data"
    }
   ],
   "source": [
    "import numpy as np\n",
    "from matplotlib import pyplot as plt\n",
    "\n",
    "\n",
    "def create_data(N):\n",
    "    # randint is high exclusive\n",
    "    labels = np.random.randint(0, 2, size=N).astype(bool)\n",
    "\n",
    "    features = np.random.uniform(0, 1, size=N)\n",
    "    features = np.where(labels, np.sqrt(features), 1 - np.sqrt(1 - features))\n",
    "\n",
    "    return features, labels\n",
    "\n",
    "x, y = create_data(10000)\n",
    "\n",
    "# verify x and y are created correctly\n",
    "x = x[~y]\n",
    "\n",
    "plt.hist(x, bins=100)\n",
    "plt.show()\n"
   ],
   "metadata": {
    "collapsed": false,
    "pycharm": {
     "name": "#%%\n"
    }
   }
  }
 ],
 "metadata": {
  "kernelspec": {
   "display_name": "Python 3",
   "language": "python",
   "name": "python3"
  },
  "language_info": {
   "codemirror_mode": {
    "name": "ipython",
    "version": 2
   },
   "file_extension": ".py",
   "mimetype": "text/x-python",
   "name": "python",
   "nbconvert_exporter": "python",
   "pygments_lexer": "ipython2",
   "version": "2.7.6"
  }
 },
 "nbformat": 4,
 "nbformat_minor": 0
}