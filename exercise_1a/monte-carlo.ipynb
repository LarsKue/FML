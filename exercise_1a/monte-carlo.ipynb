{
 "cells": [
  {
   "cell_type": "markdown",
   "source": [
    "# Exercise 1a\n",
    "#### Lars Kühmichel, Ergin Kohen Sagner, Nico Wolf\n",
    "\n",
    "## 1 Monte-Carlo Simulation\n",
    "### 1.1 Data Creation and Visualization\n",
    "#### Inverse Transform Sampling\n",
    "For $Y = 1$, it holds that $P(X = x) = 2x$. The CDF for $P$ is given as\n",
    "$CDF(X \\leq x) = \\int_0^x 2x' \\,dx' = x^2$.\n",
    "With Inverse Transform Sampling, $X$ is then given by $CDF^{-1}(u) = \\sqrt{u}$ where $u$ is\n",
    "sampled from a uniform distribution in the interval $[0, 1]$.\n",
    "\n",
    "For $Y = 0$, it holds that $P(x = x) = 2 - 2x$. The CDF for $P$ is then\n",
    "$CDF(X \\leq x) = \\int_0^x 2 - 2x' \\, dx' = 2x - x^2$. Analogously, $X$ is then given by $1 - \\sqrt{1 - u}$."
   ],
   "metadata": {
    "collapsed": false
   }
  },
  {
   "cell_type": "code",
   "execution_count": 139,
   "outputs": [
    {
     "data": {
      "text/plain": "<Figure size 864x216 with 2 Axes>",
      "image/png": "[encoded data removed]"
     },
     "metadata": {
      "needs_background": "light"
     },
     "output_type": "display_data"
    }
   ],
   "source": [
    "import numpy as np\n",
    "from uncertainties import ufloat\n",
    "from matplotlib import pyplot as plt\n",
    "\n",
    "\n",
    "def create_data(N):\n",
    "    # randint is high exclusive\n",
    "    labels = np.random.randint(0, 2, size=N).astype(bool)\n",
    "\n",
    "    features = np.random.uniform(0, 1, size=N)\n",
    "    features = np.where(labels, np.sqrt(features), 1 - np.sqrt(1 - features))\n",
    "\n",
    "    return features, labels\n",
    "\n",
    "n = 10000\n",
    "\n",
    "x, y = create_data(n)\n",
    "\n",
    "# verify x and y are created correctly\n",
    "fig, axes = plt.subplots(1, 2, figsize=(12, 3))\n",
    "axes[0].hist(x[y], bins=100)\n",
    "axes[0].set_title(\"X | Y = 1\")\n",
    "axes[0].set_xlabel(\"X\")\n",
    "axes[1].hist(x[~y], bins=100)\n",
    "axes[1].set_title(\"X | Y = 0\")\n",
    "axes[1].set_xlabel(\"X\")\n",
    "plt.show()"
   ],
   "metadata": {
    "collapsed": false,
    "pycharm": {
     "name": "#%%\n"
    }
   }
  },
  {
   "cell_type": "markdown",
   "source": [
    "### 1.2 Classification by Thresholding\n",
    "\n",
    "We have experimentally confirmed the error rates, including the minimum at $x_t = 0.5$. From the results, it can be presumed that the standard deviation in the error decreases with $\\frac{1}{\\sqrt{M}}$,\n",
    "since multiplying $M$ by $10$ roughly divides the standard deviation by $3$.\n",
    "This coincides with theoretical expectations of such."
   ],
   "metadata": {
    "collapsed": false
   }
  },
  {
   "cell_type": "code",
   "execution_count": 140,
   "outputs": [
    {
     "name": "stdout",
     "output_type": "stream",
     "text": [
      "=========================\n",
      "x_t = 0.2\n",
      "=========================\n",
      "M = 10\n",
      "Expected Error TC = 0.34\n",
      "Actual Error TC = 0.31+/-0.17\n",
      "Expected Error TAC = 0.66\n",
      "Actual Error TAC = 0.78+/-0.09\n",
      "\n",
      "M = 100\n",
      "Expected Error TC = 0.34\n",
      "Actual Error TC = 0.336+/-0.029\n",
      "Expected Error TAC = 0.66\n",
      "Actual Error TAC = 0.65+/-0.05\n",
      "\n",
      "M = 1000\n",
      "Expected Error TC = 0.34\n",
      "Actual Error TC = 0.337+/-0.017\n",
      "Expected Error TAC = 0.66\n",
      "Actual Error TAC = 0.655+/-0.013\n",
      "\n",
      "M = 10000\n",
      "Expected Error TC = 0.34\n",
      "Actual Error TC = 0.342+/-0.004\n",
      "Expected Error TAC = 0.66\n",
      "Actual Error TAC = 0.661+/-0.006\n",
      "\n",
      "=========================\n",
      "x_t = 0.5\n",
      "=========================\n",
      "M = 10\n",
      "Expected Error TC = 0.25\n",
      "Actual Error TC = 0.24+/-0.10\n",
      "Expected Error TAC = 0.75\n",
      "Actual Error TAC = 0.78+/-0.13\n",
      "\n",
      "M = 100\n",
      "Expected Error TC = 0.25\n",
      "Actual Error TC = 0.263+/-0.018\n",
      "Expected Error TAC = 0.75\n",
      "Actual Error TAC = 0.752+/-0.029\n",
      "\n",
      "M = 1000\n",
      "Expected Error TC = 0.25\n",
      "Actual Error TC = 0.239+/-0.015\n",
      "Expected Error TAC = 0.75\n",
      "Actual Error TAC = 0.744+/-0.010\n",
      "\n",
      "M = 10000\n",
      "Expected Error TC = 0.25\n",
      "Actual Error TC = 0.2514+/-0.0032\n",
      "Expected Error TAC = 0.75\n",
      "Actual Error TAC = 0.7497+/-0.0035\n",
      "\n",
      "=========================\n",
      "x_t = 0.6\n",
      "=========================\n",
      "M = 10\n",
      "Expected Error TC = 0.26\n",
      "Actual Error TC = 0.34+/-0.13\n",
      "Expected Error TAC = 0.74\n",
      "Actual Error TAC = 0.72+/-0.12\n",
      "\n",
      "M = 100\n",
      "Expected Error TC = 0.26\n",
      "Actual Error TC = 0.26+/-0.05\n",
      "Expected Error TAC = 0.74\n",
      "Actual Error TAC = 0.744+/-0.022\n",
      "\n",
      "M = 1000\n",
      "Expected Error TC = 0.26\n",
      "Actual Error TC = 0.267+/-0.013\n",
      "Expected Error TAC = 0.74\n",
      "Actual Error TAC = 0.736+/-0.014\n",
      "\n",
      "M = 10000\n",
      "Expected Error TC = 0.26\n",
      "Actual Error TC = 0.260+/-0.004\n",
      "Expected Error TAC = 0.74\n",
      "Actual Error TAC = 0.740+/-0.005\n",
      "\n"
     ]
    }
   ],
   "source": [
    "class ClassifierTest:\n",
    "    def __init__(self, data_creator, classifier):\n",
    "        \"\"\"\n",
    "        Classifier Test Class\n",
    "        :param data_creator: Callable that returns features and labels\n",
    "        :param classifier: Callable that takes features and returns guesses for labels\n",
    "        \"\"\"\n",
    "        self.data_creator = data_creator\n",
    "        self.classifier = classifier\n",
    "\n",
    "    def run(self, iterations, creator_args=None, creator_kwargs=None, classifier_args=None, classifier_kwargs=None):\n",
    "        if creator_args is None:\n",
    "\t        creator_args = []\n",
    "        if creator_kwargs is None:\n",
    "\t        creator_kwargs = {}\n",
    "        if classifier_args is None:\n",
    "            classifier_args = []\n",
    "        if classifier_kwargs is None:\n",
    "            classifier_kwargs = {}\n",
    "\n",
    "        errors = []\n",
    "\n",
    "        for _ in range(iterations):\n",
    "            features, labels = self.data_creator(*creator_args, **creator_kwargs)\n",
    "\n",
    "            classified = self.classifier(features, *classifier_args, **classifier_kwargs)\n",
    "\n",
    "            incorrect = classified != labels\n",
    "\n",
    "            error = np.mean(incorrect.astype(float))\n",
    "\n",
    "            errors.append(error)\n",
    "\n",
    "        return np.array(errors), np.mean(errors), np.std(errors)\n",
    "\n",
    "def tc(x, x_t):\n",
    "    return x >= x_t\n",
    "\n",
    "def tac(x, x_t):\n",
    "    return x < x_t\n",
    "\n",
    "for x_t in [0.2, 0.5, 0.6]:\n",
    "    print(\"=========================\")\n",
    "    print(f\"x_t = {x_t}\")\n",
    "    print(\"=========================\")\n",
    "    for M in [10, 100, 1000, 10_000]:\n",
    "        predicted_error_tc = 0.25 + (x_t - 0.5) ** 2\n",
    "        predicted_error_tac = 1 - predicted_error_tc\n",
    "\n",
    "        tc_test = ClassifierTest(create_data, tc)\n",
    "        tac_test = ClassifierTest(create_data, tac)\n",
    "\n",
    "        errors_tc, mean_tc, std_tc = tc_test.run(\n",
    "            iterations=10,\n",
    "            creator_args=[M],\n",
    "            creator_kwargs=None,\n",
    "            classifier_args=[x_t],\n",
    "            classifier_kwargs=None\n",
    "        )\n",
    "\n",
    "        errors_tac, mean_tac, std_tac = tac_test.run(\n",
    "            iterations=10,\n",
    "            creator_args=[M],\n",
    "            creator_kwargs=None,\n",
    "            classifier_args=[x_t],\n",
    "            classifier_kwargs=None\n",
    "        )\n",
    "\n",
    "        # pretty printing\n",
    "        print(f\"M = {M}\")\n",
    "        print(f\"Expected Error TC = {predicted_error_tc:.2f}\")\n",
    "        print(f\"Actual Error TC = {ufloat(mean_tc, std_tc)}\")\n",
    "        print(f\"Expected Error TAC = {predicted_error_tac}\")\n",
    "        print(f\"Actual Error TAC = {ufloat(mean_tac, std_tac)}\")\n",
    "        print()"
   ],
   "metadata": {
    "collapsed": false,
    "pycharm": {
     "name": "#%%\n"
    }
   }
  },
  {
   "cell_type": "markdown",
   "source": [
    "### 1.3 Baseline Classifiers\n",
    "\n",
    "We can confirm the expected error rate of $50\\%$."
   ],
   "metadata": {
    "collapsed": false
   }
  },
  {
   "cell_type": "code",
   "execution_count": 141,
   "outputs": [
    {
     "data": {
      "text/plain": "<Figure size 864x432 with 4 Axes>",
      "image/png": "[encoded data removed]"
     },
     "metadata": {
      "needs_background": "light"
     },
     "output_type": "display_data"
    }
   ],
   "source": [
    "def guessing(x):\n",
    "    return np.random.choice([True, False], size=x.shape)\n",
    "\n",
    "def constant(x):\n",
    "    return np.ones_like(x).astype(bool)\n",
    "\n",
    "Ms = np.logspace(1, 6, 30, dtype=int)\n",
    "means_g = []\n",
    "stds_g = []\n",
    "means_c = []\n",
    "stds_c = []\n",
    "\n",
    "for M in Ms:\n",
    "    guessing_test = ClassifierTest(create_data, guessing)\n",
    "    constant_test = ClassifierTest(create_data, constant)\n",
    "\n",
    "    errors_g, mean_g, std_g = guessing_test.run(\n",
    "        iterations=10,\n",
    "        creator_args=[M],\n",
    "        creator_kwargs=None,\n",
    "        classifier_args=None,\n",
    "        classifier_kwargs=None\n",
    "    )\n",
    "\n",
    "    errors_c, mean_c, std_c = constant_test.run(\n",
    "        iterations=10,\n",
    "        creator_args=[M],\n",
    "        creator_kwargs=None,\n",
    "        classifier_args=None,\n",
    "        classifier_kwargs=None\n",
    "    )\n",
    "\n",
    "    # print(f\"M = {M}\")\n",
    "    # print(f\"Error Guessing = {ufloat(mean_g, std_g)}\")\n",
    "    # print(f\"Error Constant = {ufloat(mean_c, std_c)}\")\n",
    "\n",
    "    means_g.append(mean_g)\n",
    "    stds_g.append(std_g)\n",
    "\n",
    "    means_c.append(mean_c)\n",
    "    stds_c.append(std_c)\n",
    "\n",
    "fig, axes = plt.subplots(2, 2, figsize=(12, 6))\n",
    "axes[0][0].plot(Ms, means_g)\n",
    "axes[0][0].set_title(\"Mean Error Rate Guessing\")\n",
    "axes[0][1].plot(Ms, stds_g)\n",
    "axes[0][1].set_title(\"Standard Deviation Guessing\")\n",
    "axes[1][0].plot(Ms, means_c)\n",
    "axes[1][0].set_title(\"Mean Error Rate Constant\")\n",
    "axes[1][1].plot(Ms, stds_c)\n",
    "axes[1][1].set_title(\"Standard Deviation Constant\")\n",
    "\n",
    "for row in axes:\n",
    "    for ax in row:\n",
    "        ax.set_xlabel(\"M\")\n",
    "\n",
    "plt.show()\n",
    "\n",
    "\n"
   ],
   "metadata": {
    "collapsed": false,
    "pycharm": {
     "name": "#%%\n"
    }
   }
  }
 ],
 "metadata": {
  "kernelspec": {
   "display_name": "Python 3",
   "language": "python",
   "name": "python3"
  },
  "language_info": {
   "codemirror_mode": {
    "name": "ipython",
    "version": 2
   },
   "file_extension": ".py",
   "mimetype": "text/x-python",
   "name": "python",
   "nbconvert_exporter": "python",
   "pygments_lexer": "ipython2",
   "version": "2.7.6"
  }
 },
 "nbformat": 4,
 "nbformat_minor": 0
}