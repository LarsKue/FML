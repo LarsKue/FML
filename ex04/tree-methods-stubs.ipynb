{
 "cells": [
  {
   "cell_type": "markdown",
   "metadata": {},
   "source": [
    "# Preliminaries"
   ]
  },
  {
   "cell_type": "code",
   "execution_count": 50,
   "metadata": {},
   "outputs": [],
   "source": [
    "# import modules\n",
    "import numpy as np\n",
    "import pandas as pd\n",
    "\n",
    "from matplotlib import pyplot as plt\n",
    "from sklearn import model_selection\n",
    "\n",
    "from sklearn.datasets import load_digits\n",
    "from sklearn.ensemble import RandomForestClassifier"
   ]
  },
  {
   "cell_type": "code",
   "execution_count": 51,
   "metadata": {},
   "outputs": [],
   "source": [
    "# base classes\n",
    "\n",
    "class Node:\n",
    "    pass\n",
    "\n",
    "class Tree:\n",
    "    def __init__(self):\n",
    "        self.root = Node()\n",
    "    \n",
    "    def find_leaf(self, x):\n",
    "        node = self.root\n",
    "        while hasattr(node, \"feature\"):\n",
    "            j = node.feature\n",
    "            if x[j] <= node.threshold:\n",
    "                node = node.left\n",
    "            else:\n",
    "                node = node.right\n",
    "        return node"
   ]
  },
  {
   "cell_type": "markdown",
   "metadata": {},
   "source": [
    "# Density Tree"
   ]
  },
  {
   "cell_type": "code",
   "execution_count": 52,
   "metadata": {},
   "outputs": [],
   "source": [
    "class DensityTree(Tree):\n",
    "    def __init__(self):\n",
    "        super(DensityTree, self).__init__()\n",
    "        \n",
    "    def train(self, data, prior, n_min=20):\n",
    "        '''\n",
    "        data: the feature matrix for the digit under consideration\n",
    "        prior: the prior probability of this digit\n",
    "        n_min: termination criterion (don't split if a node contains fewer instances)\n",
    "        '''\n",
    "        self.prior = prior\n",
    "        N, D = data.shape\n",
    "        D_try = int(np.sqrt(D)) # number of features to consider for each split decision\n",
    "\n",
    "        # find and remember the tree's bounding box, \n",
    "        # i.e. the lower and upper limits of the training feature set\n",
    "        m, M = np.min(data, axis=0), np.max(data, axis=0)\n",
    "        self.box = m.copy(), M.copy()\n",
    "        \n",
    "        # identify invalid features and adjust the bounding box\n",
    "        # (If m[j] == M[j] for some j, the bounding box has zero volume, \n",
    "        #  causing divide-by-zero errors later on. We must exclude these\n",
    "        #  features from splitting and adjust the bounding box limits \n",
    "        #  such that invalid features have no effect on the volume.)\n",
    "        valid_features   = np.where(m != M)[0]\n",
    "        invalid_features = np.where(m == M)[0]\n",
    "        M[invalid_features] = m[invalid_features] + 1\n",
    "        \n",
    "        \n",
    "        # initialize the root node\n",
    "        self.root.data = data\n",
    "        self.root.box = m.copy(), M.copy()\n",
    "\n",
    "        # build the tree\n",
    "        stack = [self.root]\n",
    "        while len(stack):\n",
    "            node = stack.pop()\n",
    "            n = node.data.shape[0] # number of instances in present node\n",
    "            if n >= n_min:\n",
    "                # Call 'make_density_split_node()' with 'D_try' randomly selected \n",
    "                # indices from 'valid_features'. This turns 'node' into a split node\n",
    "                # and returns the two children, which must be placed on the 'stack'.\n",
    "                selected_indices = valid_features[np.random.choice(len(valid_features), size=D_try, replace=False)]\n",
    "                children = make_density_split_node(node, N, selected_indices)\n",
    "                stack.extend(children)\n",
    "            else:\n",
    "                # Call 'make_density_leaf_node()' to turn 'node' into a leaf node.\n",
    "                make_density_leaf_node(node, N)\n",
    "                \n",
    "    def predict(self, x):\n",
    "        leaf = self.find_leaf(x)\n",
    "        # return p(x | y) * p(y) if x is within the tree's bounding box \n",
    "        # and return 0 otherwise\n",
    "        if (x >= self.box[0]).all() and (x <= self.box[1]).all():\n",
    "            return leaf.response * self.prior\n",
    "        return 0"
   ]
  },
  {
   "cell_type": "code",
   "execution_count": 53,
   "metadata": {},
   "outputs": [],
   "source": [
    "def rolling_mean(x, n):\n",
    "    \"\"\" see https://stackoverflow.com/questions/14313510/how-to-calculate-rolling-moving-average-using-numpy-scipy \"\"\"\n",
    "    return np.convolve(x, np.ones(n), mode=\"valid\") / n\n",
    "\n",
    "def make_density_split_node(node, N, feature_indices):\n",
    "    '''\n",
    "    node: the node to be split\n",
    "    N:    the total number of training instances for the current class\n",
    "    feature_indices: a numpy array of length 'D_try', containing the feature \n",
    "                     indices to be considered in the present split\n",
    "    '''\n",
    "    n, D = node.data.shape\n",
    "    m, M = node.box\n",
    "    \n",
    "    # volume of node\n",
    "    V = np.prod(M - m)\n",
    "    \n",
    "    # find best feature j (among 'feature_indices') and best threshold t for the split\n",
    "    e_min = float(\"inf\")\n",
    "    j_min, t_min = None, None\n",
    "    \n",
    "    for j in feature_indices:\n",
    "        # Hint: For each feature considered, first remove duplicate feature values using \n",
    "        # 'np.unique()'. Describe here why this is necessary.\n",
    "        \n",
    "        # Duplicate features would lead to a threshold that lies directly on a feature\n",
    "        # if such a threshold is selected as the optimal threshold, we cannot assign the feature\n",
    "        # to left or right\n",
    "        data_unique = np.sort(np.unique(node.data[:, j]))\n",
    "        \n",
    "        # all points have the same j-th value => can't split\n",
    "        if len(data_unique) == 1:\n",
    "            continue\n",
    "        \n",
    "        # Compute candidate thresholds\n",
    "        tj = rolling_mean(data_unique, 2)\n",
    "        \n",
    "        \n",
    "        Ns_left = np.array([len(node.data[node.data[:, j] < t]) for t in tj])\n",
    "        Ns_right = node.data.shape[0] - Ns_left\n",
    "        \n",
    "        \n",
    "        Vs_left = V / (M[j] - m[j]) * (tj - m[j])\n",
    "        Vs_right = V / (M[j] - m[j]) * (M[j] - tj)\n",
    "\n",
    "        loo_errors_left = Ns_left/(N*Vs_left) * (Ns_left/N - 2*((Ns_left - 1)/(N - 1)))\n",
    "        loo_errors_right = Ns_right/(N*Vs_right) * (Ns_right/N - 2*((Ns_right - 1)/(N - 1)))\n",
    "\n",
    "        loo_errors = loo_errors_left + loo_errors_right\n",
    "        \n",
    "        loo_error_min_index = np.argmin(loo_errors)\n",
    "        if loo_errors[loo_error_min_index] < e_min:\n",
    "            e_min = loo_errors[loo_error_min_index]\n",
    "            j_min = j\n",
    "            t_min = tj[loo_error_min_index]\n",
    "        \n",
    "        \n",
    "\n",
    "    # create children\n",
    "    left = Node()\n",
    "    right = Node()\n",
    "    \n",
    "    # initialize 'left' and 'right' with the data subsets and bounding boxes\n",
    "    # according to the optimal split found above\n",
    "    mask = node.data[:, j_min] < t_min\n",
    "    \n",
    "    left.data = node.data[mask] # store data in left node -- for subsequent splits\n",
    "    left.box = m.copy(), M.copy() # store bounding box in left node\n",
    "    left.box[1][j_min] = t_min\n",
    "    \n",
    "    \n",
    "    right.data = node.data[~mask]\n",
    "    right.box = m.copy(), M.copy()\n",
    "    right.box[0][j_min] = t_min\n",
    "\n",
    "    \n",
    "    # turn the current 'node' into a split node\n",
    "    # (store children and split condition)\n",
    "    node.left = left\n",
    "    node.right = right\n",
    "    node.feature = j_min\n",
    "    node.threshold = t_min\n",
    "\n",
    "    # return the children (to be placed on the stack)\n",
    "    return left, right"
   ]
  },
  {
   "cell_type": "code",
   "execution_count": 54,
   "metadata": {},
   "outputs": [],
   "source": [
    "def make_density_leaf_node(node, N):\n",
    "    '''\n",
    "    node: the node to become a leaf\n",
    "    N:    the total number of training instances for the current class\n",
    "    '''\n",
    "    # compute and store leaf response\n",
    "    n = node.data.shape[0]\n",
    "    v = np.prod(node.box[1] - node.box[0])\n",
    "    node.response = n/(N*v)"
   ]
  },
  {
   "cell_type": "markdown",
   "metadata": {
    "pycharm": {
     "name": "#%% md\n"
    }
   },
   "source": [
    "# Decision Tree"
   ]
  },
  {
   "cell_type": "code",
   "execution_count": 55,
   "metadata": {
    "jupyter": {
     "outputs_hidden": true
    },
    "pycharm": {
     "name": "#%%\n"
    }
   },
   "outputs": [],
   "source": [
    "class DecisionTree(Tree):\n",
    "    def __init__(self):\n",
    "        super(DecisionTree, self).__init__()\n",
    "        \n",
    "    def train(self, data, labels, n_min=20):\n",
    "        '''\n",
    "        data: the feature matrix for all digits\n",
    "        labels: the corresponding ground-truth responses\n",
    "        n_min: termination criterion (don't split if a node contains fewer instances)\n",
    "        '''\n",
    "        N, D = data.shape\n",
    "        D_try = int(np.sqrt(D)) # how many features to consider for each split decision\n",
    "\n",
    "        # initialize the root node\n",
    "        self.root.data = data\n",
    "        self.root.labels = labels\n",
    "        \n",
    "        stack = [self.root]\n",
    "        while len(stack):\n",
    "            node = stack.pop()\n",
    "            n = node.data.shape[0] # number of instances in present node\n",
    "            if n >= n_min and not node_is_pure(node):\n",
    "                # Call 'make_decision_split_node()' with 'D_try' randomly selected \n",
    "                # feature indices. This turns 'node' into a split node\n",
    "                # and returns the two children, which must be placed on the 'stack'.\n",
    "                selected_indices = np.random.choice(D, size=D_try, replace=False)\n",
    "                children = make_decision_split_node(node, selected_indices)\n",
    "                stack.extend(children)\n",
    "            else:\n",
    "                # Call 'make_decision_leaf_node()' to turn 'node' into a leaf node.\n",
    "                make_decision_leaf_node(node)\n",
    "                \n",
    "    def predict(self, x):\n",
    "        leaf = self.find_leaf(x)\n",
    "        # compute p(y | x)\n",
    "        return leaf.response"
   ]
  },
  {
   "cell_type": "code",
   "execution_count": 56,
   "metadata": {
    "jupyter": {
     "outputs_hidden": true
    }
   },
   "outputs": [],
   "source": [
    "def make_decision_split_node(node, feature_indices):\n",
    "    '''\n",
    "    node: the node to be split\n",
    "    feature_indices: a numpy array of length 'D_try', containing the feature \n",
    "                     indices to be considered in the present split\n",
    "    '''\n",
    "    n, D = node.data.shape\n",
    "\n",
    "    # find best feature j (among 'feature_indices') and best threshold t for the split\n",
    "    e_min = float(\"inf\")\n",
    "    j_min, t_min = None, None\n",
    "    \n",
    "    for j in feature_indices:\n",
    "        # Hint: For each feature considered, first remove duplicate feature values using \n",
    "        # 'np.unique()'. Describe here why this is necessary.\n",
    "        data_unique = np.sort(np.unique(node.data[:, j]))\n",
    "        \n",
    "        # all points have the same j-th value => can't split\n",
    "        if len(data_unique) == 1:\n",
    "            continue\n",
    "        \n",
    "        # Compute candidate thresholds\n",
    "        tj = rolling_mean(data_unique, 2)\n",
    "        \n",
    "        # Illustration: for loop - hint: vectorized version is possible\n",
    "        for t in tj:\n",
    "            mask = node.data[:, j] < t\n",
    "            # left:\n",
    "            left = node.data[mask]\n",
    "            left_label_unique, left_label_count = np.unique(node.labels[mask], return_counts = True)\n",
    "            N_left = len(left)\n",
    "            gini_left = N_left - np.sum(left_label_count*left_label_count) / N_left\n",
    "            \n",
    "            \n",
    "            right = node.data[~mask]\n",
    "            right_label_unique, right_label_count = np.unique(node.labels[~mask], return_counts = True)\n",
    "            N_right = len(right)\n",
    "            gini_right = N_right - np.sum(right_label_count*right_label_count) / N_right\n",
    "\n",
    "            \n",
    "            gini = gini_left + gini_right\n",
    "            \n",
    "            # choose the best threshold that\n",
    "            if gini < e_min:\n",
    "                e_min = gini\n",
    "                j_min = j\n",
    "                t_min = t\n",
    "\n",
    "\n",
    "    # create children\n",
    "    left = Node()\n",
    "    right = Node()\n",
    "    \n",
    "    # initialize 'left' and 'right' with the data subsets and labels\n",
    "    # according to the optimal split found above\n",
    "    mask = node.data[:, j_min] < t_min\n",
    "    \n",
    "    left.data = node.data[mask] # data in left node\n",
    "    left.labels = node.labels[mask] # corresponding labels\n",
    "    right.data = node.data[~mask]\n",
    "    right.labels = node.labels[~mask]\n",
    "\n",
    "    # turn the current 'node' into a split node\n",
    "    # (store children and split condition)\n",
    "    node.left = left\n",
    "    node.right = right\n",
    "    node.feature = j_min\n",
    "    node.threshold = t_min\n",
    "\n",
    "    # return the children (to be placed on the stack)\n",
    "    return left, right    "
   ]
  },
  {
   "cell_type": "code",
   "execution_count": 57,
   "metadata": {
    "jupyter": {
     "outputs_hidden": true
    }
   },
   "outputs": [],
   "source": [
    "def make_decision_leaf_node(node):\n",
    "    '''\n",
    "    node: the node to become a leaf\n",
    "    '''\n",
    "    # compute and store leaf response\n",
    "    node.N = node.data.shape[0]\n",
    "    node.response = np.bincount(node.labels).argmax()"
   ]
  },
  {
   "cell_type": "code",
   "execution_count": 58,
   "metadata": {
    "jupyter": {
     "outputs_hidden": true
    }
   },
   "outputs": [],
   "source": [
    "def node_is_pure(node):\n",
    "    '''\n",
    "    check if 'node' contains only instances of the same digit\n",
    "    '''\n",
    "    return len(np.unique(node.labels)) == 1"
   ]
  },
  {
   "cell_type": "markdown",
   "metadata": {
    "pycharm": {
     "name": "#%% md\n"
    }
   },
   "source": [
    "# Evaluation of Density and Decision Tree"
   ]
  },
  {
   "cell_type": "code",
   "execution_count": 59,
   "metadata": {
    "jupyter": {
     "outputs_hidden": true
    },
    "pycharm": {
     "name": "#%%\n"
    }
   },
   "outputs": [],
   "source": [
    "# read and prepare the digits data\n",
    "digits = load_digits()\n",
    "\n",
    "data = digits[\"data\"]\n",
    "images = digits[\"images\"]\n",
    "target = digits[\"target\"]\n",
    "target_names = digits[\"target_names\"]"
   ]
  },
  {
   "cell_type": "code",
   "execution_count": 60,
   "metadata": {
    "jupyter": {
     "outputs_hidden": true
    }
   },
   "outputs": [
    {
     "name": "stdout",
     "output_type": "stream",
     "text": [
      "confusion matrix for density tree\n",
      "(percentages in a column sum up to 100%)\n"
     ]
    },
    {
     "data": {
      "text/plain": "<pandas.io.formats.style.Styler at 0x1d6f0e2e2e0>",
      "text/html": "<style  type=\"text/css\" >\n#T_8b6bbf47_4457_11eb_91cf_2c56dc3bf821row0_col0,#T_8b6bbf47_4457_11eb_91cf_2c56dc3bf821row1_col1,#T_8b6bbf47_4457_11eb_91cf_2c56dc3bf821row1_col2,#T_8b6bbf47_4457_11eb_91cf_2c56dc3bf821row1_col3,#T_8b6bbf47_4457_11eb_91cf_2c56dc3bf821row1_col8,#T_8b6bbf47_4457_11eb_91cf_2c56dc3bf821row1_col9,#T_8b6bbf47_4457_11eb_91cf_2c56dc3bf821row2_col1,#T_8b6bbf47_4457_11eb_91cf_2c56dc3bf821row2_col2,#T_8b6bbf47_4457_11eb_91cf_2c56dc3bf821row2_col3,#T_8b6bbf47_4457_11eb_91cf_2c56dc3bf821row2_col8,#T_8b6bbf47_4457_11eb_91cf_2c56dc3bf821row3_col2,#T_8b6bbf47_4457_11eb_91cf_2c56dc3bf821row3_col3,#T_8b6bbf47_4457_11eb_91cf_2c56dc3bf821row3_col5,#T_8b6bbf47_4457_11eb_91cf_2c56dc3bf821row3_col8,#T_8b6bbf47_4457_11eb_91cf_2c56dc3bf821row3_col9,#T_8b6bbf47_4457_11eb_91cf_2c56dc3bf821row4_col0,#T_8b6bbf47_4457_11eb_91cf_2c56dc3bf821row4_col1,#T_8b6bbf47_4457_11eb_91cf_2c56dc3bf821row4_col4,#T_8b6bbf47_4457_11eb_91cf_2c56dc3bf821row4_col5,#T_8b6bbf47_4457_11eb_91cf_2c56dc3bf821row4_col7,#T_8b6bbf47_4457_11eb_91cf_2c56dc3bf821row4_col8,#T_8b6bbf47_4457_11eb_91cf_2c56dc3bf821row4_col9,#T_8b6bbf47_4457_11eb_91cf_2c56dc3bf821row5_col1,#T_8b6bbf47_4457_11eb_91cf_2c56dc3bf821row5_col3,#T_8b6bbf47_4457_11eb_91cf_2c56dc3bf821row5_col5,#T_8b6bbf47_4457_11eb_91cf_2c56dc3bf821row5_col6,#T_8b6bbf47_4457_11eb_91cf_2c56dc3bf821row5_col7,#T_8b6bbf47_4457_11eb_91cf_2c56dc3bf821row5_col8,#T_8b6bbf47_4457_11eb_91cf_2c56dc3bf821row5_col9,#T_8b6bbf47_4457_11eb_91cf_2c56dc3bf821row6_col6,#T_8b6bbf47_4457_11eb_91cf_2c56dc3bf821row7_col1,#T_8b6bbf47_4457_11eb_91cf_2c56dc3bf821row7_col3,#T_8b6bbf47_4457_11eb_91cf_2c56dc3bf821row7_col4,#T_8b6bbf47_4457_11eb_91cf_2c56dc3bf821row7_col5,#T_8b6bbf47_4457_11eb_91cf_2c56dc3bf821row7_col7,#T_8b6bbf47_4457_11eb_91cf_2c56dc3bf821row7_col8,#T_8b6bbf47_4457_11eb_91cf_2c56dc3bf821row7_col9,#T_8b6bbf47_4457_11eb_91cf_2c56dc3bf821row8_col1,#T_8b6bbf47_4457_11eb_91cf_2c56dc3bf821row8_col2,#T_8b6bbf47_4457_11eb_91cf_2c56dc3bf821row8_col3,#T_8b6bbf47_4457_11eb_91cf_2c56dc3bf821row8_col4,#T_8b6bbf47_4457_11eb_91cf_2c56dc3bf821row8_col5,#T_8b6bbf47_4457_11eb_91cf_2c56dc3bf821row8_col7,#T_8b6bbf47_4457_11eb_91cf_2c56dc3bf821row8_col8,#T_8b6bbf47_4457_11eb_91cf_2c56dc3bf821row8_col9,#T_8b6bbf47_4457_11eb_91cf_2c56dc3bf821row9_col3,#T_8b6bbf47_4457_11eb_91cf_2c56dc3bf821row9_col5,#T_8b6bbf47_4457_11eb_91cf_2c56dc3bf821row9_col9{\n            color:  black;\n        }#T_8b6bbf47_4457_11eb_91cf_2c56dc3bf821row0_col1,#T_8b6bbf47_4457_11eb_91cf_2c56dc3bf821row0_col2,#T_8b6bbf47_4457_11eb_91cf_2c56dc3bf821row0_col3,#T_8b6bbf47_4457_11eb_91cf_2c56dc3bf821row0_col4,#T_8b6bbf47_4457_11eb_91cf_2c56dc3bf821row0_col5,#T_8b6bbf47_4457_11eb_91cf_2c56dc3bf821row0_col6,#T_8b6bbf47_4457_11eb_91cf_2c56dc3bf821row0_col7,#T_8b6bbf47_4457_11eb_91cf_2c56dc3bf821row0_col8,#T_8b6bbf47_4457_11eb_91cf_2c56dc3bf821row0_col9,#T_8b6bbf47_4457_11eb_91cf_2c56dc3bf821row1_col0,#T_8b6bbf47_4457_11eb_91cf_2c56dc3bf821row1_col4,#T_8b6bbf47_4457_11eb_91cf_2c56dc3bf821row1_col5,#T_8b6bbf47_4457_11eb_91cf_2c56dc3bf821row1_col6,#T_8b6bbf47_4457_11eb_91cf_2c56dc3bf821row1_col7,#T_8b6bbf47_4457_11eb_91cf_2c56dc3bf821row2_col0,#T_8b6bbf47_4457_11eb_91cf_2c56dc3bf821row2_col4,#T_8b6bbf47_4457_11eb_91cf_2c56dc3bf821row2_col5,#T_8b6bbf47_4457_11eb_91cf_2c56dc3bf821row2_col6,#T_8b6bbf47_4457_11eb_91cf_2c56dc3bf821row2_col7,#T_8b6bbf47_4457_11eb_91cf_2c56dc3bf821row2_col9,#T_8b6bbf47_4457_11eb_91cf_2c56dc3bf821row3_col0,#T_8b6bbf47_4457_11eb_91cf_2c56dc3bf821row3_col1,#T_8b6bbf47_4457_11eb_91cf_2c56dc3bf821row3_col4,#T_8b6bbf47_4457_11eb_91cf_2c56dc3bf821row3_col6,#T_8b6bbf47_4457_11eb_91cf_2c56dc3bf821row3_col7,#T_8b6bbf47_4457_11eb_91cf_2c56dc3bf821row4_col2,#T_8b6bbf47_4457_11eb_91cf_2c56dc3bf821row4_col3,#T_8b6bbf47_4457_11eb_91cf_2c56dc3bf821row4_col6,#T_8b6bbf47_4457_11eb_91cf_2c56dc3bf821row5_col0,#T_8b6bbf47_4457_11eb_91cf_2c56dc3bf821row5_col2,#T_8b6bbf47_4457_11eb_91cf_2c56dc3bf821row5_col4,#T_8b6bbf47_4457_11eb_91cf_2c56dc3bf821row6_col0,#T_8b6bbf47_4457_11eb_91cf_2c56dc3bf821row6_col1,#T_8b6bbf47_4457_11eb_91cf_2c56dc3bf821row6_col2,#T_8b6bbf47_4457_11eb_91cf_2c56dc3bf821row6_col3,#T_8b6bbf47_4457_11eb_91cf_2c56dc3bf821row6_col4,#T_8b6bbf47_4457_11eb_91cf_2c56dc3bf821row6_col5,#T_8b6bbf47_4457_11eb_91cf_2c56dc3bf821row6_col7,#T_8b6bbf47_4457_11eb_91cf_2c56dc3bf821row6_col8,#T_8b6bbf47_4457_11eb_91cf_2c56dc3bf821row6_col9,#T_8b6bbf47_4457_11eb_91cf_2c56dc3bf821row7_col0,#T_8b6bbf47_4457_11eb_91cf_2c56dc3bf821row7_col2,#T_8b6bbf47_4457_11eb_91cf_2c56dc3bf821row7_col6,#T_8b6bbf47_4457_11eb_91cf_2c56dc3bf821row8_col0,#T_8b6bbf47_4457_11eb_91cf_2c56dc3bf821row8_col6,#T_8b6bbf47_4457_11eb_91cf_2c56dc3bf821row9_col0,#T_8b6bbf47_4457_11eb_91cf_2c56dc3bf821row9_col1,#T_8b6bbf47_4457_11eb_91cf_2c56dc3bf821row9_col2,#T_8b6bbf47_4457_11eb_91cf_2c56dc3bf821row9_col4,#T_8b6bbf47_4457_11eb_91cf_2c56dc3bf821row9_col6,#T_8b6bbf47_4457_11eb_91cf_2c56dc3bf821row9_col7,#T_8b6bbf47_4457_11eb_91cf_2c56dc3bf821row9_col8{\n            color:  lightgray;\n        }</style><table id=\"T_8b6bbf47_4457_11eb_91cf_2c56dc3bf821\" ><thead>    <tr>        <th class=\"index_name level0\" >true</th>        <th class=\"col_heading level0 col0\" >0</th>        <th class=\"col_heading level0 col1\" >1</th>        <th class=\"col_heading level0 col2\" >2</th>        <th class=\"col_heading level0 col3\" >3</th>        <th class=\"col_heading level0 col4\" >4</th>        <th class=\"col_heading level0 col5\" >5</th>        <th class=\"col_heading level0 col6\" >6</th>        <th class=\"col_heading level0 col7\" >7</th>        <th class=\"col_heading level0 col8\" >8</th>        <th class=\"col_heading level0 col9\" >9</th>    </tr>    <tr>        <th class=\"index_name level0\" >predicted</th>        <th class=\"blank\" ></th>        <th class=\"blank\" ></th>        <th class=\"blank\" ></th>        <th class=\"blank\" ></th>        <th class=\"blank\" ></th>        <th class=\"blank\" ></th>        <th class=\"blank\" ></th>        <th class=\"blank\" ></th>        <th class=\"blank\" ></th>        <th class=\"blank\" ></th>    </tr></thead><tbody>\n                <tr>\n                        <th id=\"T_8b6bbf47_4457_11eb_91cf_2c56dc3bf821level0_row0\" class=\"row_heading level0 row0\" >0</th>\n                        <td id=\"T_8b6bbf47_4457_11eb_91cf_2c56dc3bf821row0_col0\" class=\"data row0 col0\" >99.44%</td>\n                        <td id=\"T_8b6bbf47_4457_11eb_91cf_2c56dc3bf821row0_col1\" class=\"data row0 col1\" >0.00%</td>\n                        <td id=\"T_8b6bbf47_4457_11eb_91cf_2c56dc3bf821row0_col2\" class=\"data row0 col2\" >0.00%</td>\n                        <td id=\"T_8b6bbf47_4457_11eb_91cf_2c56dc3bf821row0_col3\" class=\"data row0 col3\" >0.00%</td>\n                        <td id=\"T_8b6bbf47_4457_11eb_91cf_2c56dc3bf821row0_col4\" class=\"data row0 col4\" >0.00%</td>\n                        <td id=\"T_8b6bbf47_4457_11eb_91cf_2c56dc3bf821row0_col5\" class=\"data row0 col5\" >0.00%</td>\n                        <td id=\"T_8b6bbf47_4457_11eb_91cf_2c56dc3bf821row0_col6\" class=\"data row0 col6\" >0.00%</td>\n                        <td id=\"T_8b6bbf47_4457_11eb_91cf_2c56dc3bf821row0_col7\" class=\"data row0 col7\" >0.00%</td>\n                        <td id=\"T_8b6bbf47_4457_11eb_91cf_2c56dc3bf821row0_col8\" class=\"data row0 col8\" >0.00%</td>\n                        <td id=\"T_8b6bbf47_4457_11eb_91cf_2c56dc3bf821row0_col9\" class=\"data row0 col9\" >0.00%</td>\n            </tr>\n            <tr>\n                        <th id=\"T_8b6bbf47_4457_11eb_91cf_2c56dc3bf821level0_row1\" class=\"row_heading level0 row1\" >1</th>\n                        <td id=\"T_8b6bbf47_4457_11eb_91cf_2c56dc3bf821row1_col0\" class=\"data row1 col0\" >0.00%</td>\n                        <td id=\"T_8b6bbf47_4457_11eb_91cf_2c56dc3bf821row1_col1\" class=\"data row1 col1\" >61.54%</td>\n                        <td id=\"T_8b6bbf47_4457_11eb_91cf_2c56dc3bf821row1_col2\" class=\"data row1 col2\" >13.56%</td>\n                        <td id=\"T_8b6bbf47_4457_11eb_91cf_2c56dc3bf821row1_col3\" class=\"data row1 col3\" >2.19%</td>\n                        <td id=\"T_8b6bbf47_4457_11eb_91cf_2c56dc3bf821row1_col4\" class=\"data row1 col4\" >0.00%</td>\n                        <td id=\"T_8b6bbf47_4457_11eb_91cf_2c56dc3bf821row1_col5\" class=\"data row1 col5\" >0.00%</td>\n                        <td id=\"T_8b6bbf47_4457_11eb_91cf_2c56dc3bf821row1_col6\" class=\"data row1 col6\" >0.00%</td>\n                        <td id=\"T_8b6bbf47_4457_11eb_91cf_2c56dc3bf821row1_col7\" class=\"data row1 col7\" >0.00%</td>\n                        <td id=\"T_8b6bbf47_4457_11eb_91cf_2c56dc3bf821row1_col8\" class=\"data row1 col8\" >5.75%</td>\n                        <td id=\"T_8b6bbf47_4457_11eb_91cf_2c56dc3bf821row1_col9\" class=\"data row1 col9\" >3.89%</td>\n            </tr>\n            <tr>\n                        <th id=\"T_8b6bbf47_4457_11eb_91cf_2c56dc3bf821level0_row2\" class=\"row_heading level0 row2\" >2</th>\n                        <td id=\"T_8b6bbf47_4457_11eb_91cf_2c56dc3bf821row2_col0\" class=\"data row2 col0\" >0.00%</td>\n                        <td id=\"T_8b6bbf47_4457_11eb_91cf_2c56dc3bf821row2_col1\" class=\"data row2 col1\" >2.20%</td>\n                        <td id=\"T_8b6bbf47_4457_11eb_91cf_2c56dc3bf821row2_col2\" class=\"data row2 col2\" >57.63%</td>\n                        <td id=\"T_8b6bbf47_4457_11eb_91cf_2c56dc3bf821row2_col3\" class=\"data row2 col3\" >2.19%</td>\n                        <td id=\"T_8b6bbf47_4457_11eb_91cf_2c56dc3bf821row2_col4\" class=\"data row2 col4\" >0.00%</td>\n                        <td id=\"T_8b6bbf47_4457_11eb_91cf_2c56dc3bf821row2_col5\" class=\"data row2 col5\" >0.00%</td>\n                        <td id=\"T_8b6bbf47_4457_11eb_91cf_2c56dc3bf821row2_col6\" class=\"data row2 col6\" >0.00%</td>\n                        <td id=\"T_8b6bbf47_4457_11eb_91cf_2c56dc3bf821row2_col7\" class=\"data row2 col7\" >0.00%</td>\n                        <td id=\"T_8b6bbf47_4457_11eb_91cf_2c56dc3bf821row2_col8\" class=\"data row2 col8\" >2.30%</td>\n                        <td id=\"T_8b6bbf47_4457_11eb_91cf_2c56dc3bf821row2_col9\" class=\"data row2 col9\" >0.00%</td>\n            </tr>\n            <tr>\n                        <th id=\"T_8b6bbf47_4457_11eb_91cf_2c56dc3bf821level0_row3\" class=\"row_heading level0 row3\" >3</th>\n                        <td id=\"T_8b6bbf47_4457_11eb_91cf_2c56dc3bf821row3_col0\" class=\"data row3 col0\" >0.00%</td>\n                        <td id=\"T_8b6bbf47_4457_11eb_91cf_2c56dc3bf821row3_col1\" class=\"data row3 col1\" >0.00%</td>\n                        <td id=\"T_8b6bbf47_4457_11eb_91cf_2c56dc3bf821row3_col2\" class=\"data row3 col2\" >5.65%</td>\n                        <td id=\"T_8b6bbf47_4457_11eb_91cf_2c56dc3bf821row3_col3\" class=\"data row3 col3\" >59.56%</td>\n                        <td id=\"T_8b6bbf47_4457_11eb_91cf_2c56dc3bf821row3_col4\" class=\"data row3 col4\" >0.00%</td>\n                        <td id=\"T_8b6bbf47_4457_11eb_91cf_2c56dc3bf821row3_col5\" class=\"data row3 col5\" >7.14%</td>\n                        <td id=\"T_8b6bbf47_4457_11eb_91cf_2c56dc3bf821row3_col6\" class=\"data row3 col6\" >0.00%</td>\n                        <td id=\"T_8b6bbf47_4457_11eb_91cf_2c56dc3bf821row3_col7\" class=\"data row3 col7\" >0.00%</td>\n                        <td id=\"T_8b6bbf47_4457_11eb_91cf_2c56dc3bf821row3_col8\" class=\"data row3 col8\" >0.57%</td>\n                        <td id=\"T_8b6bbf47_4457_11eb_91cf_2c56dc3bf821row3_col9\" class=\"data row3 col9\" >10.56%</td>\n            </tr>\n            <tr>\n                        <th id=\"T_8b6bbf47_4457_11eb_91cf_2c56dc3bf821level0_row4\" class=\"row_heading level0 row4\" >4</th>\n                        <td id=\"T_8b6bbf47_4457_11eb_91cf_2c56dc3bf821row4_col0\" class=\"data row4 col0\" >0.56%</td>\n                        <td id=\"T_8b6bbf47_4457_11eb_91cf_2c56dc3bf821row4_col1\" class=\"data row4 col1\" >7.14%</td>\n                        <td id=\"T_8b6bbf47_4457_11eb_91cf_2c56dc3bf821row4_col2\" class=\"data row4 col2\" >0.00%</td>\n                        <td id=\"T_8b6bbf47_4457_11eb_91cf_2c56dc3bf821row4_col3\" class=\"data row4 col3\" >0.00%</td>\n                        <td id=\"T_8b6bbf47_4457_11eb_91cf_2c56dc3bf821row4_col4\" class=\"data row4 col4\" >87.85%</td>\n                        <td id=\"T_8b6bbf47_4457_11eb_91cf_2c56dc3bf821row4_col5\" class=\"data row4 col5\" >0.55%</td>\n                        <td id=\"T_8b6bbf47_4457_11eb_91cf_2c56dc3bf821row4_col6\" class=\"data row4 col6\" >0.00%</td>\n                        <td id=\"T_8b6bbf47_4457_11eb_91cf_2c56dc3bf821row4_col7\" class=\"data row4 col7\" >1.12%</td>\n                        <td id=\"T_8b6bbf47_4457_11eb_91cf_2c56dc3bf821row4_col8\" class=\"data row4 col8\" >0.57%</td>\n                        <td id=\"T_8b6bbf47_4457_11eb_91cf_2c56dc3bf821row4_col9\" class=\"data row4 col9\" >1.11%</td>\n            </tr>\n            <tr>\n                        <th id=\"T_8b6bbf47_4457_11eb_91cf_2c56dc3bf821level0_row5\" class=\"row_heading level0 row5\" >5</th>\n                        <td id=\"T_8b6bbf47_4457_11eb_91cf_2c56dc3bf821row5_col0\" class=\"data row5 col0\" >0.00%</td>\n                        <td id=\"T_8b6bbf47_4457_11eb_91cf_2c56dc3bf821row5_col1\" class=\"data row5 col1\" >3.30%</td>\n                        <td id=\"T_8b6bbf47_4457_11eb_91cf_2c56dc3bf821row5_col2\" class=\"data row5 col2\" >0.00%</td>\n                        <td id=\"T_8b6bbf47_4457_11eb_91cf_2c56dc3bf821row5_col3\" class=\"data row5 col3\" >3.83%</td>\n                        <td id=\"T_8b6bbf47_4457_11eb_91cf_2c56dc3bf821row5_col4\" class=\"data row5 col4\" >0.00%</td>\n                        <td id=\"T_8b6bbf47_4457_11eb_91cf_2c56dc3bf821row5_col5\" class=\"data row5 col5\" >86.81%</td>\n                        <td id=\"T_8b6bbf47_4457_11eb_91cf_2c56dc3bf821row5_col6\" class=\"data row5 col6\" >0.55%</td>\n                        <td id=\"T_8b6bbf47_4457_11eb_91cf_2c56dc3bf821row5_col7\" class=\"data row5 col7\" >0.56%</td>\n                        <td id=\"T_8b6bbf47_4457_11eb_91cf_2c56dc3bf821row5_col8\" class=\"data row5 col8\" >4.02%</td>\n                        <td id=\"T_8b6bbf47_4457_11eb_91cf_2c56dc3bf821row5_col9\" class=\"data row5 col9\" >1.11%</td>\n            </tr>\n            <tr>\n                        <th id=\"T_8b6bbf47_4457_11eb_91cf_2c56dc3bf821level0_row6\" class=\"row_heading level0 row6\" >6</th>\n                        <td id=\"T_8b6bbf47_4457_11eb_91cf_2c56dc3bf821row6_col0\" class=\"data row6 col0\" >0.00%</td>\n                        <td id=\"T_8b6bbf47_4457_11eb_91cf_2c56dc3bf821row6_col1\" class=\"data row6 col1\" >0.00%</td>\n                        <td id=\"T_8b6bbf47_4457_11eb_91cf_2c56dc3bf821row6_col2\" class=\"data row6 col2\" >0.00%</td>\n                        <td id=\"T_8b6bbf47_4457_11eb_91cf_2c56dc3bf821row6_col3\" class=\"data row6 col3\" >0.00%</td>\n                        <td id=\"T_8b6bbf47_4457_11eb_91cf_2c56dc3bf821row6_col4\" class=\"data row6 col4\" >0.00%</td>\n                        <td id=\"T_8b6bbf47_4457_11eb_91cf_2c56dc3bf821row6_col5\" class=\"data row6 col5\" >0.00%</td>\n                        <td id=\"T_8b6bbf47_4457_11eb_91cf_2c56dc3bf821row6_col6\" class=\"data row6 col6\" >99.45%</td>\n                        <td id=\"T_8b6bbf47_4457_11eb_91cf_2c56dc3bf821row6_col7\" class=\"data row6 col7\" >0.00%</td>\n                        <td id=\"T_8b6bbf47_4457_11eb_91cf_2c56dc3bf821row6_col8\" class=\"data row6 col8\" >0.00%</td>\n                        <td id=\"T_8b6bbf47_4457_11eb_91cf_2c56dc3bf821row6_col9\" class=\"data row6 col9\" >0.00%</td>\n            </tr>\n            <tr>\n                        <th id=\"T_8b6bbf47_4457_11eb_91cf_2c56dc3bf821level0_row7\" class=\"row_heading level0 row7\" >7</th>\n                        <td id=\"T_8b6bbf47_4457_11eb_91cf_2c56dc3bf821row7_col0\" class=\"data row7 col0\" >0.00%</td>\n                        <td id=\"T_8b6bbf47_4457_11eb_91cf_2c56dc3bf821row7_col1\" class=\"data row7 col1\" >0.55%</td>\n                        <td id=\"T_8b6bbf47_4457_11eb_91cf_2c56dc3bf821row7_col2\" class=\"data row7 col2\" >0.00%</td>\n                        <td id=\"T_8b6bbf47_4457_11eb_91cf_2c56dc3bf821row7_col3\" class=\"data row7 col3\" >2.73%</td>\n                        <td id=\"T_8b6bbf47_4457_11eb_91cf_2c56dc3bf821row7_col4\" class=\"data row7 col4\" >11.60%</td>\n                        <td id=\"T_8b6bbf47_4457_11eb_91cf_2c56dc3bf821row7_col5\" class=\"data row7 col5\" >0.55%</td>\n                        <td id=\"T_8b6bbf47_4457_11eb_91cf_2c56dc3bf821row7_col6\" class=\"data row7 col6\" >0.00%</td>\n                        <td id=\"T_8b6bbf47_4457_11eb_91cf_2c56dc3bf821row7_col7\" class=\"data row7 col7\" >96.09%</td>\n                        <td id=\"T_8b6bbf47_4457_11eb_91cf_2c56dc3bf821row7_col8\" class=\"data row7 col8\" >2.87%</td>\n                        <td id=\"T_8b6bbf47_4457_11eb_91cf_2c56dc3bf821row7_col9\" class=\"data row7 col9\" >5.56%</td>\n            </tr>\n            <tr>\n                        <th id=\"T_8b6bbf47_4457_11eb_91cf_2c56dc3bf821level0_row8\" class=\"row_heading level0 row8\" >8</th>\n                        <td id=\"T_8b6bbf47_4457_11eb_91cf_2c56dc3bf821row8_col0\" class=\"data row8 col0\" >0.00%</td>\n                        <td id=\"T_8b6bbf47_4457_11eb_91cf_2c56dc3bf821row8_col1\" class=\"data row8 col1\" >25.27%</td>\n                        <td id=\"T_8b6bbf47_4457_11eb_91cf_2c56dc3bf821row8_col2\" class=\"data row8 col2\" >23.16%</td>\n                        <td id=\"T_8b6bbf47_4457_11eb_91cf_2c56dc3bf821row8_col3\" class=\"data row8 col3\" >26.23%</td>\n                        <td id=\"T_8b6bbf47_4457_11eb_91cf_2c56dc3bf821row8_col4\" class=\"data row8 col4\" >0.55%</td>\n                        <td id=\"T_8b6bbf47_4457_11eb_91cf_2c56dc3bf821row8_col5\" class=\"data row8 col5\" >3.85%</td>\n                        <td id=\"T_8b6bbf47_4457_11eb_91cf_2c56dc3bf821row8_col6\" class=\"data row8 col6\" >0.00%</td>\n                        <td id=\"T_8b6bbf47_4457_11eb_91cf_2c56dc3bf821row8_col7\" class=\"data row8 col7\" >2.23%</td>\n                        <td id=\"T_8b6bbf47_4457_11eb_91cf_2c56dc3bf821row8_col8\" class=\"data row8 col8\" >83.91%</td>\n                        <td id=\"T_8b6bbf47_4457_11eb_91cf_2c56dc3bf821row8_col9\" class=\"data row8 col9\" >12.22%</td>\n            </tr>\n            <tr>\n                        <th id=\"T_8b6bbf47_4457_11eb_91cf_2c56dc3bf821level0_row9\" class=\"row_heading level0 row9\" >9</th>\n                        <td id=\"T_8b6bbf47_4457_11eb_91cf_2c56dc3bf821row9_col0\" class=\"data row9 col0\" >0.00%</td>\n                        <td id=\"T_8b6bbf47_4457_11eb_91cf_2c56dc3bf821row9_col1\" class=\"data row9 col1\" >0.00%</td>\n                        <td id=\"T_8b6bbf47_4457_11eb_91cf_2c56dc3bf821row9_col2\" class=\"data row9 col2\" >0.00%</td>\n                        <td id=\"T_8b6bbf47_4457_11eb_91cf_2c56dc3bf821row9_col3\" class=\"data row9 col3\" >3.28%</td>\n                        <td id=\"T_8b6bbf47_4457_11eb_91cf_2c56dc3bf821row9_col4\" class=\"data row9 col4\" >0.00%</td>\n                        <td id=\"T_8b6bbf47_4457_11eb_91cf_2c56dc3bf821row9_col5\" class=\"data row9 col5\" >1.10%</td>\n                        <td id=\"T_8b6bbf47_4457_11eb_91cf_2c56dc3bf821row9_col6\" class=\"data row9 col6\" >0.00%</td>\n                        <td id=\"T_8b6bbf47_4457_11eb_91cf_2c56dc3bf821row9_col7\" class=\"data row9 col7\" >0.00%</td>\n                        <td id=\"T_8b6bbf47_4457_11eb_91cf_2c56dc3bf821row9_col8\" class=\"data row9 col8\" >0.00%</td>\n                        <td id=\"T_8b6bbf47_4457_11eb_91cf_2c56dc3bf821row9_col9\" class=\"data row9 col9\" >65.56%</td>\n            </tr>\n    </tbody></table>"
     },
     "metadata": {},
     "output_type": "display_data"
    }
   ],
   "source": [
    "# train trees, plot training error confusion matrices, and comment on your results\n",
    "trees = []\n",
    "for i in range(10):\n",
    "    density_tree = DensityTree()\n",
    "    data_digits = data[target == i]\n",
    "    density_tree.train(data_digits, data_digits.shape[0] / len(target), n_min=10)\n",
    "    trees.append(density_tree)\n",
    "    \n",
    "    \n",
    "predicted = [np.argmax([density_tree.predict(digit) for density_tree in trees]) for digit in data]\n",
    "\n",
    "pairs, counts = np.unique(np.stack((predicted, target)).T, axis=0, return_counts=True)\n",
    "\n",
    "\n",
    "confusion_matrix = np.zeros((10,10))\n",
    "for pair, count in zip(pairs, counts):\n",
    "    confusion_matrix[pair[0], pair[1]] = count\n",
    "\n",
    "for i in range(10):\n",
    "    confusion_matrix[:,i] /= np.sum(target == i)\n",
    "\n",
    "\n",
    "# display as Pandas DataFrame\n",
    "def fade_zeros(s):\n",
    "    return [\"color: lightgray\" if (v == 0) else \"color: black\" for v in s]\n",
    "\n",
    "print(\"confusion matrix for density tree\\n(percentages in a column sum up to 100%)\")\n",
    "display(\n",
    "    pd.DataFrame(data=confusion_matrix[:, :]*100, index=target_names, columns=target_names)\n",
    "    .rename_axis(\"true\", axis=\"columns\")\n",
    "    .rename_axis(\"predicted\", axis=\"rows\")\n",
    "    .style.apply(fade_zeros)\n",
    "    .format(\"{0:.2f}%\")\n",
    ")"
   ]
  },
  {
   "cell_type": "markdown",
   "source": [
    "The error rate is significant for some digits, with the highest error\n",
    "rate being 42.37% in the classification of the digit 2. Often, 2s are\n",
    "classified as 8s, but true 8s are not often classified as 2s. The\n",
    "next highest error rates are in the classification of 3s and 1s\n",
    "respectively, which are also both often predicted as 8s.\n",
    "\n",
    "The lowest error rate can be seen for the digits 6 and 0, which are only ever\n",
    "rarely mistaken to be a 5 or 4 respectively.\n",
    "\n",
    "The total error rate in a balanced set would be 20.22%."
   ],
   "metadata": {
    "collapsed": false,
    "pycharm": {
     "name": "#%% md\n"
    }
   }
  },
  {
   "cell_type": "code",
   "execution_count": 61,
   "metadata": {},
   "outputs": [
    {
     "name": "stdout",
     "output_type": "stream",
     "text": [
      "confusion matrix for decision tree\n",
      "(percentages in a column sum up to 100%)\n"
     ]
    },
    {
     "data": {
      "text/plain": "<pandas.io.formats.style.Styler at 0x1d6ee23e250>",
      "text/html": "<style  type=\"text/css\" >\n#T_8bda7d95_4457_11eb_aca9_2c56dc3bf821row0_col0,#T_8bda7d95_4457_11eb_aca9_2c56dc3bf821row0_col5,#T_8bda7d95_4457_11eb_aca9_2c56dc3bf821row0_col8,#T_8bda7d95_4457_11eb_aca9_2c56dc3bf821row0_col9,#T_8bda7d95_4457_11eb_aca9_2c56dc3bf821row1_col0,#T_8bda7d95_4457_11eb_aca9_2c56dc3bf821row1_col1,#T_8bda7d95_4457_11eb_aca9_2c56dc3bf821row1_col2,#T_8bda7d95_4457_11eb_aca9_2c56dc3bf821row1_col3,#T_8bda7d95_4457_11eb_aca9_2c56dc3bf821row1_col4,#T_8bda7d95_4457_11eb_aca9_2c56dc3bf821row1_col5,#T_8bda7d95_4457_11eb_aca9_2c56dc3bf821row1_col6,#T_8bda7d95_4457_11eb_aca9_2c56dc3bf821row1_col7,#T_8bda7d95_4457_11eb_aca9_2c56dc3bf821row1_col8,#T_8bda7d95_4457_11eb_aca9_2c56dc3bf821row1_col9,#T_8bda7d95_4457_11eb_aca9_2c56dc3bf821row2_col1,#T_8bda7d95_4457_11eb_aca9_2c56dc3bf821row2_col2,#T_8bda7d95_4457_11eb_aca9_2c56dc3bf821row2_col3,#T_8bda7d95_4457_11eb_aca9_2c56dc3bf821row2_col5,#T_8bda7d95_4457_11eb_aca9_2c56dc3bf821row2_col8,#T_8bda7d95_4457_11eb_aca9_2c56dc3bf821row2_col9,#T_8bda7d95_4457_11eb_aca9_2c56dc3bf821row3_col1,#T_8bda7d95_4457_11eb_aca9_2c56dc3bf821row3_col2,#T_8bda7d95_4457_11eb_aca9_2c56dc3bf821row3_col3,#T_8bda7d95_4457_11eb_aca9_2c56dc3bf821row3_col5,#T_8bda7d95_4457_11eb_aca9_2c56dc3bf821row3_col6,#T_8bda7d95_4457_11eb_aca9_2c56dc3bf821row3_col7,#T_8bda7d95_4457_11eb_aca9_2c56dc3bf821row3_col8,#T_8bda7d95_4457_11eb_aca9_2c56dc3bf821row3_col9,#T_8bda7d95_4457_11eb_aca9_2c56dc3bf821row4_col0,#T_8bda7d95_4457_11eb_aca9_2c56dc3bf821row4_col1,#T_8bda7d95_4457_11eb_aca9_2c56dc3bf821row4_col2,#T_8bda7d95_4457_11eb_aca9_2c56dc3bf821row4_col3,#T_8bda7d95_4457_11eb_aca9_2c56dc3bf821row4_col4,#T_8bda7d95_4457_11eb_aca9_2c56dc3bf821row4_col5,#T_8bda7d95_4457_11eb_aca9_2c56dc3bf821row4_col6,#T_8bda7d95_4457_11eb_aca9_2c56dc3bf821row4_col7,#T_8bda7d95_4457_11eb_aca9_2c56dc3bf821row4_col8,#T_8bda7d95_4457_11eb_aca9_2c56dc3bf821row4_col9,#T_8bda7d95_4457_11eb_aca9_2c56dc3bf821row5_col1,#T_8bda7d95_4457_11eb_aca9_2c56dc3bf821row5_col2,#T_8bda7d95_4457_11eb_aca9_2c56dc3bf821row5_col3,#T_8bda7d95_4457_11eb_aca9_2c56dc3bf821row5_col4,#T_8bda7d95_4457_11eb_aca9_2c56dc3bf821row5_col5,#T_8bda7d95_4457_11eb_aca9_2c56dc3bf821row5_col6,#T_8bda7d95_4457_11eb_aca9_2c56dc3bf821row5_col7,#T_8bda7d95_4457_11eb_aca9_2c56dc3bf821row5_col9,#T_8bda7d95_4457_11eb_aca9_2c56dc3bf821row6_col3,#T_8bda7d95_4457_11eb_aca9_2c56dc3bf821row6_col4,#T_8bda7d95_4457_11eb_aca9_2c56dc3bf821row6_col6,#T_8bda7d95_4457_11eb_aca9_2c56dc3bf821row6_col7,#T_8bda7d95_4457_11eb_aca9_2c56dc3bf821row7_col3,#T_8bda7d95_4457_11eb_aca9_2c56dc3bf821row7_col4,#T_8bda7d95_4457_11eb_aca9_2c56dc3bf821row7_col7,#T_8bda7d95_4457_11eb_aca9_2c56dc3bf821row7_col8,#T_8bda7d95_4457_11eb_aca9_2c56dc3bf821row8_col0,#T_8bda7d95_4457_11eb_aca9_2c56dc3bf821row8_col1,#T_8bda7d95_4457_11eb_aca9_2c56dc3bf821row8_col2,#T_8bda7d95_4457_11eb_aca9_2c56dc3bf821row8_col3,#T_8bda7d95_4457_11eb_aca9_2c56dc3bf821row8_col4,#T_8bda7d95_4457_11eb_aca9_2c56dc3bf821row8_col5,#T_8bda7d95_4457_11eb_aca9_2c56dc3bf821row8_col6,#T_8bda7d95_4457_11eb_aca9_2c56dc3bf821row8_col7,#T_8bda7d95_4457_11eb_aca9_2c56dc3bf821row8_col8,#T_8bda7d95_4457_11eb_aca9_2c56dc3bf821row8_col9,#T_8bda7d95_4457_11eb_aca9_2c56dc3bf821row9_col0,#T_8bda7d95_4457_11eb_aca9_2c56dc3bf821row9_col3,#T_8bda7d95_4457_11eb_aca9_2c56dc3bf821row9_col5,#T_8bda7d95_4457_11eb_aca9_2c56dc3bf821row9_col7,#T_8bda7d95_4457_11eb_aca9_2c56dc3bf821row9_col8,#T_8bda7d95_4457_11eb_aca9_2c56dc3bf821row9_col9{\n            color:  black;\n        }#T_8bda7d95_4457_11eb_aca9_2c56dc3bf821row0_col1,#T_8bda7d95_4457_11eb_aca9_2c56dc3bf821row0_col2,#T_8bda7d95_4457_11eb_aca9_2c56dc3bf821row0_col3,#T_8bda7d95_4457_11eb_aca9_2c56dc3bf821row0_col4,#T_8bda7d95_4457_11eb_aca9_2c56dc3bf821row0_col6,#T_8bda7d95_4457_11eb_aca9_2c56dc3bf821row0_col7,#T_8bda7d95_4457_11eb_aca9_2c56dc3bf821row2_col0,#T_8bda7d95_4457_11eb_aca9_2c56dc3bf821row2_col4,#T_8bda7d95_4457_11eb_aca9_2c56dc3bf821row2_col6,#T_8bda7d95_4457_11eb_aca9_2c56dc3bf821row2_col7,#T_8bda7d95_4457_11eb_aca9_2c56dc3bf821row3_col0,#T_8bda7d95_4457_11eb_aca9_2c56dc3bf821row3_col4,#T_8bda7d95_4457_11eb_aca9_2c56dc3bf821row5_col0,#T_8bda7d95_4457_11eb_aca9_2c56dc3bf821row5_col8,#T_8bda7d95_4457_11eb_aca9_2c56dc3bf821row6_col0,#T_8bda7d95_4457_11eb_aca9_2c56dc3bf821row6_col1,#T_8bda7d95_4457_11eb_aca9_2c56dc3bf821row6_col2,#T_8bda7d95_4457_11eb_aca9_2c56dc3bf821row6_col5,#T_8bda7d95_4457_11eb_aca9_2c56dc3bf821row6_col8,#T_8bda7d95_4457_11eb_aca9_2c56dc3bf821row6_col9,#T_8bda7d95_4457_11eb_aca9_2c56dc3bf821row7_col0,#T_8bda7d95_4457_11eb_aca9_2c56dc3bf821row7_col1,#T_8bda7d95_4457_11eb_aca9_2c56dc3bf821row7_col2,#T_8bda7d95_4457_11eb_aca9_2c56dc3bf821row7_col5,#T_8bda7d95_4457_11eb_aca9_2c56dc3bf821row7_col6,#T_8bda7d95_4457_11eb_aca9_2c56dc3bf821row7_col9,#T_8bda7d95_4457_11eb_aca9_2c56dc3bf821row9_col1,#T_8bda7d95_4457_11eb_aca9_2c56dc3bf821row9_col2,#T_8bda7d95_4457_11eb_aca9_2c56dc3bf821row9_col4,#T_8bda7d95_4457_11eb_aca9_2c56dc3bf821row9_col6{\n            color:  lightgray;\n        }</style><table id=\"T_8bda7d95_4457_11eb_aca9_2c56dc3bf821\" ><thead>    <tr>        <th class=\"index_name level0\" >true</th>        <th class=\"col_heading level0 col0\" >0</th>        <th class=\"col_heading level0 col1\" >1</th>        <th class=\"col_heading level0 col2\" >2</th>        <th class=\"col_heading level0 col3\" >3</th>        <th class=\"col_heading level0 col4\" >4</th>        <th class=\"col_heading level0 col5\" >5</th>        <th class=\"col_heading level0 col6\" >6</th>        <th class=\"col_heading level0 col7\" >7</th>        <th class=\"col_heading level0 col8\" >8</th>        <th class=\"col_heading level0 col9\" >9</th>    </tr>    <tr>        <th class=\"index_name level0\" >predicted</th>        <th class=\"blank\" ></th>        <th class=\"blank\" ></th>        <th class=\"blank\" ></th>        <th class=\"blank\" ></th>        <th class=\"blank\" ></th>        <th class=\"blank\" ></th>        <th class=\"blank\" ></th>        <th class=\"blank\" ></th>        <th class=\"blank\" ></th>        <th class=\"blank\" ></th>    </tr></thead><tbody>\n                <tr>\n                        <th id=\"T_8bda7d95_4457_11eb_aca9_2c56dc3bf821level0_row0\" class=\"row_heading level0 row0\" >0</th>\n                        <td id=\"T_8bda7d95_4457_11eb_aca9_2c56dc3bf821row0_col0\" class=\"data row0 col0\" >95.51%</td>\n                        <td id=\"T_8bda7d95_4457_11eb_aca9_2c56dc3bf821row0_col1\" class=\"data row0 col1\" >0.00%</td>\n                        <td id=\"T_8bda7d95_4457_11eb_aca9_2c56dc3bf821row0_col2\" class=\"data row0 col2\" >0.00%</td>\n                        <td id=\"T_8bda7d95_4457_11eb_aca9_2c56dc3bf821row0_col3\" class=\"data row0 col3\" >0.00%</td>\n                        <td id=\"T_8bda7d95_4457_11eb_aca9_2c56dc3bf821row0_col4\" class=\"data row0 col4\" >0.00%</td>\n                        <td id=\"T_8bda7d95_4457_11eb_aca9_2c56dc3bf821row0_col5\" class=\"data row0 col5\" >0.55%</td>\n                        <td id=\"T_8bda7d95_4457_11eb_aca9_2c56dc3bf821row0_col6\" class=\"data row0 col6\" >0.00%</td>\n                        <td id=\"T_8bda7d95_4457_11eb_aca9_2c56dc3bf821row0_col7\" class=\"data row0 col7\" >0.00%</td>\n                        <td id=\"T_8bda7d95_4457_11eb_aca9_2c56dc3bf821row0_col8\" class=\"data row0 col8\" >1.15%</td>\n                        <td id=\"T_8bda7d95_4457_11eb_aca9_2c56dc3bf821row0_col9\" class=\"data row0 col9\" >0.56%</td>\n            </tr>\n            <tr>\n                        <th id=\"T_8bda7d95_4457_11eb_aca9_2c56dc3bf821level0_row1\" class=\"row_heading level0 row1\" >1</th>\n                        <td id=\"T_8bda7d95_4457_11eb_aca9_2c56dc3bf821row1_col0\" class=\"data row1 col0\" >1.69%</td>\n                        <td id=\"T_8bda7d95_4457_11eb_aca9_2c56dc3bf821row1_col1\" class=\"data row1 col1\" >89.56%</td>\n                        <td id=\"T_8bda7d95_4457_11eb_aca9_2c56dc3bf821row1_col2\" class=\"data row1 col2\" >5.65%</td>\n                        <td id=\"T_8bda7d95_4457_11eb_aca9_2c56dc3bf821row1_col3\" class=\"data row1 col3\" >0.55%</td>\n                        <td id=\"T_8bda7d95_4457_11eb_aca9_2c56dc3bf821row1_col4\" class=\"data row1 col4\" >2.21%</td>\n                        <td id=\"T_8bda7d95_4457_11eb_aca9_2c56dc3bf821row1_col5\" class=\"data row1 col5\" >1.10%</td>\n                        <td id=\"T_8bda7d95_4457_11eb_aca9_2c56dc3bf821row1_col6\" class=\"data row1 col6\" >2.21%</td>\n                        <td id=\"T_8bda7d95_4457_11eb_aca9_2c56dc3bf821row1_col7\" class=\"data row1 col7\" >5.03%</td>\n                        <td id=\"T_8bda7d95_4457_11eb_aca9_2c56dc3bf821row1_col8\" class=\"data row1 col8\" >8.62%</td>\n                        <td id=\"T_8bda7d95_4457_11eb_aca9_2c56dc3bf821row1_col9\" class=\"data row1 col9\" >1.11%</td>\n            </tr>\n            <tr>\n                        <th id=\"T_8bda7d95_4457_11eb_aca9_2c56dc3bf821level0_row2\" class=\"row_heading level0 row2\" >2</th>\n                        <td id=\"T_8bda7d95_4457_11eb_aca9_2c56dc3bf821row2_col0\" class=\"data row2 col0\" >0.00%</td>\n                        <td id=\"T_8bda7d95_4457_11eb_aca9_2c56dc3bf821row2_col1\" class=\"data row2 col1\" >2.75%</td>\n                        <td id=\"T_8bda7d95_4457_11eb_aca9_2c56dc3bf821row2_col2\" class=\"data row2 col2\" >89.83%</td>\n                        <td id=\"T_8bda7d95_4457_11eb_aca9_2c56dc3bf821row2_col3\" class=\"data row2 col3\" >4.37%</td>\n                        <td id=\"T_8bda7d95_4457_11eb_aca9_2c56dc3bf821row2_col4\" class=\"data row2 col4\" >0.00%</td>\n                        <td id=\"T_8bda7d95_4457_11eb_aca9_2c56dc3bf821row2_col5\" class=\"data row2 col5\" >0.55%</td>\n                        <td id=\"T_8bda7d95_4457_11eb_aca9_2c56dc3bf821row2_col6\" class=\"data row2 col6\" >0.00%</td>\n                        <td id=\"T_8bda7d95_4457_11eb_aca9_2c56dc3bf821row2_col7\" class=\"data row2 col7\" >0.00%</td>\n                        <td id=\"T_8bda7d95_4457_11eb_aca9_2c56dc3bf821row2_col8\" class=\"data row2 col8\" >5.17%</td>\n                        <td id=\"T_8bda7d95_4457_11eb_aca9_2c56dc3bf821row2_col9\" class=\"data row2 col9\" >0.56%</td>\n            </tr>\n            <tr>\n                        <th id=\"T_8bda7d95_4457_11eb_aca9_2c56dc3bf821level0_row3\" class=\"row_heading level0 row3\" >3</th>\n                        <td id=\"T_8bda7d95_4457_11eb_aca9_2c56dc3bf821row3_col0\" class=\"data row3 col0\" >0.00%</td>\n                        <td id=\"T_8bda7d95_4457_11eb_aca9_2c56dc3bf821row3_col1\" class=\"data row3 col1\" >1.10%</td>\n                        <td id=\"T_8bda7d95_4457_11eb_aca9_2c56dc3bf821row3_col2\" class=\"data row3 col2\" >1.13%</td>\n                        <td id=\"T_8bda7d95_4457_11eb_aca9_2c56dc3bf821row3_col3\" class=\"data row3 col3\" >85.25%</td>\n                        <td id=\"T_8bda7d95_4457_11eb_aca9_2c56dc3bf821row3_col4\" class=\"data row3 col4\" >0.00%</td>\n                        <td id=\"T_8bda7d95_4457_11eb_aca9_2c56dc3bf821row3_col5\" class=\"data row3 col5\" >4.40%</td>\n                        <td id=\"T_8bda7d95_4457_11eb_aca9_2c56dc3bf821row3_col6\" class=\"data row3 col6\" >1.10%</td>\n                        <td id=\"T_8bda7d95_4457_11eb_aca9_2c56dc3bf821row3_col7\" class=\"data row3 col7\" >0.56%</td>\n                        <td id=\"T_8bda7d95_4457_11eb_aca9_2c56dc3bf821row3_col8\" class=\"data row3 col8\" >5.75%</td>\n                        <td id=\"T_8bda7d95_4457_11eb_aca9_2c56dc3bf821row3_col9\" class=\"data row3 col9\" >7.22%</td>\n            </tr>\n            <tr>\n                        <th id=\"T_8bda7d95_4457_11eb_aca9_2c56dc3bf821level0_row4\" class=\"row_heading level0 row4\" >4</th>\n                        <td id=\"T_8bda7d95_4457_11eb_aca9_2c56dc3bf821row4_col0\" class=\"data row4 col0\" >0.56%</td>\n                        <td id=\"T_8bda7d95_4457_11eb_aca9_2c56dc3bf821row4_col1\" class=\"data row4 col1\" >2.75%</td>\n                        <td id=\"T_8bda7d95_4457_11eb_aca9_2c56dc3bf821row4_col2\" class=\"data row4 col2\" >0.56%</td>\n                        <td id=\"T_8bda7d95_4457_11eb_aca9_2c56dc3bf821row4_col3\" class=\"data row4 col3\" >1.09%</td>\n                        <td id=\"T_8bda7d95_4457_11eb_aca9_2c56dc3bf821row4_col4\" class=\"data row4 col4\" >95.03%</td>\n                        <td id=\"T_8bda7d95_4457_11eb_aca9_2c56dc3bf821row4_col5\" class=\"data row4 col5\" >1.10%</td>\n                        <td id=\"T_8bda7d95_4457_11eb_aca9_2c56dc3bf821row4_col6\" class=\"data row4 col6\" >2.76%</td>\n                        <td id=\"T_8bda7d95_4457_11eb_aca9_2c56dc3bf821row4_col7\" class=\"data row4 col7\" >5.59%</td>\n                        <td id=\"T_8bda7d95_4457_11eb_aca9_2c56dc3bf821row4_col8\" class=\"data row4 col8\" >0.57%</td>\n                        <td id=\"T_8bda7d95_4457_11eb_aca9_2c56dc3bf821row4_col9\" class=\"data row4 col9\" >1.67%</td>\n            </tr>\n            <tr>\n                        <th id=\"T_8bda7d95_4457_11eb_aca9_2c56dc3bf821level0_row5\" class=\"row_heading level0 row5\" >5</th>\n                        <td id=\"T_8bda7d95_4457_11eb_aca9_2c56dc3bf821row5_col0\" class=\"data row5 col0\" >0.00%</td>\n                        <td id=\"T_8bda7d95_4457_11eb_aca9_2c56dc3bf821row5_col1\" class=\"data row5 col1\" >1.10%</td>\n                        <td id=\"T_8bda7d95_4457_11eb_aca9_2c56dc3bf821row5_col2\" class=\"data row5 col2\" >1.69%</td>\n                        <td id=\"T_8bda7d95_4457_11eb_aca9_2c56dc3bf821row5_col3\" class=\"data row5 col3\" >2.19%</td>\n                        <td id=\"T_8bda7d95_4457_11eb_aca9_2c56dc3bf821row5_col4\" class=\"data row5 col4\" >0.55%</td>\n                        <td id=\"T_8bda7d95_4457_11eb_aca9_2c56dc3bf821row5_col5\" class=\"data row5 col5\" >90.11%</td>\n                        <td id=\"T_8bda7d95_4457_11eb_aca9_2c56dc3bf821row5_col6\" class=\"data row5 col6\" >1.10%</td>\n                        <td id=\"T_8bda7d95_4457_11eb_aca9_2c56dc3bf821row5_col7\" class=\"data row5 col7\" >2.23%</td>\n                        <td id=\"T_8bda7d95_4457_11eb_aca9_2c56dc3bf821row5_col8\" class=\"data row5 col8\" >0.00%</td>\n                        <td id=\"T_8bda7d95_4457_11eb_aca9_2c56dc3bf821row5_col9\" class=\"data row5 col9\" >4.44%</td>\n            </tr>\n            <tr>\n                        <th id=\"T_8bda7d95_4457_11eb_aca9_2c56dc3bf821level0_row6\" class=\"row_heading level0 row6\" >6</th>\n                        <td id=\"T_8bda7d95_4457_11eb_aca9_2c56dc3bf821row6_col0\" class=\"data row6 col0\" >0.00%</td>\n                        <td id=\"T_8bda7d95_4457_11eb_aca9_2c56dc3bf821row6_col1\" class=\"data row6 col1\" >0.00%</td>\n                        <td id=\"T_8bda7d95_4457_11eb_aca9_2c56dc3bf821row6_col2\" class=\"data row6 col2\" >0.00%</td>\n                        <td id=\"T_8bda7d95_4457_11eb_aca9_2c56dc3bf821row6_col3\" class=\"data row6 col3\" >2.73%</td>\n                        <td id=\"T_8bda7d95_4457_11eb_aca9_2c56dc3bf821row6_col4\" class=\"data row6 col4\" >1.10%</td>\n                        <td id=\"T_8bda7d95_4457_11eb_aca9_2c56dc3bf821row6_col5\" class=\"data row6 col5\" >0.00%</td>\n                        <td id=\"T_8bda7d95_4457_11eb_aca9_2c56dc3bf821row6_col6\" class=\"data row6 col6\" >92.27%</td>\n                        <td id=\"T_8bda7d95_4457_11eb_aca9_2c56dc3bf821row6_col7\" class=\"data row6 col7\" >0.56%</td>\n                        <td id=\"T_8bda7d95_4457_11eb_aca9_2c56dc3bf821row6_col8\" class=\"data row6 col8\" >0.00%</td>\n                        <td id=\"T_8bda7d95_4457_11eb_aca9_2c56dc3bf821row6_col9\" class=\"data row6 col9\" >0.00%</td>\n            </tr>\n            <tr>\n                        <th id=\"T_8bda7d95_4457_11eb_aca9_2c56dc3bf821level0_row7\" class=\"row_heading level0 row7\" >7</th>\n                        <td id=\"T_8bda7d95_4457_11eb_aca9_2c56dc3bf821row7_col0\" class=\"data row7 col0\" >0.00%</td>\n                        <td id=\"T_8bda7d95_4457_11eb_aca9_2c56dc3bf821row7_col1\" class=\"data row7 col1\" >0.00%</td>\n                        <td id=\"T_8bda7d95_4457_11eb_aca9_2c56dc3bf821row7_col2\" class=\"data row7 col2\" >0.00%</td>\n                        <td id=\"T_8bda7d95_4457_11eb_aca9_2c56dc3bf821row7_col3\" class=\"data row7 col3\" >0.55%</td>\n                        <td id=\"T_8bda7d95_4457_11eb_aca9_2c56dc3bf821row7_col4\" class=\"data row7 col4\" >0.55%</td>\n                        <td id=\"T_8bda7d95_4457_11eb_aca9_2c56dc3bf821row7_col5\" class=\"data row7 col5\" >0.00%</td>\n                        <td id=\"T_8bda7d95_4457_11eb_aca9_2c56dc3bf821row7_col6\" class=\"data row7 col6\" >0.00%</td>\n                        <td id=\"T_8bda7d95_4457_11eb_aca9_2c56dc3bf821row7_col7\" class=\"data row7 col7\" >81.01%</td>\n                        <td id=\"T_8bda7d95_4457_11eb_aca9_2c56dc3bf821row7_col8\" class=\"data row7 col8\" >1.72%</td>\n                        <td id=\"T_8bda7d95_4457_11eb_aca9_2c56dc3bf821row7_col9\" class=\"data row7 col9\" >0.00%</td>\n            </tr>\n            <tr>\n                        <th id=\"T_8bda7d95_4457_11eb_aca9_2c56dc3bf821level0_row8\" class=\"row_heading level0 row8\" >8</th>\n                        <td id=\"T_8bda7d95_4457_11eb_aca9_2c56dc3bf821row8_col0\" class=\"data row8 col0\" >1.12%</td>\n                        <td id=\"T_8bda7d95_4457_11eb_aca9_2c56dc3bf821row8_col1\" class=\"data row8 col1\" >2.75%</td>\n                        <td id=\"T_8bda7d95_4457_11eb_aca9_2c56dc3bf821row8_col2\" class=\"data row8 col2\" >1.13%</td>\n                        <td id=\"T_8bda7d95_4457_11eb_aca9_2c56dc3bf821row8_col3\" class=\"data row8 col3\" >2.19%</td>\n                        <td id=\"T_8bda7d95_4457_11eb_aca9_2c56dc3bf821row8_col4\" class=\"data row8 col4\" >0.55%</td>\n                        <td id=\"T_8bda7d95_4457_11eb_aca9_2c56dc3bf821row8_col5\" class=\"data row8 col5\" >0.55%</td>\n                        <td id=\"T_8bda7d95_4457_11eb_aca9_2c56dc3bf821row8_col6\" class=\"data row8 col6\" >0.55%</td>\n                        <td id=\"T_8bda7d95_4457_11eb_aca9_2c56dc3bf821row8_col7\" class=\"data row8 col7\" >2.23%</td>\n                        <td id=\"T_8bda7d95_4457_11eb_aca9_2c56dc3bf821row8_col8\" class=\"data row8 col8\" >74.71%</td>\n                        <td id=\"T_8bda7d95_4457_11eb_aca9_2c56dc3bf821row8_col9\" class=\"data row8 col9\" >4.44%</td>\n            </tr>\n            <tr>\n                        <th id=\"T_8bda7d95_4457_11eb_aca9_2c56dc3bf821level0_row9\" class=\"row_heading level0 row9\" >9</th>\n                        <td id=\"T_8bda7d95_4457_11eb_aca9_2c56dc3bf821row9_col0\" class=\"data row9 col0\" >1.12%</td>\n                        <td id=\"T_8bda7d95_4457_11eb_aca9_2c56dc3bf821row9_col1\" class=\"data row9 col1\" >0.00%</td>\n                        <td id=\"T_8bda7d95_4457_11eb_aca9_2c56dc3bf821row9_col2\" class=\"data row9 col2\" >0.00%</td>\n                        <td id=\"T_8bda7d95_4457_11eb_aca9_2c56dc3bf821row9_col3\" class=\"data row9 col3\" >1.09%</td>\n                        <td id=\"T_8bda7d95_4457_11eb_aca9_2c56dc3bf821row9_col4\" class=\"data row9 col4\" >0.00%</td>\n                        <td id=\"T_8bda7d95_4457_11eb_aca9_2c56dc3bf821row9_col5\" class=\"data row9 col5\" >1.65%</td>\n                        <td id=\"T_8bda7d95_4457_11eb_aca9_2c56dc3bf821row9_col6\" class=\"data row9 col6\" >0.00%</td>\n                        <td id=\"T_8bda7d95_4457_11eb_aca9_2c56dc3bf821row9_col7\" class=\"data row9 col7\" >2.79%</td>\n                        <td id=\"T_8bda7d95_4457_11eb_aca9_2c56dc3bf821row9_col8\" class=\"data row9 col8\" >2.30%</td>\n                        <td id=\"T_8bda7d95_4457_11eb_aca9_2c56dc3bf821row9_col9\" class=\"data row9 col9\" >80.00%</td>\n            </tr>\n    </tbody></table>"
     },
     "metadata": {},
     "output_type": "display_data"
    }
   ],
   "source": [
    "decision_tree = DecisionTree()\n",
    "decision_tree.train(data, target)\n",
    "\n",
    "\n",
    "predicted = [decision_tree.predict(digit) for digit in data]\n",
    "\n",
    "\n",
    "pairs, counts = np.unique(np.stack((predicted, target)).T, axis=0, return_counts=True)\n",
    "\n",
    "\n",
    "confusion_matrix = np.zeros((10,10))\n",
    "for pair, count in zip(pairs, counts):\n",
    "    confusion_matrix[pair[0], pair[1]] = count\n",
    "    \n",
    "    \n",
    "for i in range(10):\n",
    "    confusion_matrix[:,i] /= np.sum(target == i)\n",
    "\n",
    "\n",
    "\n",
    "# display as Pandas DataFrame\n",
    "def fade_zeros(s):\n",
    "    return [\"color: lightgray\" if (v == 0) else \"color: black\" for v in s]\n",
    "\n",
    "\n",
    "print(\"confusion matrix for decision tree\\n(percentages in a column sum up to 100%)\")\n",
    "display(\n",
    "    pd.DataFrame(data=confusion_matrix[:, :]*100, index=target_names, columns=target_names)\n",
    "    .rename_axis(\"true\", axis=\"columns\")\n",
    "    .rename_axis(\"predicted\", axis=\"rows\")\n",
    "    .style.apply(fade_zeros)\n",
    "    .format(\"{0:.2f}%\")\n",
    ")"
   ]
  },
  {
   "cell_type": "markdown",
   "source": [
    "This method has much better error rates for nearly all classifications.\n",
    "This can already be seen in the error rate for a balanced set, which\n",
    "would be 12.67%.\n",
    "\n",
    "Most often incorrectly classified is now the digit 8, which is most often\n",
    "mistaken for a 1. The digit most often correctly predicted is 0.\n",
    "\n",
    "Overall, the decision tree seems to be a better choice for this dataset,\n",
    "judging by its training errors. The incorrect guesses for the density\n",
    "tree tend to fall onto a single digit in each column, whereas the\n",
    "decision tree is much more spread out.\n",
    "\n",
    "As such, the density tree seems to mistake digits for others at times,\n",
    "whereas the decision tree tends to just guess a seemingly random digit\n",
    "when it does not know the correct answer.\n"
   ],
   "metadata": {
    "collapsed": false,
    "pycharm": {
     "name": "#%% md\n"
    }
   }
  },
  {
   "cell_type": "markdown",
   "metadata": {},
   "source": [
    "# Density and Decision Forest"
   ]
  },
  {
   "cell_type": "code",
   "execution_count": 62,
   "metadata": {
    "jupyter": {
     "outputs_hidden": true
    }
   },
   "outputs": [],
   "source": [
    "class DensityForest:\n",
    "    def __init__(self, n_trees):\n",
    "        # create ensemble\n",
    "        self.trees = [DensityTree() for i in range(n_trees)]\n",
    "    \n",
    "    def train(self, data, prior, n_min=20):\n",
    "        N = data.shape[0]\n",
    "        for tree in self.trees:\n",
    "            # train each tree, using a bootstrap sample of the data\n",
    "            training_set = data[np.random.choice(N, size=N, replace=True)]\n",
    "            tree.train(training_set, prior)\n",
    "            \n",
    "\n",
    "    def predict(self, x):\n",
    "        # compute the ensemble prediction\n",
    "        return np.mean([tree.predict(x) for tree in self.trees])"
   ]
  },
  {
   "cell_type": "code",
   "execution_count": 63,
   "metadata": {
    "jupyter": {
     "outputs_hidden": true
    }
   },
   "outputs": [],
   "source": [
    "class DecisionForest:\n",
    "    def __init__(self, n_trees):\n",
    "        # create ensemble\n",
    "        self.trees = [DecisionTree() for i in range(n_trees)]\n",
    "    \n",
    "    def train(self, data, labels, n_min=0):\n",
    "        N = data.shape[0]\n",
    "        for tree in self.trees:\n",
    "            # train each tree, using a bootstrap sample of the data\n",
    "            training_set_indices = np.random.choice(N, size=N, replace=True)\n",
    "            tree.train(data[training_set_indices], labels[training_set_indices])\n",
    "\n",
    "    def predict(self, x):\n",
    "        # compute the ensemble prediction\n",
    "        return np.bincount([tree.predict(x) for tree in self.trees]).argmax()"
   ]
  },
  {
   "cell_type": "markdown",
   "metadata": {},
   "source": [
    "# Evaluation of Density and Decision Forest"
   ]
  },
  {
   "cell_type": "code",
   "execution_count": 64,
   "metadata": {
    "jupyter": {
     "outputs_hidden": true
    }
   },
   "outputs": [
    {
     "name": "stdout",
     "output_type": "stream",
     "text": [
      "confusion matrix for density forest\n",
      "(percentages in a column sum up to 100%)\n"
     ]
    },
    {
     "data": {
      "text/plain": "<pandas.io.formats.style.Styler at 0x1d6e415bd30>",
      "text/html": "<style  type=\"text/css\" >\n#T_8f0f12c0_4457_11eb_bf33_2c56dc3bf821row0_col0,#T_8f0f12c0_4457_11eb_bf33_2c56dc3bf821row1_col1,#T_8f0f12c0_4457_11eb_bf33_2c56dc3bf821row1_col2,#T_8f0f12c0_4457_11eb_bf33_2c56dc3bf821row1_col4,#T_8f0f12c0_4457_11eb_bf33_2c56dc3bf821row1_col7,#T_8f0f12c0_4457_11eb_bf33_2c56dc3bf821row1_col8,#T_8f0f12c0_4457_11eb_bf33_2c56dc3bf821row2_col1,#T_8f0f12c0_4457_11eb_bf33_2c56dc3bf821row2_col2,#T_8f0f12c0_4457_11eb_bf33_2c56dc3bf821row2_col3,#T_8f0f12c0_4457_11eb_bf33_2c56dc3bf821row2_col8,#T_8f0f12c0_4457_11eb_bf33_2c56dc3bf821row3_col2,#T_8f0f12c0_4457_11eb_bf33_2c56dc3bf821row3_col3,#T_8f0f12c0_4457_11eb_bf33_2c56dc3bf821row3_col5,#T_8f0f12c0_4457_11eb_bf33_2c56dc3bf821row3_col8,#T_8f0f12c0_4457_11eb_bf33_2c56dc3bf821row3_col9,#T_8f0f12c0_4457_11eb_bf33_2c56dc3bf821row4_col1,#T_8f0f12c0_4457_11eb_bf33_2c56dc3bf821row4_col4,#T_8f0f12c0_4457_11eb_bf33_2c56dc3bf821row4_col5,#T_8f0f12c0_4457_11eb_bf33_2c56dc3bf821row4_col7,#T_8f0f12c0_4457_11eb_bf33_2c56dc3bf821row4_col8,#T_8f0f12c0_4457_11eb_bf33_2c56dc3bf821row4_col9,#T_8f0f12c0_4457_11eb_bf33_2c56dc3bf821row5_col1,#T_8f0f12c0_4457_11eb_bf33_2c56dc3bf821row5_col3,#T_8f0f12c0_4457_11eb_bf33_2c56dc3bf821row5_col5,#T_8f0f12c0_4457_11eb_bf33_2c56dc3bf821row5_col9,#T_8f0f12c0_4457_11eb_bf33_2c56dc3bf821row6_col6,#T_8f0f12c0_4457_11eb_bf33_2c56dc3bf821row7_col3,#T_8f0f12c0_4457_11eb_bf33_2c56dc3bf821row7_col4,#T_8f0f12c0_4457_11eb_bf33_2c56dc3bf821row7_col5,#T_8f0f12c0_4457_11eb_bf33_2c56dc3bf821row7_col7,#T_8f0f12c0_4457_11eb_bf33_2c56dc3bf821row7_col8,#T_8f0f12c0_4457_11eb_bf33_2c56dc3bf821row7_col9,#T_8f0f12c0_4457_11eb_bf33_2c56dc3bf821row8_col1,#T_8f0f12c0_4457_11eb_bf33_2c56dc3bf821row8_col2,#T_8f0f12c0_4457_11eb_bf33_2c56dc3bf821row8_col3,#T_8f0f12c0_4457_11eb_bf33_2c56dc3bf821row8_col5,#T_8f0f12c0_4457_11eb_bf33_2c56dc3bf821row8_col7,#T_8f0f12c0_4457_11eb_bf33_2c56dc3bf821row8_col8,#T_8f0f12c0_4457_11eb_bf33_2c56dc3bf821row8_col9,#T_8f0f12c0_4457_11eb_bf33_2c56dc3bf821row9_col3,#T_8f0f12c0_4457_11eb_bf33_2c56dc3bf821row9_col5,#T_8f0f12c0_4457_11eb_bf33_2c56dc3bf821row9_col9{\n            color:  black;\n        }#T_8f0f12c0_4457_11eb_bf33_2c56dc3bf821row0_col1,#T_8f0f12c0_4457_11eb_bf33_2c56dc3bf821row0_col2,#T_8f0f12c0_4457_11eb_bf33_2c56dc3bf821row0_col3,#T_8f0f12c0_4457_11eb_bf33_2c56dc3bf821row0_col4,#T_8f0f12c0_4457_11eb_bf33_2c56dc3bf821row0_col5,#T_8f0f12c0_4457_11eb_bf33_2c56dc3bf821row0_col6,#T_8f0f12c0_4457_11eb_bf33_2c56dc3bf821row0_col7,#T_8f0f12c0_4457_11eb_bf33_2c56dc3bf821row0_col8,#T_8f0f12c0_4457_11eb_bf33_2c56dc3bf821row0_col9,#T_8f0f12c0_4457_11eb_bf33_2c56dc3bf821row1_col0,#T_8f0f12c0_4457_11eb_bf33_2c56dc3bf821row1_col3,#T_8f0f12c0_4457_11eb_bf33_2c56dc3bf821row1_col5,#T_8f0f12c0_4457_11eb_bf33_2c56dc3bf821row1_col6,#T_8f0f12c0_4457_11eb_bf33_2c56dc3bf821row1_col9,#T_8f0f12c0_4457_11eb_bf33_2c56dc3bf821row2_col0,#T_8f0f12c0_4457_11eb_bf33_2c56dc3bf821row2_col4,#T_8f0f12c0_4457_11eb_bf33_2c56dc3bf821row2_col5,#T_8f0f12c0_4457_11eb_bf33_2c56dc3bf821row2_col6,#T_8f0f12c0_4457_11eb_bf33_2c56dc3bf821row2_col7,#T_8f0f12c0_4457_11eb_bf33_2c56dc3bf821row2_col9,#T_8f0f12c0_4457_11eb_bf33_2c56dc3bf821row3_col0,#T_8f0f12c0_4457_11eb_bf33_2c56dc3bf821row3_col1,#T_8f0f12c0_4457_11eb_bf33_2c56dc3bf821row3_col4,#T_8f0f12c0_4457_11eb_bf33_2c56dc3bf821row3_col6,#T_8f0f12c0_4457_11eb_bf33_2c56dc3bf821row3_col7,#T_8f0f12c0_4457_11eb_bf33_2c56dc3bf821row4_col0,#T_8f0f12c0_4457_11eb_bf33_2c56dc3bf821row4_col2,#T_8f0f12c0_4457_11eb_bf33_2c56dc3bf821row4_col3,#T_8f0f12c0_4457_11eb_bf33_2c56dc3bf821row4_col6,#T_8f0f12c0_4457_11eb_bf33_2c56dc3bf821row5_col0,#T_8f0f12c0_4457_11eb_bf33_2c56dc3bf821row5_col2,#T_8f0f12c0_4457_11eb_bf33_2c56dc3bf821row5_col4,#T_8f0f12c0_4457_11eb_bf33_2c56dc3bf821row5_col6,#T_8f0f12c0_4457_11eb_bf33_2c56dc3bf821row5_col7,#T_8f0f12c0_4457_11eb_bf33_2c56dc3bf821row5_col8,#T_8f0f12c0_4457_11eb_bf33_2c56dc3bf821row6_col0,#T_8f0f12c0_4457_11eb_bf33_2c56dc3bf821row6_col1,#T_8f0f12c0_4457_11eb_bf33_2c56dc3bf821row6_col2,#T_8f0f12c0_4457_11eb_bf33_2c56dc3bf821row6_col3,#T_8f0f12c0_4457_11eb_bf33_2c56dc3bf821row6_col4,#T_8f0f12c0_4457_11eb_bf33_2c56dc3bf821row6_col5,#T_8f0f12c0_4457_11eb_bf33_2c56dc3bf821row6_col7,#T_8f0f12c0_4457_11eb_bf33_2c56dc3bf821row6_col8,#T_8f0f12c0_4457_11eb_bf33_2c56dc3bf821row6_col9,#T_8f0f12c0_4457_11eb_bf33_2c56dc3bf821row7_col0,#T_8f0f12c0_4457_11eb_bf33_2c56dc3bf821row7_col1,#T_8f0f12c0_4457_11eb_bf33_2c56dc3bf821row7_col2,#T_8f0f12c0_4457_11eb_bf33_2c56dc3bf821row7_col6,#T_8f0f12c0_4457_11eb_bf33_2c56dc3bf821row8_col0,#T_8f0f12c0_4457_11eb_bf33_2c56dc3bf821row8_col4,#T_8f0f12c0_4457_11eb_bf33_2c56dc3bf821row8_col6,#T_8f0f12c0_4457_11eb_bf33_2c56dc3bf821row9_col0,#T_8f0f12c0_4457_11eb_bf33_2c56dc3bf821row9_col1,#T_8f0f12c0_4457_11eb_bf33_2c56dc3bf821row9_col2,#T_8f0f12c0_4457_11eb_bf33_2c56dc3bf821row9_col4,#T_8f0f12c0_4457_11eb_bf33_2c56dc3bf821row9_col6,#T_8f0f12c0_4457_11eb_bf33_2c56dc3bf821row9_col7,#T_8f0f12c0_4457_11eb_bf33_2c56dc3bf821row9_col8{\n            color:  lightgray;\n        }</style><table id=\"T_8f0f12c0_4457_11eb_bf33_2c56dc3bf821\" ><thead>    <tr>        <th class=\"index_name level0\" >true</th>        <th class=\"col_heading level0 col0\" >0</th>        <th class=\"col_heading level0 col1\" >1</th>        <th class=\"col_heading level0 col2\" >2</th>        <th class=\"col_heading level0 col3\" >3</th>        <th class=\"col_heading level0 col4\" >4</th>        <th class=\"col_heading level0 col5\" >5</th>        <th class=\"col_heading level0 col6\" >6</th>        <th class=\"col_heading level0 col7\" >7</th>        <th class=\"col_heading level0 col8\" >8</th>        <th class=\"col_heading level0 col9\" >9</th>    </tr>    <tr>        <th class=\"index_name level0\" >predicted</th>        <th class=\"blank\" ></th>        <th class=\"blank\" ></th>        <th class=\"blank\" ></th>        <th class=\"blank\" ></th>        <th class=\"blank\" ></th>        <th class=\"blank\" ></th>        <th class=\"blank\" ></th>        <th class=\"blank\" ></th>        <th class=\"blank\" ></th>        <th class=\"blank\" ></th>    </tr></thead><tbody>\n                <tr>\n                        <th id=\"T_8f0f12c0_4457_11eb_bf33_2c56dc3bf821level0_row0\" class=\"row_heading level0 row0\" >0</th>\n                        <td id=\"T_8f0f12c0_4457_11eb_bf33_2c56dc3bf821row0_col0\" class=\"data row0 col0\" >100.00%</td>\n                        <td id=\"T_8f0f12c0_4457_11eb_bf33_2c56dc3bf821row0_col1\" class=\"data row0 col1\" >0.00%</td>\n                        <td id=\"T_8f0f12c0_4457_11eb_bf33_2c56dc3bf821row0_col2\" class=\"data row0 col2\" >0.00%</td>\n                        <td id=\"T_8f0f12c0_4457_11eb_bf33_2c56dc3bf821row0_col3\" class=\"data row0 col3\" >0.00%</td>\n                        <td id=\"T_8f0f12c0_4457_11eb_bf33_2c56dc3bf821row0_col4\" class=\"data row0 col4\" >0.00%</td>\n                        <td id=\"T_8f0f12c0_4457_11eb_bf33_2c56dc3bf821row0_col5\" class=\"data row0 col5\" >0.00%</td>\n                        <td id=\"T_8f0f12c0_4457_11eb_bf33_2c56dc3bf821row0_col6\" class=\"data row0 col6\" >0.00%</td>\n                        <td id=\"T_8f0f12c0_4457_11eb_bf33_2c56dc3bf821row0_col7\" class=\"data row0 col7\" >0.00%</td>\n                        <td id=\"T_8f0f12c0_4457_11eb_bf33_2c56dc3bf821row0_col8\" class=\"data row0 col8\" >0.00%</td>\n                        <td id=\"T_8f0f12c0_4457_11eb_bf33_2c56dc3bf821row0_col9\" class=\"data row0 col9\" >0.00%</td>\n            </tr>\n            <tr>\n                        <th id=\"T_8f0f12c0_4457_11eb_bf33_2c56dc3bf821level0_row1\" class=\"row_heading level0 row1\" >1</th>\n                        <td id=\"T_8f0f12c0_4457_11eb_bf33_2c56dc3bf821row1_col0\" class=\"data row1 col0\" >0.00%</td>\n                        <td id=\"T_8f0f12c0_4457_11eb_bf33_2c56dc3bf821row1_col1\" class=\"data row1 col1\" >89.56%</td>\n                        <td id=\"T_8f0f12c0_4457_11eb_bf33_2c56dc3bf821row1_col2\" class=\"data row1 col2\" >1.69%</td>\n                        <td id=\"T_8f0f12c0_4457_11eb_bf33_2c56dc3bf821row1_col3\" class=\"data row1 col3\" >0.00%</td>\n                        <td id=\"T_8f0f12c0_4457_11eb_bf33_2c56dc3bf821row1_col4\" class=\"data row1 col4\" >0.55%</td>\n                        <td id=\"T_8f0f12c0_4457_11eb_bf33_2c56dc3bf821row1_col5\" class=\"data row1 col5\" >0.00%</td>\n                        <td id=\"T_8f0f12c0_4457_11eb_bf33_2c56dc3bf821row1_col6\" class=\"data row1 col6\" >0.00%</td>\n                        <td id=\"T_8f0f12c0_4457_11eb_bf33_2c56dc3bf821row1_col7\" class=\"data row1 col7\" >0.56%</td>\n                        <td id=\"T_8f0f12c0_4457_11eb_bf33_2c56dc3bf821row1_col8\" class=\"data row1 col8\" >5.17%</td>\n                        <td id=\"T_8f0f12c0_4457_11eb_bf33_2c56dc3bf821row1_col9\" class=\"data row1 col9\" >0.00%</td>\n            </tr>\n            <tr>\n                        <th id=\"T_8f0f12c0_4457_11eb_bf33_2c56dc3bf821level0_row2\" class=\"row_heading level0 row2\" >2</th>\n                        <td id=\"T_8f0f12c0_4457_11eb_bf33_2c56dc3bf821row2_col0\" class=\"data row2 col0\" >0.00%</td>\n                        <td id=\"T_8f0f12c0_4457_11eb_bf33_2c56dc3bf821row2_col1\" class=\"data row2 col1\" >3.85%</td>\n                        <td id=\"T_8f0f12c0_4457_11eb_bf33_2c56dc3bf821row2_col2\" class=\"data row2 col2\" >77.97%</td>\n                        <td id=\"T_8f0f12c0_4457_11eb_bf33_2c56dc3bf821row2_col3\" class=\"data row2 col3\" >1.09%</td>\n                        <td id=\"T_8f0f12c0_4457_11eb_bf33_2c56dc3bf821row2_col4\" class=\"data row2 col4\" >0.00%</td>\n                        <td id=\"T_8f0f12c0_4457_11eb_bf33_2c56dc3bf821row2_col5\" class=\"data row2 col5\" >0.00%</td>\n                        <td id=\"T_8f0f12c0_4457_11eb_bf33_2c56dc3bf821row2_col6\" class=\"data row2 col6\" >0.00%</td>\n                        <td id=\"T_8f0f12c0_4457_11eb_bf33_2c56dc3bf821row2_col7\" class=\"data row2 col7\" >0.00%</td>\n                        <td id=\"T_8f0f12c0_4457_11eb_bf33_2c56dc3bf821row2_col8\" class=\"data row2 col8\" >0.57%</td>\n                        <td id=\"T_8f0f12c0_4457_11eb_bf33_2c56dc3bf821row2_col9\" class=\"data row2 col9\" >0.00%</td>\n            </tr>\n            <tr>\n                        <th id=\"T_8f0f12c0_4457_11eb_bf33_2c56dc3bf821level0_row3\" class=\"row_heading level0 row3\" >3</th>\n                        <td id=\"T_8f0f12c0_4457_11eb_bf33_2c56dc3bf821row3_col0\" class=\"data row3 col0\" >0.00%</td>\n                        <td id=\"T_8f0f12c0_4457_11eb_bf33_2c56dc3bf821row3_col1\" class=\"data row3 col1\" >0.00%</td>\n                        <td id=\"T_8f0f12c0_4457_11eb_bf33_2c56dc3bf821row3_col2\" class=\"data row3 col2\" >9.60%</td>\n                        <td id=\"T_8f0f12c0_4457_11eb_bf33_2c56dc3bf821row3_col3\" class=\"data row3 col3\" >85.25%</td>\n                        <td id=\"T_8f0f12c0_4457_11eb_bf33_2c56dc3bf821row3_col4\" class=\"data row3 col4\" >0.00%</td>\n                        <td id=\"T_8f0f12c0_4457_11eb_bf33_2c56dc3bf821row3_col5\" class=\"data row3 col5\" >7.69%</td>\n                        <td id=\"T_8f0f12c0_4457_11eb_bf33_2c56dc3bf821row3_col6\" class=\"data row3 col6\" >0.00%</td>\n                        <td id=\"T_8f0f12c0_4457_11eb_bf33_2c56dc3bf821row3_col7\" class=\"data row3 col7\" >0.00%</td>\n                        <td id=\"T_8f0f12c0_4457_11eb_bf33_2c56dc3bf821row3_col8\" class=\"data row3 col8\" >2.87%</td>\n                        <td id=\"T_8f0f12c0_4457_11eb_bf33_2c56dc3bf821row3_col9\" class=\"data row3 col9\" >21.67%</td>\n            </tr>\n            <tr>\n                        <th id=\"T_8f0f12c0_4457_11eb_bf33_2c56dc3bf821level0_row4\" class=\"row_heading level0 row4\" >4</th>\n                        <td id=\"T_8f0f12c0_4457_11eb_bf33_2c56dc3bf821row4_col0\" class=\"data row4 col0\" >0.00%</td>\n                        <td id=\"T_8f0f12c0_4457_11eb_bf33_2c56dc3bf821row4_col1\" class=\"data row4 col1\" >1.10%</td>\n                        <td id=\"T_8f0f12c0_4457_11eb_bf33_2c56dc3bf821row4_col2\" class=\"data row4 col2\" >0.00%</td>\n                        <td id=\"T_8f0f12c0_4457_11eb_bf33_2c56dc3bf821row4_col3\" class=\"data row4 col3\" >0.00%</td>\n                        <td id=\"T_8f0f12c0_4457_11eb_bf33_2c56dc3bf821row4_col4\" class=\"data row4 col4\" >94.48%</td>\n                        <td id=\"T_8f0f12c0_4457_11eb_bf33_2c56dc3bf821row4_col5\" class=\"data row4 col5\" >0.55%</td>\n                        <td id=\"T_8f0f12c0_4457_11eb_bf33_2c56dc3bf821row4_col6\" class=\"data row4 col6\" >0.00%</td>\n                        <td id=\"T_8f0f12c0_4457_11eb_bf33_2c56dc3bf821row4_col7\" class=\"data row4 col7\" >0.56%</td>\n                        <td id=\"T_8f0f12c0_4457_11eb_bf33_2c56dc3bf821row4_col8\" class=\"data row4 col8\" >0.57%</td>\n                        <td id=\"T_8f0f12c0_4457_11eb_bf33_2c56dc3bf821row4_col9\" class=\"data row4 col9\" >3.89%</td>\n            </tr>\n            <tr>\n                        <th id=\"T_8f0f12c0_4457_11eb_bf33_2c56dc3bf821level0_row5\" class=\"row_heading level0 row5\" >5</th>\n                        <td id=\"T_8f0f12c0_4457_11eb_bf33_2c56dc3bf821row5_col0\" class=\"data row5 col0\" >0.00%</td>\n                        <td id=\"T_8f0f12c0_4457_11eb_bf33_2c56dc3bf821row5_col1\" class=\"data row5 col1\" >0.55%</td>\n                        <td id=\"T_8f0f12c0_4457_11eb_bf33_2c56dc3bf821row5_col2\" class=\"data row5 col2\" >0.00%</td>\n                        <td id=\"T_8f0f12c0_4457_11eb_bf33_2c56dc3bf821row5_col3\" class=\"data row5 col3\" >0.55%</td>\n                        <td id=\"T_8f0f12c0_4457_11eb_bf33_2c56dc3bf821row5_col4\" class=\"data row5 col4\" >0.00%</td>\n                        <td id=\"T_8f0f12c0_4457_11eb_bf33_2c56dc3bf821row5_col5\" class=\"data row5 col5\" >79.67%</td>\n                        <td id=\"T_8f0f12c0_4457_11eb_bf33_2c56dc3bf821row5_col6\" class=\"data row5 col6\" >0.00%</td>\n                        <td id=\"T_8f0f12c0_4457_11eb_bf33_2c56dc3bf821row5_col7\" class=\"data row5 col7\" >0.00%</td>\n                        <td id=\"T_8f0f12c0_4457_11eb_bf33_2c56dc3bf821row5_col8\" class=\"data row5 col8\" >0.00%</td>\n                        <td id=\"T_8f0f12c0_4457_11eb_bf33_2c56dc3bf821row5_col9\" class=\"data row5 col9\" >0.56%</td>\n            </tr>\n            <tr>\n                        <th id=\"T_8f0f12c0_4457_11eb_bf33_2c56dc3bf821level0_row6\" class=\"row_heading level0 row6\" >6</th>\n                        <td id=\"T_8f0f12c0_4457_11eb_bf33_2c56dc3bf821row6_col0\" class=\"data row6 col0\" >0.00%</td>\n                        <td id=\"T_8f0f12c0_4457_11eb_bf33_2c56dc3bf821row6_col1\" class=\"data row6 col1\" >0.00%</td>\n                        <td id=\"T_8f0f12c0_4457_11eb_bf33_2c56dc3bf821row6_col2\" class=\"data row6 col2\" >0.00%</td>\n                        <td id=\"T_8f0f12c0_4457_11eb_bf33_2c56dc3bf821row6_col3\" class=\"data row6 col3\" >0.00%</td>\n                        <td id=\"T_8f0f12c0_4457_11eb_bf33_2c56dc3bf821row6_col4\" class=\"data row6 col4\" >0.00%</td>\n                        <td id=\"T_8f0f12c0_4457_11eb_bf33_2c56dc3bf821row6_col5\" class=\"data row6 col5\" >0.00%</td>\n                        <td id=\"T_8f0f12c0_4457_11eb_bf33_2c56dc3bf821row6_col6\" class=\"data row6 col6\" >100.00%</td>\n                        <td id=\"T_8f0f12c0_4457_11eb_bf33_2c56dc3bf821row6_col7\" class=\"data row6 col7\" >0.00%</td>\n                        <td id=\"T_8f0f12c0_4457_11eb_bf33_2c56dc3bf821row6_col8\" class=\"data row6 col8\" >0.00%</td>\n                        <td id=\"T_8f0f12c0_4457_11eb_bf33_2c56dc3bf821row6_col9\" class=\"data row6 col9\" >0.00%</td>\n            </tr>\n            <tr>\n                        <th id=\"T_8f0f12c0_4457_11eb_bf33_2c56dc3bf821level0_row7\" class=\"row_heading level0 row7\" >7</th>\n                        <td id=\"T_8f0f12c0_4457_11eb_bf33_2c56dc3bf821row7_col0\" class=\"data row7 col0\" >0.00%</td>\n                        <td id=\"T_8f0f12c0_4457_11eb_bf33_2c56dc3bf821row7_col1\" class=\"data row7 col1\" >0.00%</td>\n                        <td id=\"T_8f0f12c0_4457_11eb_bf33_2c56dc3bf821row7_col2\" class=\"data row7 col2\" >0.00%</td>\n                        <td id=\"T_8f0f12c0_4457_11eb_bf33_2c56dc3bf821row7_col3\" class=\"data row7 col3\" >1.09%</td>\n                        <td id=\"T_8f0f12c0_4457_11eb_bf33_2c56dc3bf821row7_col4\" class=\"data row7 col4\" >4.97%</td>\n                        <td id=\"T_8f0f12c0_4457_11eb_bf33_2c56dc3bf821row7_col5\" class=\"data row7 col5\" >0.55%</td>\n                        <td id=\"T_8f0f12c0_4457_11eb_bf33_2c56dc3bf821row7_col6\" class=\"data row7 col6\" >0.00%</td>\n                        <td id=\"T_8f0f12c0_4457_11eb_bf33_2c56dc3bf821row7_col7\" class=\"data row7 col7\" >97.77%</td>\n                        <td id=\"T_8f0f12c0_4457_11eb_bf33_2c56dc3bf821row7_col8\" class=\"data row7 col8\" >0.57%</td>\n                        <td id=\"T_8f0f12c0_4457_11eb_bf33_2c56dc3bf821row7_col9\" class=\"data row7 col9\" >6.11%</td>\n            </tr>\n            <tr>\n                        <th id=\"T_8f0f12c0_4457_11eb_bf33_2c56dc3bf821level0_row8\" class=\"row_heading level0 row8\" >8</th>\n                        <td id=\"T_8f0f12c0_4457_11eb_bf33_2c56dc3bf821row8_col0\" class=\"data row8 col0\" >0.00%</td>\n                        <td id=\"T_8f0f12c0_4457_11eb_bf33_2c56dc3bf821row8_col1\" class=\"data row8 col1\" >4.95%</td>\n                        <td id=\"T_8f0f12c0_4457_11eb_bf33_2c56dc3bf821row8_col2\" class=\"data row8 col2\" >10.73%</td>\n                        <td id=\"T_8f0f12c0_4457_11eb_bf33_2c56dc3bf821row8_col3\" class=\"data row8 col3\" >11.48%</td>\n                        <td id=\"T_8f0f12c0_4457_11eb_bf33_2c56dc3bf821row8_col4\" class=\"data row8 col4\" >0.00%</td>\n                        <td id=\"T_8f0f12c0_4457_11eb_bf33_2c56dc3bf821row8_col5\" class=\"data row8 col5\" >9.34%</td>\n                        <td id=\"T_8f0f12c0_4457_11eb_bf33_2c56dc3bf821row8_col6\" class=\"data row8 col6\" >0.00%</td>\n                        <td id=\"T_8f0f12c0_4457_11eb_bf33_2c56dc3bf821row8_col7\" class=\"data row8 col7\" >1.12%</td>\n                        <td id=\"T_8f0f12c0_4457_11eb_bf33_2c56dc3bf821row8_col8\" class=\"data row8 col8\" >90.23%</td>\n                        <td id=\"T_8f0f12c0_4457_11eb_bf33_2c56dc3bf821row8_col9\" class=\"data row8 col9\" >11.11%</td>\n            </tr>\n            <tr>\n                        <th id=\"T_8f0f12c0_4457_11eb_bf33_2c56dc3bf821level0_row9\" class=\"row_heading level0 row9\" >9</th>\n                        <td id=\"T_8f0f12c0_4457_11eb_bf33_2c56dc3bf821row9_col0\" class=\"data row9 col0\" >0.00%</td>\n                        <td id=\"T_8f0f12c0_4457_11eb_bf33_2c56dc3bf821row9_col1\" class=\"data row9 col1\" >0.00%</td>\n                        <td id=\"T_8f0f12c0_4457_11eb_bf33_2c56dc3bf821row9_col2\" class=\"data row9 col2\" >0.00%</td>\n                        <td id=\"T_8f0f12c0_4457_11eb_bf33_2c56dc3bf821row9_col3\" class=\"data row9 col3\" >0.55%</td>\n                        <td id=\"T_8f0f12c0_4457_11eb_bf33_2c56dc3bf821row9_col4\" class=\"data row9 col4\" >0.00%</td>\n                        <td id=\"T_8f0f12c0_4457_11eb_bf33_2c56dc3bf821row9_col5\" class=\"data row9 col5\" >2.20%</td>\n                        <td id=\"T_8f0f12c0_4457_11eb_bf33_2c56dc3bf821row9_col6\" class=\"data row9 col6\" >0.00%</td>\n                        <td id=\"T_8f0f12c0_4457_11eb_bf33_2c56dc3bf821row9_col7\" class=\"data row9 col7\" >0.00%</td>\n                        <td id=\"T_8f0f12c0_4457_11eb_bf33_2c56dc3bf821row9_col8\" class=\"data row9 col8\" >0.00%</td>\n                        <td id=\"T_8f0f12c0_4457_11eb_bf33_2c56dc3bf821row9_col9\" class=\"data row9 col9\" >56.67%</td>\n            </tr>\n    </tbody></table>"
     },
     "metadata": {},
     "output_type": "display_data"
    }
   ],
   "source": [
    "# train forests (with 20 trees per forest), plot training error confusion matrices, and comment on your results\n",
    "\n",
    "forests = []\n",
    "for i in range(10):\n",
    "    density_forest = DensityForest(20)\n",
    "    data_digits = data[target == i]\n",
    "    density_forest.train(data_digits, data_digits.shape[0] / len(target))\n",
    "    forests.append(density_forest)\n",
    "    \n",
    "    \n",
    "predicted = [np.argmax([density_forest.predict(digit) for density_forest in forests]) for digit in data]\n",
    "\n",
    "pairs, counts = np.unique(np.stack((predicted, target)).T, axis=0, return_counts=True)\n",
    "\n",
    "\n",
    "confusion_matrix = np.zeros((10,10))\n",
    "for pair, count in zip(pairs, counts):\n",
    "    confusion_matrix[pair[0], pair[1]] = count\n",
    "\n",
    "for i in range(10):\n",
    "    confusion_matrix[:,i] /= np.sum(target == i)\n",
    "\n",
    "\n",
    "\n",
    "# display as Pandas DataFrame\n",
    "def fade_zeros(s):\n",
    "    return [\"color: lightgray\" if (v == 0) else \"color: black\" for v in s]\n",
    "\n",
    "print(\"confusion matrix for density forest\\n(percentages in a column sum up to 100%)\")\n",
    "display(\n",
    "    pd.DataFrame(data=confusion_matrix[:, :]*100, index=target_names, columns=target_names)\n",
    "    .rename_axis(\"true\", axis=\"columns\")\n",
    "    .rename_axis(\"predicted\", axis=\"rows\")\n",
    "    .style.apply(fade_zeros)\n",
    "    .format(\"{0:.2f}%\")\n",
    ")"
   ]
  },
  {
   "cell_type": "markdown",
   "source": [
    "Naturally, the forests have much better overall error rates than the\n",
    "individual trees. The Density Forest seems to have the same problem\n",
    "as the Density Tree, however, in that it tends to mistake a digit\n",
    "for another.\n",
    "\n",
    "The highest error rate is now seen in the classification of 9s, which\n",
    "are often mistaken for 3s or 8s.\n",
    "\n",
    "The overall error rate for a balanced set is 12.84%, which is a decent\n",
    "improvement over the individual density tree."
   ],
   "metadata": {
    "collapsed": false,
    "pycharm": {
     "name": "#%% md\n"
    }
   }
  },
  {
   "cell_type": "code",
   "execution_count": 65,
   "metadata": {
    "pycharm": {
     "name": "#%%\n"
    }
   },
   "outputs": [
    {
     "name": "stdout",
     "output_type": "stream",
     "text": [
      "confusion matrix for decision forest\n",
      "(percentages in a column sum up to 100%)\n"
     ]
    },
    {
     "data": {
      "text/plain": "<pandas.io.formats.style.Styler at 0x1d6dffd0cd0>",
      "text/html": "<style  type=\"text/css\" >\n#T_95b00a06_4457_11eb_8b57_2c56dc3bf821row0_col0,#T_95b00a06_4457_11eb_8b57_2c56dc3bf821row1_col1,#T_95b00a06_4457_11eb_8b57_2c56dc3bf821row1_col6,#T_95b00a06_4457_11eb_8b57_2c56dc3bf821row1_col8,#T_95b00a06_4457_11eb_8b57_2c56dc3bf821row1_col9,#T_95b00a06_4457_11eb_8b57_2c56dc3bf821row2_col2,#T_95b00a06_4457_11eb_8b57_2c56dc3bf821row3_col3,#T_95b00a06_4457_11eb_8b57_2c56dc3bf821row3_col5,#T_95b00a06_4457_11eb_8b57_2c56dc3bf821row3_col8,#T_95b00a06_4457_11eb_8b57_2c56dc3bf821row3_col9,#T_95b00a06_4457_11eb_8b57_2c56dc3bf821row4_col0,#T_95b00a06_4457_11eb_8b57_2c56dc3bf821row4_col4,#T_95b00a06_4457_11eb_8b57_2c56dc3bf821row5_col5,#T_95b00a06_4457_11eb_8b57_2c56dc3bf821row5_col8,#T_95b00a06_4457_11eb_8b57_2c56dc3bf821row5_col9,#T_95b00a06_4457_11eb_8b57_2c56dc3bf821row6_col6,#T_95b00a06_4457_11eb_8b57_2c56dc3bf821row7_col4,#T_95b00a06_4457_11eb_8b57_2c56dc3bf821row7_col7,#T_95b00a06_4457_11eb_8b57_2c56dc3bf821row7_col8,#T_95b00a06_4457_11eb_8b57_2c56dc3bf821row7_col9,#T_95b00a06_4457_11eb_8b57_2c56dc3bf821row8_col8,#T_95b00a06_4457_11eb_8b57_2c56dc3bf821row8_col9,#T_95b00a06_4457_11eb_8b57_2c56dc3bf821row9_col9{\n            color:  black;\n        }#T_95b00a06_4457_11eb_8b57_2c56dc3bf821row0_col1,#T_95b00a06_4457_11eb_8b57_2c56dc3bf821row0_col2,#T_95b00a06_4457_11eb_8b57_2c56dc3bf821row0_col3,#T_95b00a06_4457_11eb_8b57_2c56dc3bf821row0_col4,#T_95b00a06_4457_11eb_8b57_2c56dc3bf821row0_col5,#T_95b00a06_4457_11eb_8b57_2c56dc3bf821row0_col6,#T_95b00a06_4457_11eb_8b57_2c56dc3bf821row0_col7,#T_95b00a06_4457_11eb_8b57_2c56dc3bf821row0_col8,#T_95b00a06_4457_11eb_8b57_2c56dc3bf821row0_col9,#T_95b00a06_4457_11eb_8b57_2c56dc3bf821row1_col0,#T_95b00a06_4457_11eb_8b57_2c56dc3bf821row1_col2,#T_95b00a06_4457_11eb_8b57_2c56dc3bf821row1_col3,#T_95b00a06_4457_11eb_8b57_2c56dc3bf821row1_col4,#T_95b00a06_4457_11eb_8b57_2c56dc3bf821row1_col5,#T_95b00a06_4457_11eb_8b57_2c56dc3bf821row1_col7,#T_95b00a06_4457_11eb_8b57_2c56dc3bf821row2_col0,#T_95b00a06_4457_11eb_8b57_2c56dc3bf821row2_col1,#T_95b00a06_4457_11eb_8b57_2c56dc3bf821row2_col3,#T_95b00a06_4457_11eb_8b57_2c56dc3bf821row2_col4,#T_95b00a06_4457_11eb_8b57_2c56dc3bf821row2_col5,#T_95b00a06_4457_11eb_8b57_2c56dc3bf821row2_col6,#T_95b00a06_4457_11eb_8b57_2c56dc3bf821row2_col7,#T_95b00a06_4457_11eb_8b57_2c56dc3bf821row2_col8,#T_95b00a06_4457_11eb_8b57_2c56dc3bf821row2_col9,#T_95b00a06_4457_11eb_8b57_2c56dc3bf821row3_col0,#T_95b00a06_4457_11eb_8b57_2c56dc3bf821row3_col1,#T_95b00a06_4457_11eb_8b57_2c56dc3bf821row3_col2,#T_95b00a06_4457_11eb_8b57_2c56dc3bf821row3_col4,#T_95b00a06_4457_11eb_8b57_2c56dc3bf821row3_col6,#T_95b00a06_4457_11eb_8b57_2c56dc3bf821row3_col7,#T_95b00a06_4457_11eb_8b57_2c56dc3bf821row4_col1,#T_95b00a06_4457_11eb_8b57_2c56dc3bf821row4_col2,#T_95b00a06_4457_11eb_8b57_2c56dc3bf821row4_col3,#T_95b00a06_4457_11eb_8b57_2c56dc3bf821row4_col5,#T_95b00a06_4457_11eb_8b57_2c56dc3bf821row4_col6,#T_95b00a06_4457_11eb_8b57_2c56dc3bf821row4_col7,#T_95b00a06_4457_11eb_8b57_2c56dc3bf821row4_col8,#T_95b00a06_4457_11eb_8b57_2c56dc3bf821row4_col9,#T_95b00a06_4457_11eb_8b57_2c56dc3bf821row5_col0,#T_95b00a06_4457_11eb_8b57_2c56dc3bf821row5_col1,#T_95b00a06_4457_11eb_8b57_2c56dc3bf821row5_col2,#T_95b00a06_4457_11eb_8b57_2c56dc3bf821row5_col3,#T_95b00a06_4457_11eb_8b57_2c56dc3bf821row5_col4,#T_95b00a06_4457_11eb_8b57_2c56dc3bf821row5_col6,#T_95b00a06_4457_11eb_8b57_2c56dc3bf821row5_col7,#T_95b00a06_4457_11eb_8b57_2c56dc3bf821row6_col0,#T_95b00a06_4457_11eb_8b57_2c56dc3bf821row6_col1,#T_95b00a06_4457_11eb_8b57_2c56dc3bf821row6_col2,#T_95b00a06_4457_11eb_8b57_2c56dc3bf821row6_col3,#T_95b00a06_4457_11eb_8b57_2c56dc3bf821row6_col4,#T_95b00a06_4457_11eb_8b57_2c56dc3bf821row6_col5,#T_95b00a06_4457_11eb_8b57_2c56dc3bf821row6_col7,#T_95b00a06_4457_11eb_8b57_2c56dc3bf821row6_col8,#T_95b00a06_4457_11eb_8b57_2c56dc3bf821row6_col9,#T_95b00a06_4457_11eb_8b57_2c56dc3bf821row7_col0,#T_95b00a06_4457_11eb_8b57_2c56dc3bf821row7_col1,#T_95b00a06_4457_11eb_8b57_2c56dc3bf821row7_col2,#T_95b00a06_4457_11eb_8b57_2c56dc3bf821row7_col3,#T_95b00a06_4457_11eb_8b57_2c56dc3bf821row7_col5,#T_95b00a06_4457_11eb_8b57_2c56dc3bf821row7_col6,#T_95b00a06_4457_11eb_8b57_2c56dc3bf821row8_col0,#T_95b00a06_4457_11eb_8b57_2c56dc3bf821row8_col1,#T_95b00a06_4457_11eb_8b57_2c56dc3bf821row8_col2,#T_95b00a06_4457_11eb_8b57_2c56dc3bf821row8_col3,#T_95b00a06_4457_11eb_8b57_2c56dc3bf821row8_col4,#T_95b00a06_4457_11eb_8b57_2c56dc3bf821row8_col5,#T_95b00a06_4457_11eb_8b57_2c56dc3bf821row8_col6,#T_95b00a06_4457_11eb_8b57_2c56dc3bf821row8_col7,#T_95b00a06_4457_11eb_8b57_2c56dc3bf821row9_col0,#T_95b00a06_4457_11eb_8b57_2c56dc3bf821row9_col1,#T_95b00a06_4457_11eb_8b57_2c56dc3bf821row9_col2,#T_95b00a06_4457_11eb_8b57_2c56dc3bf821row9_col3,#T_95b00a06_4457_11eb_8b57_2c56dc3bf821row9_col4,#T_95b00a06_4457_11eb_8b57_2c56dc3bf821row9_col5,#T_95b00a06_4457_11eb_8b57_2c56dc3bf821row9_col6,#T_95b00a06_4457_11eb_8b57_2c56dc3bf821row9_col7,#T_95b00a06_4457_11eb_8b57_2c56dc3bf821row9_col8{\n            color:  lightgray;\n        }</style><table id=\"T_95b00a06_4457_11eb_8b57_2c56dc3bf821\" ><thead>    <tr>        <th class=\"index_name level0\" >true</th>        <th class=\"col_heading level0 col0\" >0</th>        <th class=\"col_heading level0 col1\" >1</th>        <th class=\"col_heading level0 col2\" >2</th>        <th class=\"col_heading level0 col3\" >3</th>        <th class=\"col_heading level0 col4\" >4</th>        <th class=\"col_heading level0 col5\" >5</th>        <th class=\"col_heading level0 col6\" >6</th>        <th class=\"col_heading level0 col7\" >7</th>        <th class=\"col_heading level0 col8\" >8</th>        <th class=\"col_heading level0 col9\" >9</th>    </tr>    <tr>        <th class=\"index_name level0\" >predicted</th>        <th class=\"blank\" ></th>        <th class=\"blank\" ></th>        <th class=\"blank\" ></th>        <th class=\"blank\" ></th>        <th class=\"blank\" ></th>        <th class=\"blank\" ></th>        <th class=\"blank\" ></th>        <th class=\"blank\" ></th>        <th class=\"blank\" ></th>        <th class=\"blank\" ></th>    </tr></thead><tbody>\n                <tr>\n                        <th id=\"T_95b00a06_4457_11eb_8b57_2c56dc3bf821level0_row0\" class=\"row_heading level0 row0\" >0</th>\n                        <td id=\"T_95b00a06_4457_11eb_8b57_2c56dc3bf821row0_col0\" class=\"data row0 col0\" >99.44%</td>\n                        <td id=\"T_95b00a06_4457_11eb_8b57_2c56dc3bf821row0_col1\" class=\"data row0 col1\" >0.00%</td>\n                        <td id=\"T_95b00a06_4457_11eb_8b57_2c56dc3bf821row0_col2\" class=\"data row0 col2\" >0.00%</td>\n                        <td id=\"T_95b00a06_4457_11eb_8b57_2c56dc3bf821row0_col3\" class=\"data row0 col3\" >0.00%</td>\n                        <td id=\"T_95b00a06_4457_11eb_8b57_2c56dc3bf821row0_col4\" class=\"data row0 col4\" >0.00%</td>\n                        <td id=\"T_95b00a06_4457_11eb_8b57_2c56dc3bf821row0_col5\" class=\"data row0 col5\" >0.00%</td>\n                        <td id=\"T_95b00a06_4457_11eb_8b57_2c56dc3bf821row0_col6\" class=\"data row0 col6\" >0.00%</td>\n                        <td id=\"T_95b00a06_4457_11eb_8b57_2c56dc3bf821row0_col7\" class=\"data row0 col7\" >0.00%</td>\n                        <td id=\"T_95b00a06_4457_11eb_8b57_2c56dc3bf821row0_col8\" class=\"data row0 col8\" >0.00%</td>\n                        <td id=\"T_95b00a06_4457_11eb_8b57_2c56dc3bf821row0_col9\" class=\"data row0 col9\" >0.00%</td>\n            </tr>\n            <tr>\n                        <th id=\"T_95b00a06_4457_11eb_8b57_2c56dc3bf821level0_row1\" class=\"row_heading level0 row1\" >1</th>\n                        <td id=\"T_95b00a06_4457_11eb_8b57_2c56dc3bf821row1_col0\" class=\"data row1 col0\" >0.00%</td>\n                        <td id=\"T_95b00a06_4457_11eb_8b57_2c56dc3bf821row1_col1\" class=\"data row1 col1\" >100.00%</td>\n                        <td id=\"T_95b00a06_4457_11eb_8b57_2c56dc3bf821row1_col2\" class=\"data row1 col2\" >0.00%</td>\n                        <td id=\"T_95b00a06_4457_11eb_8b57_2c56dc3bf821row1_col3\" class=\"data row1 col3\" >0.00%</td>\n                        <td id=\"T_95b00a06_4457_11eb_8b57_2c56dc3bf821row1_col4\" class=\"data row1 col4\" >0.00%</td>\n                        <td id=\"T_95b00a06_4457_11eb_8b57_2c56dc3bf821row1_col5\" class=\"data row1 col5\" >0.00%</td>\n                        <td id=\"T_95b00a06_4457_11eb_8b57_2c56dc3bf821row1_col6\" class=\"data row1 col6\" >0.55%</td>\n                        <td id=\"T_95b00a06_4457_11eb_8b57_2c56dc3bf821row1_col7\" class=\"data row1 col7\" >0.00%</td>\n                        <td id=\"T_95b00a06_4457_11eb_8b57_2c56dc3bf821row1_col8\" class=\"data row1 col8\" >1.72%</td>\n                        <td id=\"T_95b00a06_4457_11eb_8b57_2c56dc3bf821row1_col9\" class=\"data row1 col9\" >0.56%</td>\n            </tr>\n            <tr>\n                        <th id=\"T_95b00a06_4457_11eb_8b57_2c56dc3bf821level0_row2\" class=\"row_heading level0 row2\" >2</th>\n                        <td id=\"T_95b00a06_4457_11eb_8b57_2c56dc3bf821row2_col0\" class=\"data row2 col0\" >0.00%</td>\n                        <td id=\"T_95b00a06_4457_11eb_8b57_2c56dc3bf821row2_col1\" class=\"data row2 col1\" >0.00%</td>\n                        <td id=\"T_95b00a06_4457_11eb_8b57_2c56dc3bf821row2_col2\" class=\"data row2 col2\" >100.00%</td>\n                        <td id=\"T_95b00a06_4457_11eb_8b57_2c56dc3bf821row2_col3\" class=\"data row2 col3\" >0.00%</td>\n                        <td id=\"T_95b00a06_4457_11eb_8b57_2c56dc3bf821row2_col4\" class=\"data row2 col4\" >0.00%</td>\n                        <td id=\"T_95b00a06_4457_11eb_8b57_2c56dc3bf821row2_col5\" class=\"data row2 col5\" >0.00%</td>\n                        <td id=\"T_95b00a06_4457_11eb_8b57_2c56dc3bf821row2_col6\" class=\"data row2 col6\" >0.00%</td>\n                        <td id=\"T_95b00a06_4457_11eb_8b57_2c56dc3bf821row2_col7\" class=\"data row2 col7\" >0.00%</td>\n                        <td id=\"T_95b00a06_4457_11eb_8b57_2c56dc3bf821row2_col8\" class=\"data row2 col8\" >0.00%</td>\n                        <td id=\"T_95b00a06_4457_11eb_8b57_2c56dc3bf821row2_col9\" class=\"data row2 col9\" >0.00%</td>\n            </tr>\n            <tr>\n                        <th id=\"T_95b00a06_4457_11eb_8b57_2c56dc3bf821level0_row3\" class=\"row_heading level0 row3\" >3</th>\n                        <td id=\"T_95b00a06_4457_11eb_8b57_2c56dc3bf821row3_col0\" class=\"data row3 col0\" >0.00%</td>\n                        <td id=\"T_95b00a06_4457_11eb_8b57_2c56dc3bf821row3_col1\" class=\"data row3 col1\" >0.00%</td>\n                        <td id=\"T_95b00a06_4457_11eb_8b57_2c56dc3bf821row3_col2\" class=\"data row3 col2\" >0.00%</td>\n                        <td id=\"T_95b00a06_4457_11eb_8b57_2c56dc3bf821row3_col3\" class=\"data row3 col3\" >100.00%</td>\n                        <td id=\"T_95b00a06_4457_11eb_8b57_2c56dc3bf821row3_col4\" class=\"data row3 col4\" >0.00%</td>\n                        <td id=\"T_95b00a06_4457_11eb_8b57_2c56dc3bf821row3_col5\" class=\"data row3 col5\" >0.55%</td>\n                        <td id=\"T_95b00a06_4457_11eb_8b57_2c56dc3bf821row3_col6\" class=\"data row3 col6\" >0.00%</td>\n                        <td id=\"T_95b00a06_4457_11eb_8b57_2c56dc3bf821row3_col7\" class=\"data row3 col7\" >0.00%</td>\n                        <td id=\"T_95b00a06_4457_11eb_8b57_2c56dc3bf821row3_col8\" class=\"data row3 col8\" >0.57%</td>\n                        <td id=\"T_95b00a06_4457_11eb_8b57_2c56dc3bf821row3_col9\" class=\"data row3 col9\" >0.56%</td>\n            </tr>\n            <tr>\n                        <th id=\"T_95b00a06_4457_11eb_8b57_2c56dc3bf821level0_row4\" class=\"row_heading level0 row4\" >4</th>\n                        <td id=\"T_95b00a06_4457_11eb_8b57_2c56dc3bf821row4_col0\" class=\"data row4 col0\" >0.56%</td>\n                        <td id=\"T_95b00a06_4457_11eb_8b57_2c56dc3bf821row4_col1\" class=\"data row4 col1\" >0.00%</td>\n                        <td id=\"T_95b00a06_4457_11eb_8b57_2c56dc3bf821row4_col2\" class=\"data row4 col2\" >0.00%</td>\n                        <td id=\"T_95b00a06_4457_11eb_8b57_2c56dc3bf821row4_col3\" class=\"data row4 col3\" >0.00%</td>\n                        <td id=\"T_95b00a06_4457_11eb_8b57_2c56dc3bf821row4_col4\" class=\"data row4 col4\" >99.45%</td>\n                        <td id=\"T_95b00a06_4457_11eb_8b57_2c56dc3bf821row4_col5\" class=\"data row4 col5\" >0.00%</td>\n                        <td id=\"T_95b00a06_4457_11eb_8b57_2c56dc3bf821row4_col6\" class=\"data row4 col6\" >0.00%</td>\n                        <td id=\"T_95b00a06_4457_11eb_8b57_2c56dc3bf821row4_col7\" class=\"data row4 col7\" >0.00%</td>\n                        <td id=\"T_95b00a06_4457_11eb_8b57_2c56dc3bf821row4_col8\" class=\"data row4 col8\" >0.00%</td>\n                        <td id=\"T_95b00a06_4457_11eb_8b57_2c56dc3bf821row4_col9\" class=\"data row4 col9\" >0.00%</td>\n            </tr>\n            <tr>\n                        <th id=\"T_95b00a06_4457_11eb_8b57_2c56dc3bf821level0_row5\" class=\"row_heading level0 row5\" >5</th>\n                        <td id=\"T_95b00a06_4457_11eb_8b57_2c56dc3bf821row5_col0\" class=\"data row5 col0\" >0.00%</td>\n                        <td id=\"T_95b00a06_4457_11eb_8b57_2c56dc3bf821row5_col1\" class=\"data row5 col1\" >0.00%</td>\n                        <td id=\"T_95b00a06_4457_11eb_8b57_2c56dc3bf821row5_col2\" class=\"data row5 col2\" >0.00%</td>\n                        <td id=\"T_95b00a06_4457_11eb_8b57_2c56dc3bf821row5_col3\" class=\"data row5 col3\" >0.00%</td>\n                        <td id=\"T_95b00a06_4457_11eb_8b57_2c56dc3bf821row5_col4\" class=\"data row5 col4\" >0.00%</td>\n                        <td id=\"T_95b00a06_4457_11eb_8b57_2c56dc3bf821row5_col5\" class=\"data row5 col5\" >99.45%</td>\n                        <td id=\"T_95b00a06_4457_11eb_8b57_2c56dc3bf821row5_col6\" class=\"data row5 col6\" >0.00%</td>\n                        <td id=\"T_95b00a06_4457_11eb_8b57_2c56dc3bf821row5_col7\" class=\"data row5 col7\" >0.00%</td>\n                        <td id=\"T_95b00a06_4457_11eb_8b57_2c56dc3bf821row5_col8\" class=\"data row5 col8\" >0.57%</td>\n                        <td id=\"T_95b00a06_4457_11eb_8b57_2c56dc3bf821row5_col9\" class=\"data row5 col9\" >0.56%</td>\n            </tr>\n            <tr>\n                        <th id=\"T_95b00a06_4457_11eb_8b57_2c56dc3bf821level0_row6\" class=\"row_heading level0 row6\" >6</th>\n                        <td id=\"T_95b00a06_4457_11eb_8b57_2c56dc3bf821row6_col0\" class=\"data row6 col0\" >0.00%</td>\n                        <td id=\"T_95b00a06_4457_11eb_8b57_2c56dc3bf821row6_col1\" class=\"data row6 col1\" >0.00%</td>\n                        <td id=\"T_95b00a06_4457_11eb_8b57_2c56dc3bf821row6_col2\" class=\"data row6 col2\" >0.00%</td>\n                        <td id=\"T_95b00a06_4457_11eb_8b57_2c56dc3bf821row6_col3\" class=\"data row6 col3\" >0.00%</td>\n                        <td id=\"T_95b00a06_4457_11eb_8b57_2c56dc3bf821row6_col4\" class=\"data row6 col4\" >0.00%</td>\n                        <td id=\"T_95b00a06_4457_11eb_8b57_2c56dc3bf821row6_col5\" class=\"data row6 col5\" >0.00%</td>\n                        <td id=\"T_95b00a06_4457_11eb_8b57_2c56dc3bf821row6_col6\" class=\"data row6 col6\" >99.45%</td>\n                        <td id=\"T_95b00a06_4457_11eb_8b57_2c56dc3bf821row6_col7\" class=\"data row6 col7\" >0.00%</td>\n                        <td id=\"T_95b00a06_4457_11eb_8b57_2c56dc3bf821row6_col8\" class=\"data row6 col8\" >0.00%</td>\n                        <td id=\"T_95b00a06_4457_11eb_8b57_2c56dc3bf821row6_col9\" class=\"data row6 col9\" >0.00%</td>\n            </tr>\n            <tr>\n                        <th id=\"T_95b00a06_4457_11eb_8b57_2c56dc3bf821level0_row7\" class=\"row_heading level0 row7\" >7</th>\n                        <td id=\"T_95b00a06_4457_11eb_8b57_2c56dc3bf821row7_col0\" class=\"data row7 col0\" >0.00%</td>\n                        <td id=\"T_95b00a06_4457_11eb_8b57_2c56dc3bf821row7_col1\" class=\"data row7 col1\" >0.00%</td>\n                        <td id=\"T_95b00a06_4457_11eb_8b57_2c56dc3bf821row7_col2\" class=\"data row7 col2\" >0.00%</td>\n                        <td id=\"T_95b00a06_4457_11eb_8b57_2c56dc3bf821row7_col3\" class=\"data row7 col3\" >0.00%</td>\n                        <td id=\"T_95b00a06_4457_11eb_8b57_2c56dc3bf821row7_col4\" class=\"data row7 col4\" >0.55%</td>\n                        <td id=\"T_95b00a06_4457_11eb_8b57_2c56dc3bf821row7_col5\" class=\"data row7 col5\" >0.00%</td>\n                        <td id=\"T_95b00a06_4457_11eb_8b57_2c56dc3bf821row7_col6\" class=\"data row7 col6\" >0.00%</td>\n                        <td id=\"T_95b00a06_4457_11eb_8b57_2c56dc3bf821row7_col7\" class=\"data row7 col7\" >100.00%</td>\n                        <td id=\"T_95b00a06_4457_11eb_8b57_2c56dc3bf821row7_col8\" class=\"data row7 col8\" >0.57%</td>\n                        <td id=\"T_95b00a06_4457_11eb_8b57_2c56dc3bf821row7_col9\" class=\"data row7 col9\" >1.11%</td>\n            </tr>\n            <tr>\n                        <th id=\"T_95b00a06_4457_11eb_8b57_2c56dc3bf821level0_row8\" class=\"row_heading level0 row8\" >8</th>\n                        <td id=\"T_95b00a06_4457_11eb_8b57_2c56dc3bf821row8_col0\" class=\"data row8 col0\" >0.00%</td>\n                        <td id=\"T_95b00a06_4457_11eb_8b57_2c56dc3bf821row8_col1\" class=\"data row8 col1\" >0.00%</td>\n                        <td id=\"T_95b00a06_4457_11eb_8b57_2c56dc3bf821row8_col2\" class=\"data row8 col2\" >0.00%</td>\n                        <td id=\"T_95b00a06_4457_11eb_8b57_2c56dc3bf821row8_col3\" class=\"data row8 col3\" >0.00%</td>\n                        <td id=\"T_95b00a06_4457_11eb_8b57_2c56dc3bf821row8_col4\" class=\"data row8 col4\" >0.00%</td>\n                        <td id=\"T_95b00a06_4457_11eb_8b57_2c56dc3bf821row8_col5\" class=\"data row8 col5\" >0.00%</td>\n                        <td id=\"T_95b00a06_4457_11eb_8b57_2c56dc3bf821row8_col6\" class=\"data row8 col6\" >0.00%</td>\n                        <td id=\"T_95b00a06_4457_11eb_8b57_2c56dc3bf821row8_col7\" class=\"data row8 col7\" >0.00%</td>\n                        <td id=\"T_95b00a06_4457_11eb_8b57_2c56dc3bf821row8_col8\" class=\"data row8 col8\" >96.55%</td>\n                        <td id=\"T_95b00a06_4457_11eb_8b57_2c56dc3bf821row8_col9\" class=\"data row8 col9\" >0.56%</td>\n            </tr>\n            <tr>\n                        <th id=\"T_95b00a06_4457_11eb_8b57_2c56dc3bf821level0_row9\" class=\"row_heading level0 row9\" >9</th>\n                        <td id=\"T_95b00a06_4457_11eb_8b57_2c56dc3bf821row9_col0\" class=\"data row9 col0\" >0.00%</td>\n                        <td id=\"T_95b00a06_4457_11eb_8b57_2c56dc3bf821row9_col1\" class=\"data row9 col1\" >0.00%</td>\n                        <td id=\"T_95b00a06_4457_11eb_8b57_2c56dc3bf821row9_col2\" class=\"data row9 col2\" >0.00%</td>\n                        <td id=\"T_95b00a06_4457_11eb_8b57_2c56dc3bf821row9_col3\" class=\"data row9 col3\" >0.00%</td>\n                        <td id=\"T_95b00a06_4457_11eb_8b57_2c56dc3bf821row9_col4\" class=\"data row9 col4\" >0.00%</td>\n                        <td id=\"T_95b00a06_4457_11eb_8b57_2c56dc3bf821row9_col5\" class=\"data row9 col5\" >0.00%</td>\n                        <td id=\"T_95b00a06_4457_11eb_8b57_2c56dc3bf821row9_col6\" class=\"data row9 col6\" >0.00%</td>\n                        <td id=\"T_95b00a06_4457_11eb_8b57_2c56dc3bf821row9_col7\" class=\"data row9 col7\" >0.00%</td>\n                        <td id=\"T_95b00a06_4457_11eb_8b57_2c56dc3bf821row9_col8\" class=\"data row9 col8\" >0.00%</td>\n                        <td id=\"T_95b00a06_4457_11eb_8b57_2c56dc3bf821row9_col9\" class=\"data row9 col9\" >96.67%</td>\n            </tr>\n    </tbody></table>"
     },
     "metadata": {},
     "output_type": "display_data"
    }
   ],
   "source": [
    "decision_forest = DecisionForest(20)\n",
    "decision_forest.train(data, target)\n",
    "\n",
    "\n",
    "predicted = [decision_forest.predict(digit) for digit in data]\n",
    "\n",
    "pairs, counts = np.unique(np.stack((predicted, target)).T, axis=0, return_counts=True)\n",
    "\n",
    "\n",
    "confusion_matrix = np.zeros((10,10))\n",
    "for pair, count in zip(pairs, counts):\n",
    "    confusion_matrix[pair[0], pair[1]] = count\n",
    "    \n",
    "    \n",
    "for i in range(10):\n",
    "    confusion_matrix[:,i] /= np.sum(target == i)\n",
    "\n",
    "\n",
    "\n",
    "# display as Pandas DataFrame\n",
    "def fade_zeros(s):\n",
    "    return [\"color: lightgray\" if (v == 0) else \"color: black\" for v in s]\n",
    "\n",
    "\n",
    "print(\"confusion matrix for decision forest\\n(percentages in a column sum up to 100%)\")\n",
    "display(\n",
    "    pd.DataFrame(data=confusion_matrix[:, :]*100, index=target_names, columns=target_names)\n",
    "    .rename_axis(\"true\", axis=\"columns\")\n",
    "    .rename_axis(\"predicted\", axis=\"rows\")\n",
    "    .style.apply(fade_zeros)\n",
    "    .format(\"{0:.2f}%\")\n",
    ")"
   ]
  },
  {
   "cell_type": "markdown",
   "source": [
    "The Decision Forest has an excellent overall error rate for a balanced set\n",
    "of 0.899%, which is a massive improvement over the individual Decision Tree.\n",
    "\n",
    "As an additional effect, it no longer presents the problem the individual\n",
    "decision tree had, of randomly guessing a digit when it knows no correct\n",
    "answer. This may be because for our training set, there are almost no\n",
    "digits where it now knows no correct answer."
   ],
   "metadata": {
    "collapsed": false,
    "pycharm": {
     "name": "#%% md\n"
    }
   }
  },
  {
   "cell_type": "code",
   "execution_count": 66,
   "outputs": [
    {
     "name": "stdout",
     "output_type": "stream",
     "text": [
      "confusion matrix for sklearn\n",
      "(percentages in a column sum up to 100%)\n"
     ]
    },
    {
     "data": {
      "text/plain": "<pandas.io.formats.style.Styler at 0x1d6e517bc10>",
      "text/html": "<style  type=\"text/css\" >\n#T_9799062f_4457_11eb_bcc0_2c56dc3bf821row0_col0,#T_9799062f_4457_11eb_bcc0_2c56dc3bf821row1_col1,#T_9799062f_4457_11eb_bcc0_2c56dc3bf821row2_col2,#T_9799062f_4457_11eb_bcc0_2c56dc3bf821row3_col3,#T_9799062f_4457_11eb_bcc0_2c56dc3bf821row4_col4,#T_9799062f_4457_11eb_bcc0_2c56dc3bf821row5_col5,#T_9799062f_4457_11eb_bcc0_2c56dc3bf821row6_col6,#T_9799062f_4457_11eb_bcc0_2c56dc3bf821row7_col7,#T_9799062f_4457_11eb_bcc0_2c56dc3bf821row8_col8,#T_9799062f_4457_11eb_bcc0_2c56dc3bf821row9_col9{\n            color:  black;\n        }#T_9799062f_4457_11eb_bcc0_2c56dc3bf821row0_col1,#T_9799062f_4457_11eb_bcc0_2c56dc3bf821row0_col2,#T_9799062f_4457_11eb_bcc0_2c56dc3bf821row0_col3,#T_9799062f_4457_11eb_bcc0_2c56dc3bf821row0_col4,#T_9799062f_4457_11eb_bcc0_2c56dc3bf821row0_col5,#T_9799062f_4457_11eb_bcc0_2c56dc3bf821row0_col6,#T_9799062f_4457_11eb_bcc0_2c56dc3bf821row0_col7,#T_9799062f_4457_11eb_bcc0_2c56dc3bf821row0_col8,#T_9799062f_4457_11eb_bcc0_2c56dc3bf821row0_col9,#T_9799062f_4457_11eb_bcc0_2c56dc3bf821row1_col0,#T_9799062f_4457_11eb_bcc0_2c56dc3bf821row1_col2,#T_9799062f_4457_11eb_bcc0_2c56dc3bf821row1_col3,#T_9799062f_4457_11eb_bcc0_2c56dc3bf821row1_col4,#T_9799062f_4457_11eb_bcc0_2c56dc3bf821row1_col5,#T_9799062f_4457_11eb_bcc0_2c56dc3bf821row1_col6,#T_9799062f_4457_11eb_bcc0_2c56dc3bf821row1_col7,#T_9799062f_4457_11eb_bcc0_2c56dc3bf821row1_col8,#T_9799062f_4457_11eb_bcc0_2c56dc3bf821row1_col9,#T_9799062f_4457_11eb_bcc0_2c56dc3bf821row2_col0,#T_9799062f_4457_11eb_bcc0_2c56dc3bf821row2_col1,#T_9799062f_4457_11eb_bcc0_2c56dc3bf821row2_col3,#T_9799062f_4457_11eb_bcc0_2c56dc3bf821row2_col4,#T_9799062f_4457_11eb_bcc0_2c56dc3bf821row2_col5,#T_9799062f_4457_11eb_bcc0_2c56dc3bf821row2_col6,#T_9799062f_4457_11eb_bcc0_2c56dc3bf821row2_col7,#T_9799062f_4457_11eb_bcc0_2c56dc3bf821row2_col8,#T_9799062f_4457_11eb_bcc0_2c56dc3bf821row2_col9,#T_9799062f_4457_11eb_bcc0_2c56dc3bf821row3_col0,#T_9799062f_4457_11eb_bcc0_2c56dc3bf821row3_col1,#T_9799062f_4457_11eb_bcc0_2c56dc3bf821row3_col2,#T_9799062f_4457_11eb_bcc0_2c56dc3bf821row3_col4,#T_9799062f_4457_11eb_bcc0_2c56dc3bf821row3_col5,#T_9799062f_4457_11eb_bcc0_2c56dc3bf821row3_col6,#T_9799062f_4457_11eb_bcc0_2c56dc3bf821row3_col7,#T_9799062f_4457_11eb_bcc0_2c56dc3bf821row3_col8,#T_9799062f_4457_11eb_bcc0_2c56dc3bf821row3_col9,#T_9799062f_4457_11eb_bcc0_2c56dc3bf821row4_col0,#T_9799062f_4457_11eb_bcc0_2c56dc3bf821row4_col1,#T_9799062f_4457_11eb_bcc0_2c56dc3bf821row4_col2,#T_9799062f_4457_11eb_bcc0_2c56dc3bf821row4_col3,#T_9799062f_4457_11eb_bcc0_2c56dc3bf821row4_col5,#T_9799062f_4457_11eb_bcc0_2c56dc3bf821row4_col6,#T_9799062f_4457_11eb_bcc0_2c56dc3bf821row4_col7,#T_9799062f_4457_11eb_bcc0_2c56dc3bf821row4_col8,#T_9799062f_4457_11eb_bcc0_2c56dc3bf821row4_col9,#T_9799062f_4457_11eb_bcc0_2c56dc3bf821row5_col0,#T_9799062f_4457_11eb_bcc0_2c56dc3bf821row5_col1,#T_9799062f_4457_11eb_bcc0_2c56dc3bf821row5_col2,#T_9799062f_4457_11eb_bcc0_2c56dc3bf821row5_col3,#T_9799062f_4457_11eb_bcc0_2c56dc3bf821row5_col4,#T_9799062f_4457_11eb_bcc0_2c56dc3bf821row5_col6,#T_9799062f_4457_11eb_bcc0_2c56dc3bf821row5_col7,#T_9799062f_4457_11eb_bcc0_2c56dc3bf821row5_col8,#T_9799062f_4457_11eb_bcc0_2c56dc3bf821row5_col9,#T_9799062f_4457_11eb_bcc0_2c56dc3bf821row6_col0,#T_9799062f_4457_11eb_bcc0_2c56dc3bf821row6_col1,#T_9799062f_4457_11eb_bcc0_2c56dc3bf821row6_col2,#T_9799062f_4457_11eb_bcc0_2c56dc3bf821row6_col3,#T_9799062f_4457_11eb_bcc0_2c56dc3bf821row6_col4,#T_9799062f_4457_11eb_bcc0_2c56dc3bf821row6_col5,#T_9799062f_4457_11eb_bcc0_2c56dc3bf821row6_col7,#T_9799062f_4457_11eb_bcc0_2c56dc3bf821row6_col8,#T_9799062f_4457_11eb_bcc0_2c56dc3bf821row6_col9,#T_9799062f_4457_11eb_bcc0_2c56dc3bf821row7_col0,#T_9799062f_4457_11eb_bcc0_2c56dc3bf821row7_col1,#T_9799062f_4457_11eb_bcc0_2c56dc3bf821row7_col2,#T_9799062f_4457_11eb_bcc0_2c56dc3bf821row7_col3,#T_9799062f_4457_11eb_bcc0_2c56dc3bf821row7_col4,#T_9799062f_4457_11eb_bcc0_2c56dc3bf821row7_col5,#T_9799062f_4457_11eb_bcc0_2c56dc3bf821row7_col6,#T_9799062f_4457_11eb_bcc0_2c56dc3bf821row7_col8,#T_9799062f_4457_11eb_bcc0_2c56dc3bf821row7_col9,#T_9799062f_4457_11eb_bcc0_2c56dc3bf821row8_col0,#T_9799062f_4457_11eb_bcc0_2c56dc3bf821row8_col1,#T_9799062f_4457_11eb_bcc0_2c56dc3bf821row8_col2,#T_9799062f_4457_11eb_bcc0_2c56dc3bf821row8_col3,#T_9799062f_4457_11eb_bcc0_2c56dc3bf821row8_col4,#T_9799062f_4457_11eb_bcc0_2c56dc3bf821row8_col5,#T_9799062f_4457_11eb_bcc0_2c56dc3bf821row8_col6,#T_9799062f_4457_11eb_bcc0_2c56dc3bf821row8_col7,#T_9799062f_4457_11eb_bcc0_2c56dc3bf821row8_col9,#T_9799062f_4457_11eb_bcc0_2c56dc3bf821row9_col0,#T_9799062f_4457_11eb_bcc0_2c56dc3bf821row9_col1,#T_9799062f_4457_11eb_bcc0_2c56dc3bf821row9_col2,#T_9799062f_4457_11eb_bcc0_2c56dc3bf821row9_col3,#T_9799062f_4457_11eb_bcc0_2c56dc3bf821row9_col4,#T_9799062f_4457_11eb_bcc0_2c56dc3bf821row9_col5,#T_9799062f_4457_11eb_bcc0_2c56dc3bf821row9_col6,#T_9799062f_4457_11eb_bcc0_2c56dc3bf821row9_col7,#T_9799062f_4457_11eb_bcc0_2c56dc3bf821row9_col8{\n            color:  lightgray;\n        }</style><table id=\"T_9799062f_4457_11eb_bcc0_2c56dc3bf821\" ><thead>    <tr>        <th class=\"index_name level0\" >true</th>        <th class=\"col_heading level0 col0\" >0</th>        <th class=\"col_heading level0 col1\" >1</th>        <th class=\"col_heading level0 col2\" >2</th>        <th class=\"col_heading level0 col3\" >3</th>        <th class=\"col_heading level0 col4\" >4</th>        <th class=\"col_heading level0 col5\" >5</th>        <th class=\"col_heading level0 col6\" >6</th>        <th class=\"col_heading level0 col7\" >7</th>        <th class=\"col_heading level0 col8\" >8</th>        <th class=\"col_heading level0 col9\" >9</th>    </tr>    <tr>        <th class=\"index_name level0\" >predicted</th>        <th class=\"blank\" ></th>        <th class=\"blank\" ></th>        <th class=\"blank\" ></th>        <th class=\"blank\" ></th>        <th class=\"blank\" ></th>        <th class=\"blank\" ></th>        <th class=\"blank\" ></th>        <th class=\"blank\" ></th>        <th class=\"blank\" ></th>        <th class=\"blank\" ></th>    </tr></thead><tbody>\n                <tr>\n                        <th id=\"T_9799062f_4457_11eb_bcc0_2c56dc3bf821level0_row0\" class=\"row_heading level0 row0\" >0</th>\n                        <td id=\"T_9799062f_4457_11eb_bcc0_2c56dc3bf821row0_col0\" class=\"data row0 col0\" >100.00%</td>\n                        <td id=\"T_9799062f_4457_11eb_bcc0_2c56dc3bf821row0_col1\" class=\"data row0 col1\" >0.00%</td>\n                        <td id=\"T_9799062f_4457_11eb_bcc0_2c56dc3bf821row0_col2\" class=\"data row0 col2\" >0.00%</td>\n                        <td id=\"T_9799062f_4457_11eb_bcc0_2c56dc3bf821row0_col3\" class=\"data row0 col3\" >0.00%</td>\n                        <td id=\"T_9799062f_4457_11eb_bcc0_2c56dc3bf821row0_col4\" class=\"data row0 col4\" >0.00%</td>\n                        <td id=\"T_9799062f_4457_11eb_bcc0_2c56dc3bf821row0_col5\" class=\"data row0 col5\" >0.00%</td>\n                        <td id=\"T_9799062f_4457_11eb_bcc0_2c56dc3bf821row0_col6\" class=\"data row0 col6\" >0.00%</td>\n                        <td id=\"T_9799062f_4457_11eb_bcc0_2c56dc3bf821row0_col7\" class=\"data row0 col7\" >0.00%</td>\n                        <td id=\"T_9799062f_4457_11eb_bcc0_2c56dc3bf821row0_col8\" class=\"data row0 col8\" >0.00%</td>\n                        <td id=\"T_9799062f_4457_11eb_bcc0_2c56dc3bf821row0_col9\" class=\"data row0 col9\" >0.00%</td>\n            </tr>\n            <tr>\n                        <th id=\"T_9799062f_4457_11eb_bcc0_2c56dc3bf821level0_row1\" class=\"row_heading level0 row1\" >1</th>\n                        <td id=\"T_9799062f_4457_11eb_bcc0_2c56dc3bf821row1_col0\" class=\"data row1 col0\" >0.00%</td>\n                        <td id=\"T_9799062f_4457_11eb_bcc0_2c56dc3bf821row1_col1\" class=\"data row1 col1\" >100.00%</td>\n                        <td id=\"T_9799062f_4457_11eb_bcc0_2c56dc3bf821row1_col2\" class=\"data row1 col2\" >0.00%</td>\n                        <td id=\"T_9799062f_4457_11eb_bcc0_2c56dc3bf821row1_col3\" class=\"data row1 col3\" >0.00%</td>\n                        <td id=\"T_9799062f_4457_11eb_bcc0_2c56dc3bf821row1_col4\" class=\"data row1 col4\" >0.00%</td>\n                        <td id=\"T_9799062f_4457_11eb_bcc0_2c56dc3bf821row1_col5\" class=\"data row1 col5\" >0.00%</td>\n                        <td id=\"T_9799062f_4457_11eb_bcc0_2c56dc3bf821row1_col6\" class=\"data row1 col6\" >0.00%</td>\n                        <td id=\"T_9799062f_4457_11eb_bcc0_2c56dc3bf821row1_col7\" class=\"data row1 col7\" >0.00%</td>\n                        <td id=\"T_9799062f_4457_11eb_bcc0_2c56dc3bf821row1_col8\" class=\"data row1 col8\" >0.00%</td>\n                        <td id=\"T_9799062f_4457_11eb_bcc0_2c56dc3bf821row1_col9\" class=\"data row1 col9\" >0.00%</td>\n            </tr>\n            <tr>\n                        <th id=\"T_9799062f_4457_11eb_bcc0_2c56dc3bf821level0_row2\" class=\"row_heading level0 row2\" >2</th>\n                        <td id=\"T_9799062f_4457_11eb_bcc0_2c56dc3bf821row2_col0\" class=\"data row2 col0\" >0.00%</td>\n                        <td id=\"T_9799062f_4457_11eb_bcc0_2c56dc3bf821row2_col1\" class=\"data row2 col1\" >0.00%</td>\n                        <td id=\"T_9799062f_4457_11eb_bcc0_2c56dc3bf821row2_col2\" class=\"data row2 col2\" >100.00%</td>\n                        <td id=\"T_9799062f_4457_11eb_bcc0_2c56dc3bf821row2_col3\" class=\"data row2 col3\" >0.00%</td>\n                        <td id=\"T_9799062f_4457_11eb_bcc0_2c56dc3bf821row2_col4\" class=\"data row2 col4\" >0.00%</td>\n                        <td id=\"T_9799062f_4457_11eb_bcc0_2c56dc3bf821row2_col5\" class=\"data row2 col5\" >0.00%</td>\n                        <td id=\"T_9799062f_4457_11eb_bcc0_2c56dc3bf821row2_col6\" class=\"data row2 col6\" >0.00%</td>\n                        <td id=\"T_9799062f_4457_11eb_bcc0_2c56dc3bf821row2_col7\" class=\"data row2 col7\" >0.00%</td>\n                        <td id=\"T_9799062f_4457_11eb_bcc0_2c56dc3bf821row2_col8\" class=\"data row2 col8\" >0.00%</td>\n                        <td id=\"T_9799062f_4457_11eb_bcc0_2c56dc3bf821row2_col9\" class=\"data row2 col9\" >0.00%</td>\n            </tr>\n            <tr>\n                        <th id=\"T_9799062f_4457_11eb_bcc0_2c56dc3bf821level0_row3\" class=\"row_heading level0 row3\" >3</th>\n                        <td id=\"T_9799062f_4457_11eb_bcc0_2c56dc3bf821row3_col0\" class=\"data row3 col0\" >0.00%</td>\n                        <td id=\"T_9799062f_4457_11eb_bcc0_2c56dc3bf821row3_col1\" class=\"data row3 col1\" >0.00%</td>\n                        <td id=\"T_9799062f_4457_11eb_bcc0_2c56dc3bf821row3_col2\" class=\"data row3 col2\" >0.00%</td>\n                        <td id=\"T_9799062f_4457_11eb_bcc0_2c56dc3bf821row3_col3\" class=\"data row3 col3\" >100.00%</td>\n                        <td id=\"T_9799062f_4457_11eb_bcc0_2c56dc3bf821row3_col4\" class=\"data row3 col4\" >0.00%</td>\n                        <td id=\"T_9799062f_4457_11eb_bcc0_2c56dc3bf821row3_col5\" class=\"data row3 col5\" >0.00%</td>\n                        <td id=\"T_9799062f_4457_11eb_bcc0_2c56dc3bf821row3_col6\" class=\"data row3 col6\" >0.00%</td>\n                        <td id=\"T_9799062f_4457_11eb_bcc0_2c56dc3bf821row3_col7\" class=\"data row3 col7\" >0.00%</td>\n                        <td id=\"T_9799062f_4457_11eb_bcc0_2c56dc3bf821row3_col8\" class=\"data row3 col8\" >0.00%</td>\n                        <td id=\"T_9799062f_4457_11eb_bcc0_2c56dc3bf821row3_col9\" class=\"data row3 col9\" >0.00%</td>\n            </tr>\n            <tr>\n                        <th id=\"T_9799062f_4457_11eb_bcc0_2c56dc3bf821level0_row4\" class=\"row_heading level0 row4\" >4</th>\n                        <td id=\"T_9799062f_4457_11eb_bcc0_2c56dc3bf821row4_col0\" class=\"data row4 col0\" >0.00%</td>\n                        <td id=\"T_9799062f_4457_11eb_bcc0_2c56dc3bf821row4_col1\" class=\"data row4 col1\" >0.00%</td>\n                        <td id=\"T_9799062f_4457_11eb_bcc0_2c56dc3bf821row4_col2\" class=\"data row4 col2\" >0.00%</td>\n                        <td id=\"T_9799062f_4457_11eb_bcc0_2c56dc3bf821row4_col3\" class=\"data row4 col3\" >0.00%</td>\n                        <td id=\"T_9799062f_4457_11eb_bcc0_2c56dc3bf821row4_col4\" class=\"data row4 col4\" >100.00%</td>\n                        <td id=\"T_9799062f_4457_11eb_bcc0_2c56dc3bf821row4_col5\" class=\"data row4 col5\" >0.00%</td>\n                        <td id=\"T_9799062f_4457_11eb_bcc0_2c56dc3bf821row4_col6\" class=\"data row4 col6\" >0.00%</td>\n                        <td id=\"T_9799062f_4457_11eb_bcc0_2c56dc3bf821row4_col7\" class=\"data row4 col7\" >0.00%</td>\n                        <td id=\"T_9799062f_4457_11eb_bcc0_2c56dc3bf821row4_col8\" class=\"data row4 col8\" >0.00%</td>\n                        <td id=\"T_9799062f_4457_11eb_bcc0_2c56dc3bf821row4_col9\" class=\"data row4 col9\" >0.00%</td>\n            </tr>\n            <tr>\n                        <th id=\"T_9799062f_4457_11eb_bcc0_2c56dc3bf821level0_row5\" class=\"row_heading level0 row5\" >5</th>\n                        <td id=\"T_9799062f_4457_11eb_bcc0_2c56dc3bf821row5_col0\" class=\"data row5 col0\" >0.00%</td>\n                        <td id=\"T_9799062f_4457_11eb_bcc0_2c56dc3bf821row5_col1\" class=\"data row5 col1\" >0.00%</td>\n                        <td id=\"T_9799062f_4457_11eb_bcc0_2c56dc3bf821row5_col2\" class=\"data row5 col2\" >0.00%</td>\n                        <td id=\"T_9799062f_4457_11eb_bcc0_2c56dc3bf821row5_col3\" class=\"data row5 col3\" >0.00%</td>\n                        <td id=\"T_9799062f_4457_11eb_bcc0_2c56dc3bf821row5_col4\" class=\"data row5 col4\" >0.00%</td>\n                        <td id=\"T_9799062f_4457_11eb_bcc0_2c56dc3bf821row5_col5\" class=\"data row5 col5\" >100.00%</td>\n                        <td id=\"T_9799062f_4457_11eb_bcc0_2c56dc3bf821row5_col6\" class=\"data row5 col6\" >0.00%</td>\n                        <td id=\"T_9799062f_4457_11eb_bcc0_2c56dc3bf821row5_col7\" class=\"data row5 col7\" >0.00%</td>\n                        <td id=\"T_9799062f_4457_11eb_bcc0_2c56dc3bf821row5_col8\" class=\"data row5 col8\" >0.00%</td>\n                        <td id=\"T_9799062f_4457_11eb_bcc0_2c56dc3bf821row5_col9\" class=\"data row5 col9\" >0.00%</td>\n            </tr>\n            <tr>\n                        <th id=\"T_9799062f_4457_11eb_bcc0_2c56dc3bf821level0_row6\" class=\"row_heading level0 row6\" >6</th>\n                        <td id=\"T_9799062f_4457_11eb_bcc0_2c56dc3bf821row6_col0\" class=\"data row6 col0\" >0.00%</td>\n                        <td id=\"T_9799062f_4457_11eb_bcc0_2c56dc3bf821row6_col1\" class=\"data row6 col1\" >0.00%</td>\n                        <td id=\"T_9799062f_4457_11eb_bcc0_2c56dc3bf821row6_col2\" class=\"data row6 col2\" >0.00%</td>\n                        <td id=\"T_9799062f_4457_11eb_bcc0_2c56dc3bf821row6_col3\" class=\"data row6 col3\" >0.00%</td>\n                        <td id=\"T_9799062f_4457_11eb_bcc0_2c56dc3bf821row6_col4\" class=\"data row6 col4\" >0.00%</td>\n                        <td id=\"T_9799062f_4457_11eb_bcc0_2c56dc3bf821row6_col5\" class=\"data row6 col5\" >0.00%</td>\n                        <td id=\"T_9799062f_4457_11eb_bcc0_2c56dc3bf821row6_col6\" class=\"data row6 col6\" >100.00%</td>\n                        <td id=\"T_9799062f_4457_11eb_bcc0_2c56dc3bf821row6_col7\" class=\"data row6 col7\" >0.00%</td>\n                        <td id=\"T_9799062f_4457_11eb_bcc0_2c56dc3bf821row6_col8\" class=\"data row6 col8\" >0.00%</td>\n                        <td id=\"T_9799062f_4457_11eb_bcc0_2c56dc3bf821row6_col9\" class=\"data row6 col9\" >0.00%</td>\n            </tr>\n            <tr>\n                        <th id=\"T_9799062f_4457_11eb_bcc0_2c56dc3bf821level0_row7\" class=\"row_heading level0 row7\" >7</th>\n                        <td id=\"T_9799062f_4457_11eb_bcc0_2c56dc3bf821row7_col0\" class=\"data row7 col0\" >0.00%</td>\n                        <td id=\"T_9799062f_4457_11eb_bcc0_2c56dc3bf821row7_col1\" class=\"data row7 col1\" >0.00%</td>\n                        <td id=\"T_9799062f_4457_11eb_bcc0_2c56dc3bf821row7_col2\" class=\"data row7 col2\" >0.00%</td>\n                        <td id=\"T_9799062f_4457_11eb_bcc0_2c56dc3bf821row7_col3\" class=\"data row7 col3\" >0.00%</td>\n                        <td id=\"T_9799062f_4457_11eb_bcc0_2c56dc3bf821row7_col4\" class=\"data row7 col4\" >0.00%</td>\n                        <td id=\"T_9799062f_4457_11eb_bcc0_2c56dc3bf821row7_col5\" class=\"data row7 col5\" >0.00%</td>\n                        <td id=\"T_9799062f_4457_11eb_bcc0_2c56dc3bf821row7_col6\" class=\"data row7 col6\" >0.00%</td>\n                        <td id=\"T_9799062f_4457_11eb_bcc0_2c56dc3bf821row7_col7\" class=\"data row7 col7\" >100.00%</td>\n                        <td id=\"T_9799062f_4457_11eb_bcc0_2c56dc3bf821row7_col8\" class=\"data row7 col8\" >0.00%</td>\n                        <td id=\"T_9799062f_4457_11eb_bcc0_2c56dc3bf821row7_col9\" class=\"data row7 col9\" >0.00%</td>\n            </tr>\n            <tr>\n                        <th id=\"T_9799062f_4457_11eb_bcc0_2c56dc3bf821level0_row8\" class=\"row_heading level0 row8\" >8</th>\n                        <td id=\"T_9799062f_4457_11eb_bcc0_2c56dc3bf821row8_col0\" class=\"data row8 col0\" >0.00%</td>\n                        <td id=\"T_9799062f_4457_11eb_bcc0_2c56dc3bf821row8_col1\" class=\"data row8 col1\" >0.00%</td>\n                        <td id=\"T_9799062f_4457_11eb_bcc0_2c56dc3bf821row8_col2\" class=\"data row8 col2\" >0.00%</td>\n                        <td id=\"T_9799062f_4457_11eb_bcc0_2c56dc3bf821row8_col3\" class=\"data row8 col3\" >0.00%</td>\n                        <td id=\"T_9799062f_4457_11eb_bcc0_2c56dc3bf821row8_col4\" class=\"data row8 col4\" >0.00%</td>\n                        <td id=\"T_9799062f_4457_11eb_bcc0_2c56dc3bf821row8_col5\" class=\"data row8 col5\" >0.00%</td>\n                        <td id=\"T_9799062f_4457_11eb_bcc0_2c56dc3bf821row8_col6\" class=\"data row8 col6\" >0.00%</td>\n                        <td id=\"T_9799062f_4457_11eb_bcc0_2c56dc3bf821row8_col7\" class=\"data row8 col7\" >0.00%</td>\n                        <td id=\"T_9799062f_4457_11eb_bcc0_2c56dc3bf821row8_col8\" class=\"data row8 col8\" >100.00%</td>\n                        <td id=\"T_9799062f_4457_11eb_bcc0_2c56dc3bf821row8_col9\" class=\"data row8 col9\" >0.00%</td>\n            </tr>\n            <tr>\n                        <th id=\"T_9799062f_4457_11eb_bcc0_2c56dc3bf821level0_row9\" class=\"row_heading level0 row9\" >9</th>\n                        <td id=\"T_9799062f_4457_11eb_bcc0_2c56dc3bf821row9_col0\" class=\"data row9 col0\" >0.00%</td>\n                        <td id=\"T_9799062f_4457_11eb_bcc0_2c56dc3bf821row9_col1\" class=\"data row9 col1\" >0.00%</td>\n                        <td id=\"T_9799062f_4457_11eb_bcc0_2c56dc3bf821row9_col2\" class=\"data row9 col2\" >0.00%</td>\n                        <td id=\"T_9799062f_4457_11eb_bcc0_2c56dc3bf821row9_col3\" class=\"data row9 col3\" >0.00%</td>\n                        <td id=\"T_9799062f_4457_11eb_bcc0_2c56dc3bf821row9_col4\" class=\"data row9 col4\" >0.00%</td>\n                        <td id=\"T_9799062f_4457_11eb_bcc0_2c56dc3bf821row9_col5\" class=\"data row9 col5\" >0.00%</td>\n                        <td id=\"T_9799062f_4457_11eb_bcc0_2c56dc3bf821row9_col6\" class=\"data row9 col6\" >0.00%</td>\n                        <td id=\"T_9799062f_4457_11eb_bcc0_2c56dc3bf821row9_col7\" class=\"data row9 col7\" >0.00%</td>\n                        <td id=\"T_9799062f_4457_11eb_bcc0_2c56dc3bf821row9_col8\" class=\"data row9 col8\" >0.00%</td>\n                        <td id=\"T_9799062f_4457_11eb_bcc0_2c56dc3bf821row9_col9\" class=\"data row9 col9\" >100.00%</td>\n            </tr>\n    </tbody></table>"
     },
     "metadata": {},
     "output_type": "display_data"
    }
   ],
   "source": [
    "sklearn_forest = RandomForestClassifier(n_estimators=20)\n",
    "sklearn_forest.fit(data, target)\n",
    "\n",
    "\n",
    "predicted = [sklearn_forest.predict([digit])[0] for digit in data]\n",
    "\n",
    "pairs, counts = np.unique(np.stack((predicted, target)).T, axis=0, return_counts=True)\n",
    "\n",
    "\n",
    "confusion_matrix = np.zeros((10,10))\n",
    "for pair, count in zip(pairs, counts):\n",
    "    confusion_matrix[pair[0], pair[1]] = count\n",
    "    \n",
    "    \n",
    "for i in range(10):\n",
    "    confusion_matrix[:,i] /= np.sum(target == i)\n",
    "\n",
    "\n",
    "# display as Pandas DataFrame\n",
    "def fade_zeros(s):\n",
    "    return [\"color: lightgray\" if (v == 0) else \"color: black\" for v in s]\n",
    "\n",
    "\n",
    "print(\"confusion matrix for sklearn\\n(percentages in a column sum up to 100%)\")\n",
    "display(\n",
    "    pd.DataFrame(data=confusion_matrix[:, :]*100, index=target_names, columns=target_names)\n",
    "    .rename_axis(\"true\", axis=\"columns\")\n",
    "    .rename_axis(\"predicted\", axis=\"rows\")\n",
    "    .style.apply(fade_zeros)\n",
    "    .format(\"{0:.2f}%\")\n",
    ")"
   ],
   "metadata": {
    "collapsed": false,
    "pycharm": {
     "name": "#%%\n"
    }
   }
  },
  {
   "cell_type": "markdown",
   "metadata": {
    "pycharm": {
     "name": "#%% md\n"
    }
   },
   "source": [
    "`sklearn`'s Forest has a 0% training error rate.\n",
    "This may, however, hint at overfitting. Since we do not have a test set to\n",
    "evaluate this on, we cannot make a definite conclusion.\n",
    "\n"
   ]
  },
  {
   "cell_type": "code",
   "execution_count": null,
   "metadata": {},
   "outputs": [],
   "source": []
  }
 ],
 "metadata": {
  "kernelspec": {
   "display_name": "Python 3",
   "language": "python",
   "name": "python3"
  },
  "language_info": {
   "codemirror_mode": {
    "name": "ipython",
    "version": 3
   },
   "file_extension": ".py",
   "mimetype": "text/x-python",
   "name": "python",
   "nbconvert_exporter": "python",
   "pygments_lexer": "ipython3",
   "version": "3.6.4"
  }
 },
 "nbformat": 4,
 "nbformat_minor": 4
}