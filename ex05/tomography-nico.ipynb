{
 "cells": [
  {
   "cell_type": "code",
   "execution_count": 1,
   "metadata": {},
   "outputs": [],
   "source": [
    "import numpy as np\n",
    "import matplotlib.pyplot as plt\n",
    "from scipy.sparse import coo_matrix"
   ]
  },
  {
   "cell_type": "code",
   "execution_count": 5,
   "metadata": {
    "scrolled": false
   },
   "outputs": [
    {
     "name": "stdout",
     "output_type": "stream",
     "text": [
      "15 100\n",
      "(1, 2) (2, 100)\n",
      "[[0.83867057 0.54463904]]\n",
      "[[0 1 2 3 4 5 6 7 8 9 0 1 2 3 4 5 6 7 8 9 0 1 2 3 4 5 6 7 8 9 0 1 2 3 4 5\n",
      "  6 7 8 9 0 1 2 3 4 5 6 7 8 9 0 1 2 3 4 5 6 7 8 9 0 1 2 3 4 5 6 7 8 9 0 1\n",
      "  2 3 4 5 6 7 8 9 0 1 2 3 4 5 6 7 8 9 0 1 2 3 4 5 6 7 8 9]\n",
      " [0 0 0 0 0 0 0 0 0 0 1 1 1 1 1 1 1 1 1 1 2 2 2 2 2 2 2 2 2 2 3 3 3 3 3 3\n",
      "  3 3 3 3 4 4 4 4 4 4 4 4 4 4 5 5 5 5 5 5 5 5 5 5 6 6 6 6 6 6 6 6 6 6 7 7\n",
      "  7 7 7 7 7 7 7 7 8 8 8 8 8 8 8 8 8 8 9 9 9 9 9 9 9 9 9 9]]\n",
      "[[ 0.          0.83867057  1.67734114  2.5160117   3.35468227  4.19335284\n",
      "   5.03202341  5.87069398  6.70936454  7.54803511  0.54463904  1.3833096\n",
      "   2.22198017  3.06065074  3.89932131  4.73799187  5.57666244  6.41533301\n",
      "   7.25400358  8.09267415  1.08927807  1.92794864  2.76661921  3.60528977\n",
      "   4.44396034  5.28263091  6.12130148  6.95997205  7.79864261  8.63731318\n",
      "   1.63391711  2.47258767  3.31125824  4.14992881  4.98859938  5.82726994\n",
      "   6.66594051  7.50461108  8.34328165  9.18195222  2.17855614  3.01722671\n",
      "   3.85589728  4.69456784  5.53323841  6.37190898  7.21057955  8.04925012\n",
      "   8.88792068  9.72659125  2.72319518  3.56186574  4.40053631  5.23920688\n",
      "   6.07787745  6.91654801  7.75521858  8.59388915  9.43255972 10.27123029\n",
      "   3.26783421  4.10650478  4.94517535  5.78384591  6.62251648  7.46118705\n",
      "   8.29985762  9.13852819  9.97719875 10.81586932  3.81247325  4.65114381\n",
      "   5.48981438  6.32848495  7.16715552  8.00582608  8.84449665  9.68316722\n",
      "  10.52183779 11.36050836  4.35711228  5.19578285  6.03445342  6.87312398\n",
      "   7.71179455  8.55046512  9.38913569 10.22780626 11.06647682 11.90514739\n",
      "   4.90175132  5.74042188  6.57909245  7.41776302  8.25643359  9.09510415\n",
      "   9.93377472 10.77244529 11.61111586 12.44978643]]\n",
      "(1, 200)\n",
      "0 : (200,) (200,)\n",
      "(200,) (200,) (1, 200)\n",
      "[[1.         0.16132943 0.         ... 0.         0.         0.        ]\n",
      " [0.         0.83867055 0.32265887 ... 0.         0.         0.        ]\n",
      " [0.         0.         0.67734116 ... 0.         0.         0.        ]\n",
      " ...\n",
      " [0.         0.         0.         ... 0.         0.6111159  0.5502136 ]\n",
      " [0.         0.         0.         ... 0.         0.         0.44978642]\n",
      " [0.         0.         0.         ... 0.         0.         0.        ]]\n",
      "(15, 100)\n"
     ]
    },
    {
     "data": {
      "text/plain": [
       "<matplotlib.image.AxesImage at 0x202da4dbe48>"
      ]
     },
     "execution_count": 5,
     "metadata": {},
     "output_type": "execute_result"
    },
    {
     "data": {
      "image/png": "[encoded data removed]",
      "text/plain": [
       "<matplotlib.figure.Figure at 0x202da49b7b8>"
      ]
     },
     "metadata": {},
     "output_type": "display_data"
    }
   ],
   "source": [
    "def construct_X(M, alphas, Np=None):\n",
    "    if Np == None:\n",
    "        Np = int(np.ceil(np.sqrt(2)*M))\n",
    "        if Np % 2 == 0:\n",
    "            Np += 1\n",
    "        \n",
    "    D = M*M\n",
    "    N = Np*len(alphas)\n",
    "    print(N, D)\n",
    "\n",
    "    angles = np.array(alphas)/180*np.pi\n",
    "\n",
    "    \n",
    "    a0 = 0\n",
    "    b0 = 0\n",
    "    s0 = 0#np.array([0.78, 0.78, 0])[:,np.newaxis]\n",
    "    \n",
    "    \n",
    "    gridX, gridY = np.meshgrid(np.arange(M), np.arange(M))\n",
    "    \n",
    "    C0 = a0 + gridX.flatten()\n",
    "    C1 = b0 + gridY.flatten()\n",
    "    C = np.stack([C0, C1], axis=0)\n",
    "    \n",
    "    n = np.array([np.cos(angles), np.sin(angles)]).T\n",
    "    \n",
    "    print(n.shape, C.shape)\n",
    "    \n",
    "    p = n.dot(C) + s0\n",
    "    \n",
    "    print(n)\n",
    "    print(C)\n",
    "    print(p)\n",
    "    #print(np.floor(p[0]))\n",
    "    #print(1-(p[0] - np.floor(p[0])))\n",
    "    \n",
    "    sensor1 = np.floor(p)\n",
    "    sensor2 = sensor1 + 1\n",
    "    weights1 = 1 - (p - np.floor(p))\n",
    "    weights2 = 1 - weights1\n",
    "    \n",
    "    sensor = np.concatenate((sensor1, sensor2), axis=1)\n",
    "    weights = np.concatenate((weights1, weights2), axis=1)\n",
    "\n",
    "    \n",
    "    print(sensor.shape)\n",
    "    \n",
    "    i_indices = np.zeros((len(angles), sensor.shape[1]))\n",
    "    j_indices = np.zeros((len(angles), sensor.shape[1]))\n",
    "    for i_o, (sensor_io, weights_io) in enumerate(zip(sensor, weights)):\n",
    "        print(i_o, \":\", sensor_io.shape, weights_io.shape)\n",
    "        i_indices[i_o] = sensor_io + Np*i_o\n",
    "        j_indices[i_o] = np.array([np.arange(D), np.arange(D)]).flatten()\n",
    "        \n",
    "    i_indices = i_indices.flatten()\n",
    "    j_indices = j_indices.flatten()\n",
    "    \n",
    "    print(i_indices.shape, j_indices.shape, weights.shape)\n",
    "    \n",
    "    X = coo_matrix((weights.flatten(), (i_indices, j_indices)), shape=(N, D), dtype=np.float32)\n",
    "    return X\n",
    "    \n",
    "    \n",
    "X = construct_X(10, [33])\n",
    "print(X.toarray())\n",
    "print(X.toarray().shape)\n",
    "plt.imshow(X.toarray())"
   ]
  },
  {
   "cell_type": "code",
   "execution_count": 105,
   "metadata": {},
   "outputs": [
    {
     "name": "stdout",
     "output_type": "stream",
     "text": [
      "[[0.22489321 0.         0.         ... 0.         0.         0.        ]\n",
      " [0.7751068  0.38622263 0.         ... 0.         0.         0.        ]\n",
      " [0.         0.61377734 0.54755205 ... 0.         0.         0.        ]\n",
      " ...\n",
      " [0.         0.         0.         ... 0.         0.         0.        ]\n",
      " [0.         0.         0.         ... 0.         0.         0.        ]\n",
      " [0.         0.         0.         ... 0.         0.         0.        ]]\n"
     ]
    },
    {
     "data": {
      "text/plain": [
       "<matplotlib.image.AxesImage at 0x1a21d38b710>"
      ]
     },
     "execution_count": 105,
     "metadata": {},
     "output_type": "execute_result"
    },
    {
     "data": {
      "image/png": "[encoded data removed]",
      "text/plain": [
       "<matplotlib.figure.Figure at 0x1a21d20ec88>"
      ]
     },
     "metadata": {},
     "output_type": "display_data"
    }
   ],
   "source": [
    "X_example = np.load('hs_tomography/X_example.npy')\n",
    "print(X_example)\n",
    "plt.imshow(X_example[:15])"
   ]
  },
  {
   "cell_type": "code",
   "execution_count": 13,
   "metadata": {},
   "outputs": [
    {
     "name": "stdout",
     "output_type": "stream",
     "text": [
      "[0 1 2 3 4 5 6 7 8 9 0 1 2 3 4 5 6 7 8 9 0 1 2 3 4 5 6 7 8 9 0 1 2 3 4 5 6\n",
      " 7 8 9 0 1 2 3 4 5 6 7 8 9 0 1 2 3 4 5 6 7 8 9 0 1 2 3 4 5 6 7 8 9 0 1 2 3\n",
      " 4 5 6 7 8 9 0 1 2 3 4 5 6 7 8 9 0 1 2 3 4 5 6 7 8 9]\n",
      "[[0 0 0 0 0 0 0 0 0 0]\n",
      " [1 1 1 1 1 1 1 1 1 1]\n",
      " [2 2 2 2 2 2 2 2 2 2]\n",
      " [3 3 3 3 3 3 3 3 3 3]\n",
      " [4 4 4 4 4 4 4 4 4 4]\n",
      " [5 5 5 5 5 5 5 5 5 5]\n",
      " [6 6 6 6 6 6 6 6 6 6]\n",
      " [7 7 7 7 7 7 7 7 7 7]\n",
      " [8 8 8 8 8 8 8 8 8 8]\n",
      " [9 9 9 9 9 9 9 9 9 9]]\n"
     ]
    }
   ],
   "source": [
    "print(np.meshgrid(np.arange(0,10), np.arange(0,10))[0].flatten())\n",
    "print(np.meshgrid(np.arange(0,10), np.arange(0,10))[1])"
   ]
  },
  {
   "cell_type": "code",
   "execution_count": 72,
   "metadata": {},
   "outputs": [
    {
     "name": "stdout",
     "output_type": "stream",
     "text": [
      "[ 0.83867057 -0.54463904]\n",
      "[[ 5.44639035e-01  8.38670568e-01]\n",
      " [-0.00000000e+00  1.00000000e+00]\n",
      " [-1.00000000e+00  6.12323400e-17]]\n"
     ]
    }
   ],
   "source": [
    "angle = -33\n",
    "theta = (angle/180.) * np.pi\n",
    "\n",
    "rotMatrix = np.array([[np.cos(theta), -np.sin(theta)], \n",
    "                         [np.sin(theta),  np.cos(theta)]])\n",
    "\n",
    "print(rotMatrix.dot(np.array([1,0])))\n",
    "print(np.array([-np.sin(np.array([-33,0,90])/180*np.pi), np.cos(np.array([-33,0,90])/180*np.pi)]).T)"
   ]
  },
  {
   "cell_type": "code",
   "execution_count": null,
   "metadata": {},
   "outputs": [],
   "source": []
  }
 ],
 "metadata": {
  "kernelspec": {
   "display_name": "Python 3",
   "language": "python",
   "name": "python3"
  },
  "language_info": {
   "codemirror_mode": {
    "name": "ipython",
    "version": 3
   },
   "file_extension": ".py",
   "mimetype": "text/x-python",
   "name": "python",
   "nbconvert_exporter": "python",
   "pygments_lexer": "ipython3",
   "version": "3.6.4"
  }
 },
 "nbformat": 4,
 "nbformat_minor": 2
}
