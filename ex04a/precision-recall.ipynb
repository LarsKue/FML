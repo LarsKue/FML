{
 "cells": [
  {
   "cell_type": "markdown",
   "source": [
    "# Exercise 4a\n",
    "#### Lars Kühmichel, Ergin Kohen Sagner, Nicolas Wolf\n",
    "\n",
    "## 2 Red Cards Study"
   ],
   "metadata": {
    "collapsed": false
   }
  },
  {
   "cell_type": "code",
   "execution_count": 55,
   "outputs": [],
   "source": [
    "from pathlib import Path\n",
    "import numpy as np\n",
    "import pandas as pd\n",
    "from matplotlib import pyplot as plt\n",
    "from datetime import datetime"
   ],
   "metadata": {
    "collapsed": false,
    "pycharm": {
     "name": "#%%\n"
    }
   }
  },
  {
   "cell_type": "code",
   "execution_count": 56,
   "outputs": [
    {
     "name": "stdout",
     "output_type": "stream",
     "text": [
      "(array([' Abdón Prats', ' Adriano', ' Adrián', ..., 'İlkay Gündoğan',\n",
      "       'Łukasz Fabiański', 'Łukasz Piszczek'], dtype=object), array([ 33, 108, 114, ...,  67,  57,  89], dtype=int64))\n"
     ]
    }
   ],
   "source": [
    "filepath = Path(\"data\", \"dataset\", \"CrowdstormingDataJuly1st.csv\")\n",
    "\n",
    "dtype = {\n",
    "    \"playerShort\": str,\n",
    "    \"player\": str,\n",
    "    \"club\": str,\n",
    "    \"leagueCountry\": str,\n",
    "    \"birthday\": str,\n",
    "    \"height\": float,\n",
    "    \"weight\": float,\n",
    "    \"position\": str,\n",
    "    \"games\": int,\n",
    "    \"victories\": int,\n",
    "    \"ties\": int,\n",
    "    \"defeats\": int,\n",
    "    \"goals\": int,\n",
    "    \"yellowCards\": int,\n",
    "    \"redCards\": int,\n",
    "    \"photoID\": str,\n",
    "    \"rater1\": float,\n",
    "    \"rater2\": float,\n",
    "    \"refNum\": int,\n",
    "    \"refCountry\": int,\n",
    "    \"Alpha_3\": str,\n",
    "    \"meanIAT\": float,\n",
    "    \"nIAT\": float,\n",
    "    \"seIAT\": float,\n",
    "    \"meanExp\": float,\n",
    "    \"nExp\": float,\n",
    "    \"seExp\": float,\n",
    "}\n",
    "\n",
    "parse_dates = [\"birthday\"]\n",
    "\n",
    "dataframe = pd.read_csv(filepath, dtype=dtype, parse_dates=parse_dates)\n",
    "\n",
    "print(np.unique(dataframe.player, return_counts=True))\n"
   ],
   "metadata": {
    "collapsed": false,
    "pycharm": {
     "name": "#%%\n"
    }
   }
  }
 ],
 "metadata": {
  "kernelspec": {
   "display_name": "Python 3",
   "language": "python",
   "name": "python3"
  },
  "language_info": {
   "codemirror_mode": {
    "name": "ipython",
    "version": 2
   },
   "file_extension": ".py",
   "mimetype": "text/x-python",
   "name": "python",
   "nbconvert_exporter": "python",
   "pygments_lexer": "ipython2",
   "version": "2.7.6"
  }
 },
 "nbformat": 4,
 "nbformat_minor": 0
}