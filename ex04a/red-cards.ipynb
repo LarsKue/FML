{
 "cells": [
  {
   "cell_type": "markdown",
   "source": [
    "# Exercise 4a\n",
    "#### Lars Kühmichel, Ergin Kohen Sagner, Nicolas Wolf\n",
    "\n",
    "## 2 Red Cards Study\n",
    "\n",
    "### 2.1 Loading and Cleaning the Data\n",
    "\n",
    "#### What do the feature names stand for?\n",
    "\n",
    "What the feature names stand for can be found in the `README.txt`.\n",
    "E.g. `games` stands for \"number of games in the player-referee\",\n",
    "i.e. how many games that player played under that referee.\n",
    "\n",
    "#### Which irrelevant features might be dropped?\n",
    "Features that are irrelevant are for example `birthday`, `height` or `weight`.\n",
    "Features like `games` and `redCards` are essential to the study,\n",
    "but even features like `refNum` are important to adjust\n",
    "for individual referee bias.\n",
    "\n",
    "#### What relevant features might be missing, but can be computed?\n",
    "\n",
    "\n",
    "#### Are there missing data values, and how should they be dealt with?\n",
    "\n",
    "Some features, especially skin color ratings, are occasionally missing. We will disaggregate the data to\n",
    "deal with these in a simpler way.\n",
    "\n"
   ],
   "metadata": {
    "collapsed": false
   }
  },
  {
   "cell_type": "code",
   "execution_count": 497,
   "outputs": [],
   "source": [
    "from pathlib import Path\n",
    "import numpy as np\n",
    "import pandas as pd\n",
    "from matplotlib import pyplot as plt\n",
    "from uncertainties import ufloat\n"
   ],
   "metadata": {
    "collapsed": false,
    "pycharm": {
     "name": "#%%\n"
    }
   }
  },
  {
   "cell_type": "markdown",
   "source": [
    "#### Disaggregating the data\n",
    "\n",
    "The data is more usable in a format that has each instance (line) as a single player-ref interaction.\n",
    "See [this notebook](https://nbviewer.jupyter.org/github/mathewzilla/redcard/blob/master/Crowdstorming_visualisation.ipynb)."
   ],
   "metadata": {
    "collapsed": false,
    "pycharm": {
     "name": "#%% md\n"
    }
   }
  },
  {
   "cell_type": "code",
   "execution_count": 498,
   "outputs": [
    {
     "data": {
      "text/plain": "     playerShort         player             club leagueCountry    birthday  \\\n0  lucas-wilchez  Lucas Wilchez    Real Zaragoza         Spain  31.08.1983   \n1     john-utaka     John Utaka  Montpellier HSC        France  08.01.1982   \n2    abdon-prats    Abdón Prats     RCD Mallorca         Spain  17.12.1992   \n3     pablo-mari     Pablo Marí     RCD Mallorca         Spain  31.08.1993   \n4     ruben-pena     Rubén Peña  Real Valladolid         Spain  18.07.1991   \n5   aaron-hughes   Aaron Hughes        Fulham FC       England  08.11.1979   \n\n   height  weight              position  games  victories  ties  defeats  \\\n0   177.0    72.0  Attacking Midfielder      1          0     0        1   \n1   179.0    82.0          Right Winger      1          0     0        1   \n2   181.0    79.0                   NaN      1          0     1        0   \n3   191.0    87.0           Center Back      1          1     0        0   \n4   172.0    70.0      Right Midfielder      1          1     0        0   \n5   182.0    71.0           Center Back      1          0     0        1   \n\n   goals  \n0      0  \n1      0  \n2      0  \n3      0  \n4      0  \n5      0  ",
      "text/html": "<div>\n<style scoped>\n    .dataframe tbody tr th:only-of-type {\n        vertical-align: middle;\n    }\n\n    .dataframe tbody tr th {\n        vertical-align: top;\n    }\n\n    .dataframe thead th {\n        text-align: right;\n    }\n</style>\n<table border=\"1\" class=\"dataframe\">\n  <thead>\n    <tr style=\"text-align: right;\">\n      <th></th>\n      <th>playerShort</th>\n      <th>player</th>\n      <th>club</th>\n      <th>leagueCountry</th>\n      <th>birthday</th>\n      <th>height</th>\n      <th>weight</th>\n      <th>position</th>\n      <th>games</th>\n      <th>victories</th>\n      <th>ties</th>\n      <th>defeats</th>\n      <th>goals</th>\n    </tr>\n  </thead>\n  <tbody>\n    <tr>\n      <th>0</th>\n      <td>lucas-wilchez</td>\n      <td>Lucas Wilchez</td>\n      <td>Real Zaragoza</td>\n      <td>Spain</td>\n      <td>31.08.1983</td>\n      <td>177.0</td>\n      <td>72.0</td>\n      <td>Attacking Midfielder</td>\n      <td>1</td>\n      <td>0</td>\n      <td>0</td>\n      <td>1</td>\n      <td>0</td>\n    </tr>\n    <tr>\n      <th>1</th>\n      <td>john-utaka</td>\n      <td>John Utaka</td>\n      <td>Montpellier HSC</td>\n      <td>France</td>\n      <td>08.01.1982</td>\n      <td>179.0</td>\n      <td>82.0</td>\n      <td>Right Winger</td>\n      <td>1</td>\n      <td>0</td>\n      <td>0</td>\n      <td>1</td>\n      <td>0</td>\n    </tr>\n    <tr>\n      <th>2</th>\n      <td>abdon-prats</td>\n      <td>Abdón Prats</td>\n      <td>RCD Mallorca</td>\n      <td>Spain</td>\n      <td>17.12.1992</td>\n      <td>181.0</td>\n      <td>79.0</td>\n      <td>NaN</td>\n      <td>1</td>\n      <td>0</td>\n      <td>1</td>\n      <td>0</td>\n      <td>0</td>\n    </tr>\n    <tr>\n      <th>3</th>\n      <td>pablo-mari</td>\n      <td>Pablo Marí</td>\n      <td>RCD Mallorca</td>\n      <td>Spain</td>\n      <td>31.08.1993</td>\n      <td>191.0</td>\n      <td>87.0</td>\n      <td>Center Back</td>\n      <td>1</td>\n      <td>1</td>\n      <td>0</td>\n      <td>0</td>\n      <td>0</td>\n    </tr>\n    <tr>\n      <th>4</th>\n      <td>ruben-pena</td>\n      <td>Rubén Peña</td>\n      <td>Real Valladolid</td>\n      <td>Spain</td>\n      <td>18.07.1991</td>\n      <td>172.0</td>\n      <td>70.0</td>\n      <td>Right Midfielder</td>\n      <td>1</td>\n      <td>1</td>\n      <td>0</td>\n      <td>0</td>\n      <td>0</td>\n    </tr>\n    <tr>\n      <th>5</th>\n      <td>aaron-hughes</td>\n      <td>Aaron Hughes</td>\n      <td>Fulham FC</td>\n      <td>England</td>\n      <td>08.11.1979</td>\n      <td>182.0</td>\n      <td>71.0</td>\n      <td>Center Back</td>\n      <td>1</td>\n      <td>0</td>\n      <td>0</td>\n      <td>1</td>\n      <td>0</td>\n    </tr>\n  </tbody>\n</table>\n</div>"
     },
     "execution_count": 498,
     "metadata": {},
     "output_type": "execute_result"
    }
   ],
   "source": [
    "def disaggregate(filepath, out_path):\n",
    "    \"\"\"\n",
    "    This code was copied and converted to Python 3 from disaggregate_v3.py\n",
    "    Some of it is of questionable quality. Blame the original devs.\n",
    "    see https://osf.io/w7tds/\n",
    "    \"\"\"\n",
    "    dataframe = pd.read_csv(filepath)\n",
    "\n",
    "    # add new vars\n",
    "    dataframe[\"skintone\"] = (dataframe[\"rater1\"] + dataframe[\"rater2\"]) / 2\n",
    "    dataframe[\"all_reds\"] = dataframe[\"yellowReds\"] + dataframe[\"redCards\"]\n",
    "    dataframe[\"all_reds_strict\"] = dataframe[\"redCards\"]\n",
    "    dataframe[\"ref_count\"] = 0\n",
    "\n",
    "    # add a column which tracks how many games each ref is involved in\n",
    "    refs = pd.unique(dataframe[\"refNum\"].values.ravel())  # list all unique ref IDs\n",
    "\n",
    "    # for each ref, count their dyads\n",
    "    print(\"Counting dyads\")\n",
    "    for r in refs:\n",
    "        m = dataframe[\"refNum\"] == r\n",
    "        dataframe[\"ref_count\"][m] = len(dataframe[m])\n",
    "\n",
    "    colnames = list(dataframe.columns)\n",
    "\n",
    "    print(\"creating out\")\n",
    "    j = 0\n",
    "    out = [0 for _ in range(sum(dataframe[\"games\"]))]\n",
    "    for _, row in dataframe.iterrows():\n",
    "        n = row[\"games\"]\n",
    "        c = row[\"all_reds\"]\n",
    "        d = row[\"all_reds_strict\"]\n",
    "\n",
    "        for _ in range(n):\n",
    "            row[\"all_reds\"] = 1 if (c-_) > 0 else 0\n",
    "            row[\"all_reds_strict\"] = 1 if (d-_) > 0 else 0\n",
    "            rowlist = list(row)\n",
    "            out[j] = rowlist\n",
    "            j += 1\n",
    "            if j % 10000 == 0:\n",
    "                print(f\"Number {j} of {dataframe.shape[0]}\")\n",
    "\n",
    "    pd.DataFrame(out, columns=colnames).to_csv(out_path, index=False)\n",
    "\n",
    "\n",
    "filepath = Path(\"data\", \"dataset\", \"crowdstorm_disaggregated.csv\")\n",
    "\n",
    "if not filepath.is_file():\n",
    "    print(\"Creating disaggregated dataset...\")\n",
    "    p = Path(\"data\", \"dataset\", \"CrowdstormingDataJuly1st.csv\")\n",
    "    disaggregate(p, filepath)\n",
    "\n",
    "if not filepath.is_file():\n",
    "    raise RuntimeError(\"Could not create disaggregated dataset.\")\n",
    "\n",
    "dataframe = pd.read_csv(filepath)\n",
    "\n",
    "# show some of the dataframe\n",
    "dataframe.iloc[0:6,0:13]\n"
   ],
   "metadata": {
    "collapsed": false,
    "pycharm": {
     "name": "#%%\n"
    }
   }
  },
  {
   "cell_type": "markdown",
   "source": [
    "#### Transforming categorical features to a one-hot encoding"
   ],
   "metadata": {
    "collapsed": false,
    "pycharm": {
     "name": "#%% md\n"
    }
   }
  },
  {
   "cell_type": "code",
   "execution_count": 499,
   "outputs": [
    {
     "data": {
      "text/plain": "array([False, False, False, False, False, False, False, False, False,\n       False, False, False, False, False, False, False, False, False,\n       False, False, False, False, False, False, False, False, False,\n       False, False, False, False, False, False, False, False, False,\n       False, False, False, False, False, False, False, False, False,\n       False, False, False, False, False, False, False, False, False,\n       False, False, False, False, False, False, False, False, False,\n       False, False, False, False, False, False, False, False, False,\n       False, False, False, False, False, False, False, False, False,\n       False,  True, False, False, False, False, False, False, False,\n       False, False, False, False, False, False, False, False, False,\n       False, False, False, False, False, False, False, False, False,\n       False, False, False, False, False, False, False, False, False,\n       False])"
     },
     "execution_count": 499,
     "metadata": {},
     "output_type": "execute_result"
    }
   ],
   "source": [
    "def one_hot(a):\n",
    "    \"\"\"\n",
    "    See https://stackoverflow.com/questions/29831489/convert-array-of-indices-to-1-hot-encoded-numpy-array\n",
    "    :param a: Array of categorical features (e.g. league strings)\n",
    "    \"\"\"\n",
    "    _, i = np.unique(a, return_inverse=True)\n",
    "    result = np.full((i.size, i.max() + 1), False)\n",
    "    result[np.arange(i.size),i] = True\n",
    "\n",
    "    return result\n",
    "\n",
    "\n",
    "one_hot(dataframe.club)[0]\n"
   ],
   "metadata": {
    "collapsed": false,
    "pycharm": {
     "name": "#%%\n"
    }
   }
  },
  {
   "cell_type": "markdown",
   "source": [
    "#### Distribution of individual ref-player dyad game numbers\n",
    "\n",
    "See again [this notebook](https://nbviewer.jupyter.org/github/mathewzilla/redcard/blob/master/Crowdstorming_visualisation.ipynb#What-is-the-distribution-of-individual-ref-player-dyad-game-numbers?)."
   ],
   "metadata": {
    "collapsed": false,
    "pycharm": {
     "name": "#%% md\n"
    }
   }
  },
  {
   "cell_type": "code",
   "execution_count": 500,
   "outputs": [
    {
     "data": {
      "text/plain": "<Figure size 864x288 with 2 Axes>",
      "image/png": "[encoded data removed]"
     },
     "metadata": {
      "needs_background": "light"
     },
     "output_type": "display_data"
    }
   ],
   "source": [
    "# distribution of individual ref-player dyad game numbers\n",
    "fig, axes = plt.subplots(1, 2, figsize=(12, 4))\n",
    "\n",
    "axes[0].hist(dataframe.games, bins=max(dataframe.games), histtype=\"stepfilled\")\n",
    "axes[0].set_xlabel(\"Number of Interactions\")\n",
    "axes[0].set_ylabel(\"Frequency\")\n",
    "\n",
    "axes[1].hist(dataframe.games, bins=max(dataframe.games), histtype=\"stepfilled\")\n",
    "axes[1].set_yscale(\"symlog\")\n",
    "axes[1].set_title(\"Log Scaled\")\n",
    "axes[1].set_xlabel(\"Number of Interactions\")\n",
    "axes[1].set_ylabel(\"Log Frequency\")\n",
    "\n",
    "fig.suptitle(\"Distribution of Individual Ref-Player Dyad Game Numbers\")\n",
    "fig.tight_layout()\n",
    "plt.show()"
   ],
   "metadata": {
    "collapsed": false,
    "pycharm": {
     "name": "#%%\n"
    }
   }
  },
  {
   "cell_type": "markdown",
   "source": [
    "#### Do the Raters agree on skin colour ratings?\n",
    "\n",
    "The raters agree with one another in $76.8\\%$ of cases.\n",
    "When they disagree, they still typically pick neighbouring categories.\n",
    "It is therefore useful to take the mean of the two raters since they disagree relatively often."
   ],
   "metadata": {
    "collapsed": false,
    "pycharm": {
     "name": "#%% md\n"
    }
   }
  },
  {
   "cell_type": "code",
   "execution_count": 501,
   "outputs": [
    {
     "name": "stdout",
     "output_type": "stream",
     "text": [
      "Number of times raters agree: 287928\n",
      "Number of times raters disagree: 85139\n",
      "Raters agree in 77.18% of cases.\n"
     ]
    },
    {
     "data": {
      "text/plain": "            Counts\nDifference        \n 0.00       287928\n-0.25        70124\n 0.25        14576\n-0.50          439",
      "text/html": "<div>\n<style scoped>\n    .dataframe tbody tr th:only-of-type {\n        vertical-align: middle;\n    }\n\n    .dataframe tbody tr th {\n        vertical-align: top;\n    }\n\n    .dataframe thead th {\n        text-align: right;\n    }\n</style>\n<table border=\"1\" class=\"dataframe\">\n  <thead>\n    <tr style=\"text-align: right;\">\n      <th></th>\n      <th>Counts</th>\n    </tr>\n    <tr>\n      <th>Difference</th>\n      <th></th>\n    </tr>\n  </thead>\n  <tbody>\n    <tr>\n      <th>0.00</th>\n      <td>287928</td>\n    </tr>\n    <tr>\n      <th>-0.25</th>\n      <td>70124</td>\n    </tr>\n    <tr>\n      <th>0.25</th>\n      <td>14576</td>\n    </tr>\n    <tr>\n      <th>-0.50</th>\n      <td>439</td>\n    </tr>\n  </tbody>\n</table>\n</div>"
     },
     "execution_count": 501,
     "metadata": {},
     "output_type": "execute_result"
    }
   ],
   "source": [
    "rater1 = np.array(dataframe.rater1)\n",
    "rater2 = np.array(dataframe.rater2)\n",
    "\n",
    "# remove nan values. Here, it is important to remove associated dyads from both raters\n",
    "mask1 = ~np.isnan(rater1)\n",
    "mask2 = ~np.isnan(rater2)\n",
    "mask = mask1 & mask2\n",
    "rater1 = rater1[mask]\n",
    "rater2 = rater2[mask]\n",
    "\n",
    "nagree = np.sum(rater1 == rater2)\n",
    "diff = rater1 - rater2\n",
    "\n",
    "print(f\"Number of times raters agree: {nagree}\")\n",
    "print(f\"Number of times raters disagree: {len(diff) - nagree}\")\n",
    "print(f\"Raters agree in {100 * nagree / len(diff):.2f}% of cases.\")\n",
    "\n",
    "_df = pd.DataFrame(pd.Series(diff).value_counts(), columns=[\"Counts\"])\n",
    "_df.index.name = \"Difference\"\n",
    "\n",
    "_df"
   ],
   "metadata": {
    "collapsed": false,
    "pycharm": {
     "name": "#%%\n"
    }
   }
  },
  {
   "cell_type": "markdown",
   "source": [
    "#### Comparison of Raters"
   ],
   "metadata": {
    "collapsed": false,
    "pycharm": {
     "name": "#%% md\n"
    }
   }
  },
  {
   "cell_type": "code",
   "execution_count": 502,
   "outputs": [
    {
     "data": {
      "text/plain": "<Figure size 720x432 with 1 Axes>",
      "image/png": "[encoded data removed]"
     },
     "metadata": {
      "needs_background": "light"
     },
     "output_type": "display_data"
    }
   ],
   "source": [
    "# bar charts are slow (because they need np.unique counts),\n",
    "# so we will use a hack to generate something equivalent\n",
    "values = np.array([0.0, 0.25, 0.50, 0.75, 1.0])\n",
    "width = 0.05\n",
    "epsilon = 0.000001\n",
    "\n",
    "bins1 = np.array(list(zip(values - width, values + epsilon))).flatten()\n",
    "bins2 = np.array(list(zip(values - epsilon, values + width))).flatten()\n",
    "\n",
    "plt.figure(figsize=(10, 6))\n",
    "plt.hist(dataframe.rater1, bins=bins1, label=\"Rater 1\")\n",
    "plt.hist(dataframe.rater2, bins=bins2, label=\"Rater 2\")\n",
    "plt.xticks(values)\n",
    "plt.xlabel(\"Rating\")\n",
    "plt.ylabel(\"Frequency\")\n",
    "plt.legend()\n",
    "plt.title(\"Comparison of Raters\")\n",
    "plt.show()"
   ],
   "metadata": {
    "collapsed": false,
    "pycharm": {
     "name": "#%%\n"
    }
   }
  },
  {
   "cell_type": "markdown",
   "source": [
    "#### Where do raters disagree most?\n",
    "\n",
    "From the plots it is evident that the two raters disagree most on lighter skin colors. The most common case\n",
    "where they disagree has Rater 1 select the skintone as \"Very Light\" $(0.0)$ and Rater 2 as \"Light\" $(0.25)$."
   ],
   "metadata": {
    "collapsed": false,
    "pycharm": {
     "name": "#%% md\n"
    }
   }
  },
  {
   "cell_type": "code",
   "execution_count": 503,
   "outputs": [
    {
     "data": {
      "text/plain": "<Figure size 1008x432 with 2 Axes>",
      "image/png": "[encoded data removed]"
     },
     "metadata": {
      "needs_background": "light"
     },
     "output_type": "display_data"
    },
    {
     "data": {
      "text/plain": "rater2   0.00    0.25   0.50   0.75   1.00\nrater1                                    \n0.00    99636   48621    439      0      0\n0.25     5516  120135   8880      0      0\n0.50        0    7056  25415   6045      0\n0.75        0       0    448  20800   6578\n1.00        0       0      0   1556  21942",
      "text/html": "<div>\n<style scoped>\n    .dataframe tbody tr th:only-of-type {\n        vertical-align: middle;\n    }\n\n    .dataframe tbody tr th {\n        vertical-align: top;\n    }\n\n    .dataframe thead th {\n        text-align: right;\n    }\n</style>\n<table border=\"1\" class=\"dataframe\">\n  <thead>\n    <tr style=\"text-align: right;\">\n      <th>rater2</th>\n      <th>0.00</th>\n      <th>0.25</th>\n      <th>0.50</th>\n      <th>0.75</th>\n      <th>1.00</th>\n    </tr>\n    <tr>\n      <th>rater1</th>\n      <th></th>\n      <th></th>\n      <th></th>\n      <th></th>\n      <th></th>\n    </tr>\n  </thead>\n  <tbody>\n    <tr>\n      <th>0.00</th>\n      <td>99636</td>\n      <td>48621</td>\n      <td>439</td>\n      <td>0</td>\n      <td>0</td>\n    </tr>\n    <tr>\n      <th>0.25</th>\n      <td>5516</td>\n      <td>120135</td>\n      <td>8880</td>\n      <td>0</td>\n      <td>0</td>\n    </tr>\n    <tr>\n      <th>0.50</th>\n      <td>0</td>\n      <td>7056</td>\n      <td>25415</td>\n      <td>6045</td>\n      <td>0</td>\n    </tr>\n    <tr>\n      <th>0.75</th>\n      <td>0</td>\n      <td>0</td>\n      <td>448</td>\n      <td>20800</td>\n      <td>6578</td>\n    </tr>\n    <tr>\n      <th>1.00</th>\n      <td>0</td>\n      <td>0</td>\n      <td>0</td>\n      <td>1556</td>\n      <td>21942</td>\n    </tr>\n  </tbody>\n</table>\n</div>"
     },
     "execution_count": 503,
     "metadata": {},
     "output_type": "execute_result"
    }
   ],
   "source": [
    "mask = rater1 != rater2\n",
    "\n",
    "r1d = rater1[mask]\n",
    "r2d = rater2[mask]\n",
    "\n",
    "bins = np.array(list(zip(values - width, values + width))).flatten()\n",
    "\n",
    "fig, axes = plt.subplots(1, 2, figsize=(14, 6))\n",
    "axes[0].hist(r1d, bins=bins, color=\"C0\")\n",
    "axes[0].set_title(\"Rater 1\")\n",
    "axes[0].set_xticks(values)\n",
    "axes[0].set_xlabel(\"Rating\")\n",
    "axes[0].set_ylabel(\"Frequency\")\n",
    "axes[1].hist(r2d, bins=bins, color=\"C1\")\n",
    "axes[1].set_title(\"Rater 2\")\n",
    "axes[1].set_xticks(values)\n",
    "axes[1].set_xlabel(\"Rating\")\n",
    "axes[1].set_ylabel(\"Frequency\")\n",
    "fig.suptitle(\"Skin Color Ratings on Cases where Raters Disagree\")\n",
    "\n",
    "plt.show()\n",
    "\n",
    "pd.crosstab(dataframe[\"rater1\"], dataframe[\"rater2\"])\n"
   ],
   "metadata": {
    "collapsed": false,
    "pycharm": {
     "name": "#%%\n"
    }
   }
  },
  {
   "cell_type": "markdown",
   "source": [
    "#### Should Referees with very few appearances be excluded from the dataset?\n",
    "\n",
    "Since we disagreggated the data, an \"appearance\" is now a single dyad.\n",
    "Excluding referees with few appearances is generally a good idea,\n",
    "if we have enough referees with many appearances,\n",
    "such as to not skew the dataset through outliers. [This notebook](https://nbviewer.jupyter.org/github/mathewzilla/redcard/blob/master/Crowdstorming_visualisation.ipynb#We-clean-the-data-by-excluding-interactions-by-refs-who-feature-in-fewer-than-22-dyads)\n",
    "mentions that referees with fewer than 22 appearances did not play in\n",
    "one of the major leagues we are interested in, and should thus be removed.\n",
    "\n",
    "#### What does the distribution of ref occurance look like?\n",
    "\n",
    "See again [this notebook](https://nbviewer.jupyter.org/github/mathewzilla/redcard/blob/master/Crowdstorming_visualisation.ipynb#And-what-does-the-distribution-of-ref-occurance-look-like?)."
   ],
   "metadata": {
    "collapsed": false,
    "pycharm": {
     "name": "#%% md\n"
    }
   }
  },
  {
   "cell_type": "code",
   "execution_count": 504,
   "outputs": [
    {
     "name": "stdout",
     "output_type": "stream",
     "text": [
      "Total number of referees = 3147\n",
      "Median number of dyads per referee = 11.0\n"
     ]
    },
    {
     "data": {
      "text/plain": "<Figure size 864x288 with 1 Axes>",
      "image/png": "[encoded data removed]"
     },
     "metadata": {
      "needs_background": "light"
     },
     "output_type": "display_data"
    }
   ],
   "source": [
    "all_refs = dataframe.refNum.value_counts()\n",
    "\n",
    "num_refs = len(all_refs)\n",
    "print(\"Total number of referees =\", num_refs)\n",
    "print(\"Median number of dyads per referee =\", np.median(dataframe.refNum.value_counts()))\n",
    "\n",
    "_, axes = plt.subplots(nrows=1, ncols=1, figsize=(12, 4))\n",
    "axes.hist(dataframe.refNum.value_counts().tolist(), bins=num_refs, edgecolor=\"black\", linewidth=0.3)\n",
    "axes.set_xscale(\"symlog\") # symetric log scale\n",
    "axes.set_yscale(\"symlog\")\n",
    "axes.set_title(\"Referee occurance, log scaled\")\n",
    "axes.set_xlabel(\"log (number of occurances)\")\n",
    "axes.set_ylabel(\"log (frequency)\")\n",
    "\n",
    "plt.show()\n"
   ],
   "metadata": {
    "collapsed": false,
    "pycharm": {
     "name": "#%%\n"
    }
   }
  },
  {
   "cell_type": "markdown",
   "source": [
    "#### We clean the data by excluding interactions by refs who feature in fewer than 22 dyads\n",
    "\n",
    "See again [this notebook](https://nbviewer.jupyter.org/github/mathewzilla/redcard/blob/master/Crowdstorming_visualisation.ipynb#We-clean-the-data-by-excluding-interactions-by-refs-who-feature-in-fewer-than-22-dyads).\n",
    "\n",
    "We keep only about $40\\%$ of referees, but more than $97\\%$ of dyads."
   ],
   "metadata": {
    "collapsed": false,
    "pycharm": {
     "name": "#%% md\n"
    }
   }
  },
  {
   "cell_type": "code",
   "execution_count": 505,
   "outputs": [
    {
     "name": "stdout",
     "output_type": "stream",
     "text": [
      "Referees kept: 1261 out of 3147 (40.07%)\n",
      "Dyads kept: 415692 out of 426572 (97.45%)\n"
     ]
    },
    {
     "data": {
      "text/plain": "<Figure size 864x288 with 1 Axes>",
      "image/png": "[encoded data removed]"
     },
     "metadata": {
      "needs_background": "light"
     },
     "output_type": "display_data"
    }
   ],
   "source": [
    "good_refs = all_refs[all_refs>21]\n",
    "\n",
    "print(f\"Referees kept: {len(good_refs)} out of {len(all_refs)} ({100 * len(good_refs) / len(all_refs):.2f}%)\")\n",
    "print(f\"Dyads kept: {sum(good_refs)} out of {sum(all_refs)} ({100 * sum(good_refs) / sum(all_refs):.2f}%)\")\n",
    "\n",
    "_, axes = plt.subplots(nrows=1, ncols=1, figsize=(12, 4))\n",
    "axes.hist(good_refs.tolist(), num_refs-11, edgecolor=\"black\", linewidth=0.3)\n",
    "axes.set_xscale(\"symlog\") # symetric log scale\n",
    "plt.xlim([1,10000])\n",
    "axes.set_yscale(\"symlog\")\n",
    "plt.ylim([0,1000])\n",
    "axes.set_title(\"Referee occurance following our cull, log scaled\")\n",
    "axes.set_xlabel(\"log (number of occurances)\")\n",
    "axes.set_ylabel(\"log (frequency)\")\n",
    "\n",
    "plt.show()"
   ],
   "metadata": {
    "collapsed": false,
    "pycharm": {
     "name": "#%%\n"
    }
   }
  },
  {
   "cell_type": "markdown",
   "source": [
    "#### Should features be normalized and/or centralized?\n",
    "\n",
    "Centralizing the data is useful for linear regression.\n"
   ],
   "metadata": {
    "collapsed": false,
    "pycharm": {
     "name": "#%% md\n"
    }
   }
  },
  {
   "cell_type": "markdown",
   "source": [
    "### 2.2 Model Creation\n",
    "\n",
    "#### Linear Regression"
   ],
   "metadata": {
    "collapsed": false,
    "pycharm": {
     "name": "#%% md\n"
    }
   }
  },
  {
   "cell_type": "code",
   "execution_count": 506,
   "outputs": [
    {
     "name": "stdout",
     "output_type": "stream",
     "text": [
      "3.0\n",
      "3.0\n",
      "(array([1., 2.]), 0.0)\n"
     ]
    }
   ],
   "source": [
    "class LinearRegressor:\n",
    "    def __init__(self, x, y):\n",
    "        self.x = x\n",
    "        self.y = y\n",
    "\n",
    "        self.beta = None\n",
    "        self.b = None\n",
    "\n",
    "    def fit(self):\n",
    "        mx, my = self.centralize()\n",
    "\n",
    "        self.beta = np.linalg.pinv(self.x) @ self.y\n",
    "        self.b = my - self.beta @ mx\n",
    "\n",
    "        return self.beta, self.b\n",
    "\n",
    "    def centralize(self):\n",
    "        mx = np.mean(self.x, axis=0)\n",
    "        my = np.mean(self.y, axis=0)\n",
    "        self.x = self.x - mx\n",
    "        self.y = self.y - my\n",
    "        return mx, my\n",
    "\n",
    "x = np.array([[0, 0], [0, 1], [1, 0], [1, 1], [1, 2], [2, 1], [2, 2]])\n",
    "\n",
    "# x1 + 2 * x2\n",
    "y = np.array([0, 2, 1, 3, 5, 4, 6])\n",
    "\n",
    "lr = LinearRegressor(x, y)\n",
    "\n",
    "popt = lr.fit()\n",
    "\n",
    "print(popt)\n"
   ],
   "metadata": {
    "collapsed": false,
    "pycharm": {
     "name": "#%%\n"
    }
   }
  },
  {
   "cell_type": "markdown",
   "source": [
    "#### Regression Forest"
   ],
   "metadata": {
    "collapsed": false,
    "pycharm": {
     "name": "#%% md\n"
    }
   }
  },
  {
   "cell_type": "code",
   "execution_count": 506,
   "outputs": [],
   "source": [],
   "metadata": {
    "collapsed": false,
    "pycharm": {
     "name": "#%%\n"
    }
   }
  }
 ],
 "metadata": {
  "kernelspec": {
   "display_name": "Python 3",
   "language": "python",
   "name": "python3"
  },
  "language_info": {
   "codemirror_mode": {
    "name": "ipython",
    "version": 2
   },
   "file_extension": ".py",
   "mimetype": "text/x-python",
   "name": "python",
   "nbconvert_exporter": "python",
   "pygments_lexer": "ipython2",
   "version": "2.7.6"
  }
 },
 "nbformat": 4,
 "nbformat_minor": 0
}