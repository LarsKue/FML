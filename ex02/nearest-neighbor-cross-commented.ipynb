{
 "cells": [
  {
   "cell_type": "markdown",
   "metadata": {},
   "source": [
    "# Exercise 1b IFML WS21\n",
    "Team: Philipp Göldner, Oskar Weinfurtner"
   ]
  },
  {
   "cell_type": "markdown",
   "metadata": {},
   "source": [
    "# 3. kNN Classification on Real Data\n",
    "## 3.1 Exploring the Data"
   ]
  },
  {
   "cell_type": "code",
   "execution_count": 1,
   "metadata": {},
   "outputs": [
    {
     "name": "stdout",
     "output_type": "stream",
     "text": [
      "float64\n",
      "(1797, 64)\n",
      "(1797, 8, 8)\n"
     ]
    }
   ],
   "source": [
    "from sklearn . datasets import load_digits\n",
    "digits = load_digits ()\n",
    "data = digits [\"data\"]\n",
    "images = digits [\"images\"]\n",
    "target = digits [\"target\"]\n",
    "target_names = digits[\"target_names\"]\n",
    "\n",
    "print(data.dtype)\n",
    "print(data.shape)\n",
    "print(images.shape)"
   ]
  },
  {
   "cell_type": "markdown",
   "metadata": {},
   "source": [
    "<span style=\"color:green;font-weight:bold\">You could have also shown the shape of \"data\".</span>"
   ]
  },
  {
   "cell_type": "code",
   "execution_count": 2,
   "metadata": {},
   "outputs": [
    {
     "data": {
      "image/png": "[encoded data removed]",
      "text/plain": [
       "<Figure size 432x288 with 1 Axes>"
      ]
     },
     "metadata": {
      "needs_background": "light"
     },
     "output_type": "display_data"
    },
    {
     "data": {
      "image/png": "[encoded data removed]",
      "text/plain": [
       "<Figure size 432x288 with 1 Axes>"
      ]
     },
     "metadata": {
      "needs_background": "light"
     },
     "output_type": "display_data"
    }
   ],
   "source": [
    "import numpy as np\n",
    "import matplotlib.pyplot as plt\n",
    "threes = np.argwhere(target==3)\n",
    "img = images[threes[0]][0]\n",
    "assert 2 == len(img.shape)\n",
    "plt.figure()\n",
    "plt.gray()\n",
    "plt.imshow(img, interpolation=\"nearest\")\n",
    "plt.show()\n",
    "plt.figure()\n",
    "plt.gray()\n",
    "plt.imshow(img, interpolation=\"bicubic\")\n",
    "plt.show()"
   ]
  },
  {
   "cell_type": "markdown",
   "metadata": {},
   "source": [
    "<span style=\"color:green;font-weight:bold\"> Could have been better to put both images side-by-side. </span>"
   ]
  },
  {
   "cell_type": "code",
   "execution_count": null,
   "metadata": {},
   "outputs": [],
   "source": [
    "<span style=\"color:green;font-weight:bold\"> </span>"
   ]
  },
  {
   "cell_type": "code",
   "execution_count": 3,
   "metadata": {},
   "outputs": [],
   "source": [
    "from sklearn import model_selection\n",
    "X_all = data\n",
    "Y_all = target\n",
    "\n",
    "X_train, X_test, y_train, y_test = model_selection.train_test_split(X_all, Y_all, test_size= 0.4, random_state=0)"
   ]
  },
  {
   "cell_type": "markdown",
   "metadata": {},
   "source": [
    "<span style=\"color:green;font-weight:bold\"> It would be more readible to include all the imports at the beginning of the document, but of course that's not a big issue. </span>"
   ]
  },
  {
   "cell_type": "code",
   "execution_count": 4,
   "metadata": {},
   "outputs": [
    {
     "data": {
      "text/plain": [
       "(1078, 64)"
      ]
     },
     "execution_count": 4,
     "metadata": {},
     "output_type": "execute_result"
    }
   ],
   "source": [
    "X_train.shape"
   ]
  },
  {
   "cell_type": "markdown",
   "metadata": {},
   "source": [
    "<span style=\"color:green;font-weight:bold\"> General comment for 3.1: Apart from minor readability issues, this part is equivalent to the sample solution.</span>"
   ]
  },
  {
   "cell_type": "markdown",
   "metadata": {},
   "source": [
    "## 3.2 Distance function computation using loops"
   ]
  },
  {
   "cell_type": "code",
   "execution_count": 5,
   "metadata": {},
   "outputs": [],
   "source": [
    "def dist_loop(training, test):\n",
    "    dist = np.zeros((training.shape[0],test.shape[0]))\n",
    "    for i,n in enumerate(training):\n",
    "        for j,m in enumerate(test):\n",
    "            dist[i][j] = np.linalg.norm(n-m)\n",
    "    return dist"
   ]
  },
  {
   "cell_type": "markdown",
   "metadata": {},
   "source": [
    "<span style=\"color:green;font-weight:bold\"> General comment for 3.2: This part works even faster than the sample solution, since you used the already defined \"np.linalg.norm\". </span>"
   ]
  },
  {
   "cell_type": "markdown",
   "metadata": {},
   "source": [
    "$d(x, y) = \\sqrt{\\sum_i(x_i - y_i)^2} = \\sqrt{\\sum_i{x_i^2 - 2x_iy_i + y_i^2}} = \\sqrt{\\sum_i{x_i^2} + \\sum_i{y_i^2} - \\sum_i{2x_iy_i}}$"
   ]
  },
  {
   "cell_type": "markdown",
   "metadata": {},
   "source": [
    "## 3.3 Distance function computation using vectorization"
   ]
  },
  {
   "cell_type": "code",
   "execution_count": 6,
   "metadata": {},
   "outputs": [],
   "source": [
    "def dist_vec(training, test):\n",
    "    #training = training[0:3]\n",
    "    #test = test[0:3]\n",
    "    #first square and sum\n",
    "    training_sum_square = np.sum(training**2, axis=1)\n",
    "    test_sum_square = np.sum(test**2, axis=1)\n",
    "    #https://numpy.org/doc/stable/reference/generated/numpy.ufunc.outer.html\n",
    "    # Add both together in the right way\n",
    "    square_sum = np.add.outer(training_sum_square, test_sum_square)\n",
    "    sum_prod_train_test = np.dot(training, test.T)\n",
    "    dist = np.sqrt(square_sum - 2*sum_prod_train_test)\n",
    "    return dist"
   ]
  },
  {
   "cell_type": "code",
   "execution_count": 7,
   "metadata": {},
   "outputs": [
    {
     "name": "stdout",
     "output_type": "stream",
     "text": [
      "6.97 ms ± 75.1 µs per loop (mean ± std. dev. of 7 runs, 100 loops each)\n"
     ]
    }
   ],
   "source": [
    "%timeit dist_vec(X_train, X_test)"
   ]
  },
  {
   "cell_type": "code",
   "execution_count": 8,
   "metadata": {},
   "outputs": [
    {
     "name": "stdout",
     "output_type": "stream",
     "text": [
      "4.83 s ± 24 ms per loop (mean ± std. dev. of 7 runs, 1 loop each)\n"
     ]
    }
   ],
   "source": [
    "%timeit dist_loop(X_train, X_test)"
   ]
  },
  {
   "cell_type": "markdown",
   "metadata": {},
   "source": [
    "<span style=\"color:green;font-weight:bold\"> General comment for 3.3: Fine, but a little slower than the sample code (I multiply the here given time by 100 since you have 100 loops in 1 run, while that's 1 loop in 1 run in the sample solution).  </span>"
   ]
  },
  {
   "cell_type": "markdown",
   "metadata": {},
   "source": [
    "as we ca see, the vectorized implementation runs faster by an order of magnitude."
   ]
  },
  {
   "cell_type": "markdown",
   "metadata": {},
   "source": [
    "## 3.4 Implement the k-nearest neighbor classifier"
   ]
  },
  {
   "cell_type": "code",
   "execution_count": 73,
   "metadata": {},
   "outputs": [
    {
     "data": {
      "image/png": "[encoded data removed]",
      "text/plain": [
       "<Figure size 432x288 with 10 Axes>"
      ]
     },
     "metadata": {
      "needs_background": "light"
     },
     "output_type": "display_data"
    }
   ],
   "source": [
    "# filter digit 3 and 9 from training and test set\n",
    "idx = np.argwhere((target==3) | (target==9))\n",
    "\n",
    "n_plots=10\n",
    "f, AX = plt.subplots(1, n_plots)\n",
    "for i, j in enumerate(np.random.choice(100, size=[n_plots])):\n",
    "    im, label = images[idx[j]][0], target[idx[j]][0]\n",
    "    AX[i].imshow(im, cmap='gray')\n",
    "    AX[i].axis('off')\n",
    "    AX[i].set_title(label)"
   ]
  },
  {
   "cell_type": "code",
   "execution_count": 74,
   "metadata": {},
   "outputs": [
    {
     "data": {
      "text/plain": [
       "(217, 64)"
      ]
     },
     "execution_count": 74,
     "metadata": {},
     "output_type": "execute_result"
    }
   ],
   "source": [
    "X_all = data[idx]\n",
    "Y_all = target[idx]\n",
    "\n",
    "X_train, X_test, y_train, y_test = model_selection.train_test_split(\n",
    "    X_all.squeeze(), Y_all.squeeze(), test_size= 0.4, random_state=0)\n",
    "X_train.shape"
   ]
  },
  {
   "cell_type": "code",
   "execution_count": 144,
   "metadata": {},
   "outputs": [
    {
     "name": "stdout",
     "output_type": "stream",
     "text": [
      "0.00684931506849315\n"
     ]
    }
   ],
   "source": [
    "from collections import Counter\n",
    "\n",
    "# kNN combining our own and official solution for sheet 1a\n",
    "def knn_classifier(x_test, x_train, y_train, k):\n",
    "    \"\"\"\n",
    "    Nearest neighbor classifier for arbitrary training set size.\n",
    "    \n",
    "    params\n",
    "    ------\n",
    "    x_test : array of examples to classify\n",
    "    x_train : feature data\n",
    "    y_train : label data\n",
    "    \n",
    "    returns\n",
    "    -------\n",
    "    labels: predicted labels of x_test sample array\n",
    "    \"\"\"\n",
    "\n",
    "    np.expand_dims(x_train, axis=0)\n",
    "    np.expand_dims(x_test, axis=0)\n",
    "    \n",
    "    diffs = dist_vec(x_train, x_test)\n",
    "    labels = np.asarray([Counter(y_train[np.argpartition(diff, k)[:k]]).most_common(1)[0][0] for diff in diffs.T])\n",
    "    \n",
    "    # Explanation:\n",
    "    # np.argpartition(diff, k)[:k] finds the indices of the k smallest differences in diff\n",
    "    # Counter(y_train[...]).most_common(1) performs a majority voting in the labels of nearest neighbors \n",
    "    \n",
    "    return labels\n",
    "\n",
    "# quick test\n",
    "predictions = knn_classifier(X_test, X_train, y_train, k=1)\n",
    "error_rate = np.count_nonzero(predictions != y_test) / len(y_test)\n",
    "#print(y_test)\n",
    "#print(predictions)\n",
    "print(error_rate)"
   ]
  },
  {
   "cell_type": "code",
   "execution_count": 142,
   "metadata": {},
   "outputs": [
    {
     "data": {
      "image/png": "[encoded data removed]",
      "text/plain": [
       "<Figure size 432x288 with 1 Axes>"
      ]
     },
     "metadata": {
      "needs_background": "light"
     },
     "output_type": "display_data"
    }
   ],
   "source": [
    "# vary value for k and compute error rates, describe classification performance\n",
    "ks = [1,3,5,9,17,33]\n",
    "error_rates = []\n",
    "for k in ks: \n",
    "    # predict using kNN classifier\n",
    "    predictions = knn_classifier(X_test, X_train, y_train, k=k)\n",
    "    \n",
    "    # determine error rate on test set\n",
    "    error_rates.append(np.count_nonzero(predictions != y_test) / len(y_test))\n",
    "\n",
    "plt.plot(ks, error_rates, marker='o')\n",
    "plt.xlabel('number of considered nearest neighbors k')\n",
    "plt.ylabel('error rate')\n",
    "plt.title('Error rate of kNN vor varied k')\n",
    "plt.show()"
   ]
  },
  {
   "cell_type": "markdown",
   "metadata": {},
   "source": [
    "the classification performance is best for k=5, where we achieve the lowest classification error, for larger and smaller values of k, the error is increases"
   ]
  },
  {
   "cell_type": "markdown",
   "metadata": {},
   "source": [
    "<span style=\"color:green;font-weight:bold\"> General comment for 3.4: Fine. Some differences in the results between this and the sample solution can be explained by the randomness of the training and test sets.</span>"
   ]
  },
  {
   "cell_type": "markdown",
   "metadata": {},
   "source": [
    "## 4. Cross Validation"
   ]
  },
  {
   "cell_type": "code",
   "execution_count": 163,
   "metadata": {},
   "outputs": [],
   "source": [
    "# write a function\n",
    "#X_folds, y_folds = split_folds(data, target, L)\n",
    "\n",
    "def split_folds(data, target, L):    \n",
    "    assert len(data) == len(target)\n",
    "    p = np.random.permutation(len(data))    \n",
    "    return np.array_split(data[p], L), np.array_split(target[p], L)"
   ]
  },
  {
   "cell_type": "code",
   "execution_count": 164,
   "metadata": {},
   "outputs": [
    {
     "data": {
      "text/plain": [
       "([array([[5, 6],\n",
       "         [3, 4]]),\n",
       "  array([[1, 2]])],\n",
       " [array([3, 2]), array([1])])"
      ]
     },
     "execution_count": 164,
     "metadata": {},
     "output_type": "execute_result"
    }
   ],
   "source": [
    "# test the function\n",
    "split_folds(np.asarray([[1,2], [3,4], [5,6]]), np.asarray([1,2,3]), 2)"
   ]
  },
  {
   "cell_type": "code",
   "execution_count": 167,
   "metadata": {},
   "outputs": [
    {
     "data": {
      "text/plain": [
       "0.00684931506849315"
      ]
     },
     "execution_count": 167,
     "metadata": {},
     "output_type": "execute_result"
    }
   ],
   "source": [
    "# test sklearn kNN\n",
    "from sklearn.neighbors import KNeighborsClassifier\n",
    "sk_kNN = KNeighborsClassifier(n_neighbors=3)\n",
    "sk_kNN.fit(X_train, y_train)\n",
    "prediction = sk_kNN.predict(X_test)\n",
    "error_rate = np.count_nonzero(predictions != y_test) / len(y_test)\n",
    "error_rate"
   ]
  },
  {
   "cell_type": "code",
   "execution_count": 246,
   "metadata": {},
   "outputs": [
    {
     "name": "stdout",
     "output_type": "stream",
     "text": [
      "L: 2 k: 1\n",
      "our kNN: mean error_rate 0.014466705148754741 +/- 0.003330847687730242\n",
      "skl kNN: mean error_rate 0.014466705148754741 +/- 0.003330847687730242\n",
      "L: 2 k: 5\n",
      "our kNN: mean error_rate 0.0211469809315473 +/- 0.0011247339905016956\n",
      "skl kNN: mean error_rate 0.02003401453235592 +/- 0.001124114643590626\n",
      "L: 5 k: 1\n",
      "our kNN: mean error_rate 0.01168368926029093 +/- 0.0027134669276974274\n",
      "skl kNN: mean error_rate 0.01168368926029093 +/- 0.0027134669276974274\n",
      "L: 5 k: 5\n",
      "our kNN: mean error_rate 0.013910554008047044 +/- 0.006339771252498315\n",
      "skl kNN: mean error_rate 0.013353450943980192 +/- 0.007122225977292642\n",
      "L: 10 k: 1\n",
      "our kNN: mean error_rate 0.011691495965238982 +/- 0.005258323042441389\n",
      "skl kNN: mean error_rate 0.011691495965238982 +/- 0.005258323042441389\n",
      "L: 10 k: 5\n",
      "our kNN: mean error_rate 0.013913718187461201 +/- 0.009713114912511525\n",
      "skl kNN: mean error_rate 0.013913718187461201 +/- 0.009713114912511525\n"
     ]
    }
   ],
   "source": [
    "np.warnings.filterwarnings('ignore', category=np.VisibleDeprecationWarning) # error source tbd\n",
    "\n",
    "Ls = [2,5,10]\n",
    "ks = [1,5]\n",
    "\n",
    "err_mean_our = []\n",
    "err_std_our = []\n",
    "\n",
    "err_mean_skl = []\n",
    "err_std_skl = []\n",
    "\n",
    "for L in Ls:\n",
    "    for k in ks:\n",
    "        print('L:', L, 'k:', k)\n",
    "        X_folds, y_folds = split_folds(data, target, L)\n",
    "        \n",
    "        error_fold = []\n",
    "        error_fold_sk = []\n",
    "        \n",
    "        for f in range(len(X_folds)):\n",
    "            X_test = X_folds[f]\n",
    "            y_test = y_folds[f]\n",
    "            \n",
    "            X_train = np.concatenate(np.delete(X_folds, f, axis=0))\n",
    "            y_train = np.concatenate(np.delete(y_folds, f, axis=0))\n",
    "            \n",
    "            # custom kNN\n",
    "            predictions = np.asarray(knn_classifier(X_test, X_train, y_train, k=k))\n",
    "            error_fold.append(np.count_nonzero(predictions != y_test) / float(len(y_test)))\n",
    "            \n",
    "            # sklearn kNN\n",
    "            sk_kNN = KNeighborsClassifier(n_neighbors=k)\n",
    "            sk_kNN.fit(X_train, y_train)\n",
    "            predictions = np.asarray(sk_kNN.predict(X_test))\n",
    "            error_fold_sk.append(np.count_nonzero(predictions != y_test) / len(y_test))\n",
    "    \n",
    "        error_fold = np.asarray(error_fold)\n",
    "        error_fold_sk = np.asarray(error_fold_sk)\n",
    "\n",
    "        err_mean_our.append(np.mean(error_fold))\n",
    "        err_std_our.append(np.std(error_fold))\n",
    "        err_mean_skl.append(np.mean(error_fold_sk))\n",
    "        err_std_skl.append(np.std(error_fold_sk))\n",
    "        \n",
    "        print('our kNN: mean error_rate', np.mean(error_fold), '+/-', np.std(error_fold))\n",
    "        print('skl kNN: mean error_rate', np.mean(error_fold_sk), '+/-', np.std(error_fold_sk))"
   ]
  },
  {
   "cell_type": "markdown",
   "metadata": {},
   "source": [
    "The comparsion with the SkLearn Implementation shows only slight differences, most of the digits are the same. For better visual comparsison, we plot the results: "
   ]
  },
  {
   "cell_type": "code",
   "execution_count": 272,
   "metadata": {},
   "outputs": [
    {
     "data": {
      "image/png": "[encoded data removed]",
      "text/plain": [
       "<Figure size 432x288 with 1 Axes>"
      ]
     },
     "metadata": {
      "needs_background": "light"
     },
     "output_type": "display_data"
    }
   ],
   "source": [
    "plt.title('Comparing our kNN to ScikitLearn (skl)')\n",
    "plt.xlabel('Number of folds L')\n",
    "plt.ylabel('Error rate across folds')\n",
    "plt.errorbar(Ls, err_mean_skl[0::2], err_std_skl[0::2], label='skls k=1', linestyle='--', color='C0', capsize=5)\n",
    "plt.errorbar(Ls, err_mean_skl[1::2], err_std_skl[1::2], label='skls k=5', linestyle='--', color='C1', capsize=5)\n",
    "plt.errorbar(Ls, err_mean_our[0::2], err_std_our[0::2], label='ours k=1', color='C2', capsize=5)\n",
    "plt.errorbar(Ls, err_mean_our[1::2], err_std_our[1::2], label='ours k=5', color='C3', capsize=5)\n",
    "plt.legend(loc='best')\n",
    "plt.show()"
   ]
  },
  {
   "cell_type": "code",
   "execution_count": 271,
   "metadata": {},
   "outputs": [
    {
     "data": {
      "image/png": "[encoded data removed]",
      "text/plain": [
       "<Figure size 432x288 with 1 Axes>"
      ]
     },
     "metadata": {
      "needs_background": "light"
     },
     "output_type": "display_data"
    }
   ],
   "source": [
    "plt.title('SkLearn kNN')\n",
    "plt.xlabel('Number of folds L')\n",
    "plt.ylabel('Error rate across folds')\n",
    "plt.errorbar(Ls, err_mean_skl[0::2], err_std_skl[0::2], label='skls k=1', linestyle='--', color='C0', capsize=5)\n",
    "plt.errorbar(Ls, err_mean_skl[1::2], err_std_skl[1::2], label='skls k=5', linestyle='--', color='C1', capsize=5)\n",
    "plt.legend(loc='best')\n",
    "plt.show()"
   ]
  },
  {
   "cell_type": "code",
   "execution_count": 270,
   "metadata": {},
   "outputs": [
    {
     "data": {
      "image/png": "[encoded data removed]",
      "text/plain": [
       "<Figure size 432x288 with 1 Axes>"
      ]
     },
     "metadata": {
      "needs_background": "light"
     },
     "output_type": "display_data"
    }
   ],
   "source": [
    "plt.title('Our kNN')\n",
    "plt.xlabel('Number of folds L')\n",
    "plt.ylabel('Error rate across folds')\n",
    "plt.errorbar(Ls, err_mean_our[0::2], err_std_our[0::2], label='ours k=1', color='C2', capsize=5)\n",
    "plt.errorbar(Ls, err_mean_our[1::2], err_std_our[1::2], label='ours k=5', color='C3', capsize=5)\n",
    "plt.legend(loc='best')\n",
    "plt.show()"
   ]
  },
  {
   "cell_type": "markdown",
   "metadata": {},
   "source": [
    "From the plots we can observe, that a higher number of folds decreases the mean error across the folds, but too many folds are not useful, as the mean error does not decrease anymore, instead the standard deviation gets larger."
   ]
  },
  {
   "cell_type": "markdown",
   "metadata": {},
   "source": [
    "<span style=\"color:green;font-weight:bold\"> General comment for 4: Fine. The same comment one more time: You can make your document much more readible by plotting the diagrams side-by-side. In total, good work!</span>"
   ]
  },
  {
   "cell_type": "code",
   "execution_count": null,
   "metadata": {},
   "outputs": [],
   "source": []
  }
 ],
 "metadata": {
  "kernelspec": {
   "display_name": "Python 3",
   "language": "python",
   "name": "python3"
  },
  "language_info": {
   "codemirror_mode": {
    "name": "ipython",
    "version": 3
   },
   "file_extension": ".py",
   "mimetype": "text/x-python",
   "name": "python",
   "nbconvert_exporter": "python",
   "pygments_lexer": "ipython3",
   "version": "3.7.6"
  }
 },
 "nbformat": 4,
 "nbformat_minor": 4
}