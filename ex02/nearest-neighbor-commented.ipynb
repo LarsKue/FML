{
 "cells": [
  {
   "cell_type": "code",
   "execution_count": 1,
   "metadata": {},
   "outputs": [],
   "source": [
    "%matplotlib inline\n",
    "import numpy as np\n",
    "import matplotlib.pyplot as plt"
   ]
  },
  {
   "cell_type": "markdown",
   "metadata": {},
   "source": [
    "# Exercise 1b\n",
    "#### Lars Kühmichel, Ergin Kohen Sagner, Nicolas Wolf\n",
    "\n",
    "## 3 Nearest Neighbor Classification on Real Data\n",
    "### 3.1 Exploring the Data"
   ]
  },
  {
   "cell_type": "markdown",
   "metadata": {},
   "source": [
    "<div style=\"color:green; font-weight: bold\">\n",
    "Comment: same as the sample solution\n",
    "</div>"
   ]
  },
  {
   "cell_type": "code",
   "execution_count": 2,
   "metadata": {},
   "outputs": [
    {
     "name": "stdout",
     "output_type": "stream",
     "text": [
      "dict_keys(['data', 'target', 'target_names', 'images', 'DESCR'])\n",
      "float64\n"
     ]
    }
   ],
   "source": [
    "from sklearn.datasets import load_digits\n",
    "\n",
    "digits = load_digits()\n",
    "\n",
    "print(digits.keys())\n",
    "\n",
    "data = digits[\"data\"]\n",
    "images = digits[\"images\"]\n",
    "target = digits[\"target\"]\n",
    "target_names = digits[\"target_names\"]\n",
    "\n",
    "print(data.dtype)"
   ]
  },
  {
   "cell_type": "code",
   "execution_count": 3,
   "metadata": {},
   "outputs": [
    {
     "name": "stdout",
     "output_type": "stream",
     "text": [
      "(8, 8)\n"
     ]
    },
    {
     "data": {
      "image/png": "[encoded data removed]",
      "text/plain": [
       "<matplotlib.figure.Figure at 0x1ca00078e10>"
      ]
     },
     "metadata": {},
     "output_type": "display_data"
    }
   ],
   "source": [
    "img = images[3]\n",
    "\n",
    "print(img.shape)\n",
    "assert 2 == len(img.shape)\n",
    "\n",
    "fig, axes = plt.subplots(1, 2, num=1, figsize=(8, 3))\n",
    "axes[0].imshow(img, interpolation=\"nearest\", cmap=\"gray\")\n",
    "axes[0].set_title(\"Nearest\")\n",
    "axes[1].imshow(img, interpolation=\"bicubic\", cmap=\"gray\")\n",
    "axes[1].set_title(\"Bicubic\")\n",
    "plt.show()"
   ]
  },
  {
   "cell_type": "code",
   "execution_count": 4,
   "metadata": {},
   "outputs": [
    {
     "name": "stdout",
     "output_type": "stream",
     "text": [
      "(1078, 64) (719, 64) (1078,) (719,)\n"
     ]
    }
   ],
   "source": [
    "from sklearn import model_selection\n",
    "\n",
    "X_all = data\n",
    "Y_all = target\n",
    "\n",
    "X_train, X_test, Y_train, Y_test = model_selection.train_test_split(X_all, Y_all, test_size=0.4, random_state=0)\n",
    "\n",
    "print(X_train.shape, X_test.shape, Y_train.shape, Y_test.shape)"
   ]
  },
  {
   "cell_type": "markdown",
   "metadata": {},
   "source": [
    "### 3.2 Distance function computation using loops"
   ]
  },
  {
   "cell_type": "markdown",
   "metadata": {},
   "source": [
    "<div style=\"color:green; font-weight: bold\">\n",
    "Comment: we used np.linalg.norm which does the same as sqrt(sum(square(...))) in this case\n",
    "</div>"
   ]
  },
  {
   "cell_type": "code",
   "execution_count": 5,
   "metadata": {},
   "outputs": [],
   "source": [
    "def dist_loop(training, test):\n",
    "    N = training.shape[0]\n",
    "    M = test.shape[0]\n",
    "    D = training.shape[1]\n",
    "    #print(N, M, D)\n",
    "    result = np.zeros((N, M))\n",
    "    \n",
    "    for n in range(N):\n",
    "        for m in range(M):\n",
    "            result[n, m] = np.linalg.norm(training[n] - test[m])\n",
    "            \n",
    "    return result\n",
    "    "
   ]
  },
  {
   "cell_type": "markdown",
   "metadata": {},
   "source": [
    "### 3.3 Distance Function using vectorization\n",
    "\n",
    "$$\n",
    "\\begin{align*}\n",
    "    dist(A,B) &= \\sqrt{\\sum(A-B)^2}\\\\\n",
    "        &= \\sqrt{\\sum A^2 -2\\sum AB + \\sum B^2}\\qquad&&\\text{pointwise multiplication}\\\\\n",
    "        &= \\sqrt{\\sum A^2 - 2 A\\cdot B + \\sum B^2}\\qquad&&\\text{dot product}\n",
    "\\end{align*}\n",
    "$$\n",
    "\n",
    "\n",
    "<div style=\"color:green; font-weight: bold\">\n",
    "Comment: We also tested both versions of the vectorized distance function, but we used np.newaxis for adding dimensions. This is only a different syntax but otherwise equivalent\n",
    "</div>"
   ]
  },
  {
   "cell_type": "code",
   "execution_count": 6,
   "metadata": {},
   "outputs": [],
   "source": [
    "def dist_vec(training, test):\n",
    "    return np.sqrt(np.square(training[:,np.newaxis] - test).sum(axis=2))\n"
   ]
  },
  {
   "cell_type": "code",
   "execution_count": 7,
   "metadata": {},
   "outputs": [],
   "source": [
    "def dist_vec_2(training, test):\n",
    "    sums = np.sum(np.square(training)[:,np.newaxis,:], axis=2) - 2*training.dot(test.T) + np.sum(np.square(test), axis=1)\n",
    "    return np.sqrt(sums)"
   ]
  },
  {
   "cell_type": "code",
   "execution_count": 8,
   "metadata": {},
   "outputs": [
    {
     "name": "stdout",
     "output_type": "stream",
     "text": [
      "5.63 s ± 60.9 ms per loop (mean ± std. dev. of 7 runs, 1 loop each)\n",
      "508 ms ± 33.5 ms per loop (mean ± std. dev. of 7 runs, 1 loop each)\n",
      "19.9 ms ± 246 µs per loop (mean ± std. dev. of 7 runs, 100 loops each)\n",
      "12.4 ms ± 171 µs per loop (mean ± std. dev. of 7 runs, 100 loops each)\n"
     ]
    }
   ],
   "source": [
    "from sklearn.metrics import pairwise_distances\n",
    "\n",
    "%timeit dist_loop(X_train, X_test)\n",
    "%timeit dist_vec(X_train, X_test)\n",
    "%timeit dist_vec_2(X_train, X_test)\n",
    "%timeit pairwise_distances(X_train, X_test)"
   ]
  },
  {
   "cell_type": "markdown",
   "metadata": {},
   "source": [
    "<div style=\"color:green; font-weight: bold\">\n",
    "Comment: Our functions give the same results. The reason for the different results in the sample solution is probably some rounding error which didn't occur here\n",
    "</div>"
   ]
  },
  {
   "cell_type": "code",
   "execution_count": 9,
   "metadata": {},
   "outputs": [
    {
     "name": "stdout",
     "output_type": "stream",
     "text": [
      "True\n",
      "True\n",
      "True\n"
     ]
    }
   ],
   "source": [
    "distances_loop = dist_loop(X_train, X_test)\n",
    "distances_vec = dist_vec(X_train, X_test)\n",
    "distances_vec_2 = dist_vec_2(X_train, X_test)\n",
    "distances_sklearn = pairwise_distances(X_train, X_test)\n",
    "print(np.array_equal(distances_loop, distances_vec))\n",
    "print(np.array_equal(distances_loop, distances_vec_2))\n",
    "print(np.array_equal(distances_loop, distances_sklearn))"
   ]
  },
  {
   "cell_type": "markdown",
   "metadata": {},
   "source": [
    "### 3.4 Implement the k-nearest neighbor classifier"
   ]
  },
  {
   "cell_type": "markdown",
   "metadata": {},
   "source": [
    "<div style=\"color:green; font-weight: bold\">\n",
    "Comment: We use argpartition instead of argsort. The partition function works like the partition function in quicksort. It takes an array and an index 'k' and returns an array in which the element with index 'k' is in its correct place. The elements on the left are smaller, those on the right are larger but not necessarily sorted. The function argpartition returns the corresponding indices from the original array. The advantage over argsort is, that it doesn't have to do a full sort and is thus faster.\n",
    "<br>\n",
    "Also we used bincount to avoid an additional loop\n",
    "</div>"
   ]
  },
  {
   "cell_type": "code",
   "execution_count": 10,
   "metadata": {},
   "outputs": [],
   "source": [
    "def knn(training, training_labels, test, k):\n",
    "    distance_matrix = dist_vec_2(training, test)\n",
    "    # matrix with indices where the first k entries in each column have the smallest distance\n",
    "    k_min = np.argpartition(distance_matrix, k, axis=0)\n",
    "    k_min = k_min[:k,:]\n",
    "    \n",
    "    classified = np.zeros(k_min.shape[1], dtype=np.uint8)\n",
    "    for i in range(k_min.shape[1]):\n",
    "        # label with the most occurences\n",
    "        classified[i] = np.bincount(training_labels[k_min[:,i]]).argmax()\n",
    "    \n",
    "    return classified\n",
    "    \n"
   ]
  },
  {
   "cell_type": "markdown",
   "metadata": {},
   "source": [
    "<div style=\"color:green; font-weight: bold\">\n",
    "Comment: We only compared 3 and 9 (enough for the exercise). Also we didn't plot the error but only checked the dependency numerically.\n",
    "</div>"
   ]
  },
  {
   "cell_type": "code",
   "execution_count": 11,
   "metadata": {},
   "outputs": [
    {
     "name": "stdout",
     "output_type": "stream",
     "text": [
      "k = 1:\t1.39%\n",
      "k = 3:\t0.69%\n",
      "k = 5:\t0.69%\n",
      "k = 7:\t0.00%\n",
      "k = 9:\t0.69%\n",
      "k = 11:\t0.00%\n",
      "k = 13:\t0.00%\n",
      "k = 15:\t0.69%\n",
      "k = 17:\t0.69%\n",
      "k = 19:\t2.08%\n",
      "k = 21:\t2.08%\n",
      "k = 23:\t2.78%\n",
      "k = 25:\t2.08%\n",
      "k = 27:\t2.08%\n",
      "k = 29:\t2.08%\n",
      "k = 31:\t2.08%\n",
      "k = 33:\t2.08%\n"
     ]
    }
   ],
   "source": [
    "def test_knn(X_train, Y_train, X_test, Y_test, k):\n",
    "    classified = knn(X_train, Y_train, X_test, k)\n",
    "    incorrect = classified != Y_test\n",
    "    return np.mean(incorrect)\n",
    "    \n",
    "X_train_39 = X_train[(Y_train == 3) | (Y_train == 9)]\n",
    "Y_train_39 = Y_train[(Y_train == 3) | (Y_train == 9)]\n",
    "X_test_39 = X_test[(Y_test == 3) | (Y_test == 9)]\n",
    "Y_test_39 = Y_test[(Y_test == 3) | (Y_test == 9)]\n",
    "    \n",
    "#for k in [1,3,5,9,17,33]:\n",
    "for k in range(1,34,2):\n",
    "    #print(f\"k = {k}:\\t{test_knn(X_train,Y_train,X_test,Y_test,k)*100:0.2f}%\")\n",
    "    print(f\"k = {k}:\\t{test_knn(X_train_39,Y_train_39,X_test_39,Y_test_39,k)*100:0.2f}%\")"
   ]
  },
  {
   "cell_type": "markdown",
   "metadata": {
    "pycharm": {
     "name": "#%% md\n"
    }
   },
   "source": [
    "## 4 Cross Validation"
   ]
  },
  {
   "cell_type": "markdown",
   "metadata": {},
   "source": [
    "<div style=\"color:green; font-weight: bold\">\n",
    "Comment: The cross_validation function is essentially the same as the one in the sample solution, except for some minor details. We created the training data from the folds without a loop by using a mask and we use a different method to calculate the error (error = np.mean(classified != test_labels))<br>\n",
    "We only ran the function for shuffled data since this was asked in the exercise, but it is interesting to see the difference.<br>\n",
    "We decided to plot the errors and times for different values of k instead of a table because it is clearer\n",
    "</div>"
   ]
  },
  {
   "cell_type": "code",
   "execution_count": 12,
   "metadata": {},
   "outputs": [
    {
     "name": "stderr",
     "output_type": "stream",
     "text": [
      "C:\\Users\\nwolf\\Anaconda3\\lib\\site-packages\\matplotlib\\figure.py:2022: UserWarning: This figure includes Axes that are not compatible with tight_layout, so results might be incorrect.\n",
      "  warnings.warn(\"This figure includes Axes that are not compatible \"\n"
     ]
    },
    {
     "data": {
      "image/png": "[encoded data removed]",
      "text/plain": [
       "<matplotlib.figure.Figure at 0x1ca034d8ef0>"
      ]
     },
     "metadata": {},
     "output_type": "display_data"
    }
   ],
   "source": [
    "from sklearn.neighbors import KNeighborsClassifier\n",
    "import time\n",
    "\n",
    "def split_folds(data, target, L):\n",
    "    permutation = np.random.permutation(len(data))\n",
    "    data_permuted = data[permutation]\n",
    "    target_permuted = target[permutation]\n",
    "    return np.array(np.array_split(data_permuted, L)), np.array(np.array_split(target_permuted, L))\n",
    "    \n",
    "def cross_validation(data, target, L, k):\n",
    "    X_folds, Y_folds = split_folds(data, target, L)\n",
    "    \n",
    "    \n",
    "    errors = np.zeros(L)\n",
    "    errors_skl = np.zeros(L)\n",
    "    \n",
    "    time_knn = time_skl = 0\n",
    "    \n",
    "    for l in range(L):\n",
    "        X_l = X_folds[l]\n",
    "        Y_l = Y_folds[l]\n",
    "        mask = np.arange(len(X_folds)) != l\n",
    "        X_rest = X_folds[np.arange(len(X_folds)) != l]\n",
    "        Y_rest = Y_folds[np.arange(len(Y_folds)) != l]\n",
    "        X_rest = np.concatenate(X_rest)\n",
    "        Y_rest = np.concatenate(Y_rest)\n",
    "        \n",
    "        start = time.time()\n",
    "        errors[l] = test_knn(X_rest, Y_rest, X_l, Y_l, k)\n",
    "        time_knn += time.time() - start\n",
    "        \n",
    "        start = time.time()\n",
    "        neigh = KNeighborsClassifier(n_neighbors=k)\n",
    "        neigh.fit(X_rest, Y_rest)\n",
    "        classified = neigh.predict(X_l)\n",
    "        incorrect_skl = classified != Y_l\n",
    "        errors_skl[l] = np.mean(incorrect_skl)\n",
    "        time_skl += time.time() - start\n",
    "    \n",
    "    return errors, errors_skl, time_knn, time_skl\n",
    "\n",
    "mean_knn = []\n",
    "std_knn = []\n",
    "mean_skl = []\n",
    "std_skl = []\n",
    "times_knn = []\n",
    "times_skl = []\n",
    "\n",
    "L_values = [i for i in range(2, 16)]\n",
    "k_values = [1, 7, 11, 33]\n",
    "for index, k in enumerate(k_values):\n",
    "    mean_knn.append([])\n",
    "    std_knn.append([])\n",
    "    mean_skl.append([])\n",
    "    std_skl.append([])\n",
    "    times_knn.append([])\n",
    "    times_skl.append([])\n",
    "    for L in L_values:\n",
    "        #print(L)\n",
    "        errors_knn, errors_skl, time_knn, time_skl = cross_validation(data, target, L, k)\n",
    "        mean_knn[index].append(np.mean(errors_knn))\n",
    "        std_knn[index].append(np.std(errors_knn))\n",
    "        mean_skl[index].append(np.mean(errors_skl))\n",
    "        std_skl[index].append(np.std(errors_skl))\n",
    "        times_knn[index].append(time_knn)\n",
    "        times_skl[index].append(time_skl)\n",
    "    \n",
    "    \n",
    "fig, axs = plt.subplots(2, 2, sharey='row', tight_layout=True, num=2, figsize=(10,10))\n",
    "axs[0,0].title.set_text(\"error for our knn\")\n",
    "axs[0,0].set_xlabel(\"L\")\n",
    "axs[0,1].title.set_text(\"error for sklearn\")\n",
    "axs[0,1].set_xlabel(\"L\")\n",
    "axs[1,0].title.set_text(\"time for our knn\")\n",
    "axs[1,0].set_xlabel(\"L\")\n",
    "axs[1,0].set_ylabel(\"time [s]\")\n",
    "axs[1,1].title.set_text(\"time for sklearn\")\n",
    "axs[1,1].set_xlabel(\"L\")\n",
    "axs[1,1].set_ylabel(\"time [s]\")\n",
    "\n",
    "for index, k in enumerate(k_values):\n",
    "\n",
    "    axs[0,0].errorbar(L_values, np.array(mean_knn[index]), yerr=np.array(std_knn[index]), label=f\"k = {k}\")\n",
    "    axs[0,1].errorbar(L_values, np.array(mean_skl[index]), yerr=np.array(std_skl[index]), label=f\"k = {k}\")\n",
    "\n",
    "    axs[1,0].scatter(L_values, np.array(times_knn[index]), label=f\"k = {k}\")\n",
    "    axs[1,1].scatter(L_values, np.array(times_skl[index]), label=f\"k = {k}\")\n",
    "    \n",
    "axs[0,0].legend()\n",
    "axs[0,1].legend()\n",
    "axs[1,0].legend()\n",
    "axs[1,1].legend()\n",
    "\n",
    "plt.show()"
   ]
  },
  {
   "cell_type": "code",
   "execution_count": null,
   "metadata": {},
   "outputs": [],
   "source": []
  }
 ],
 "metadata": {
  "kernelspec": {
   "display_name": "Python 3",
   "language": "python",
   "name": "python3"
  },
  "language_info": {
   "codemirror_mode": {
    "name": "ipython",
    "version": 3
   },
   "file_extension": ".py",
   "mimetype": "text/x-python",
   "name": "python",
   "nbconvert_exporter": "python",
   "pygments_lexer": "ipython3",
   "version": "3.6.4"
  }
 },
 "nbformat": 4,
 "nbformat_minor": 4
}
